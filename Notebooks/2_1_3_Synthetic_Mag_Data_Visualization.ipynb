{
 "cells": [
  {
   "cell_type": "markdown",
   "metadata": {},
   "source": [
    "<img src=\"./images/no_shading_vs_shading.png\" align=\"right\" alt=\"drawing\" style=\"width:400px;\"/>\n",
    "\n",
    "# 2.1.3.\tSynthetic - Magnetic Data Visualization\n",
    "\n",
    "As explained in the [Synthetic - Data Visualization section](http://toolkit.geosci.xyz/content/Demos/SyntheticVis.html#synthetic-magnetic-data-visualization), simple enhancements to magnetic grids or images can help an interpreter better visualize features within magnetic data. Applying sun-shading from various angles, experimenting with colour contrast, and adding contour lines are a simple means to explore the data initially. Various image enhancement options can be tested on the synthetic gridded magnetic data below.\n",
    "\n",
    "To run the widget, select each cell below (greyed boxes below with \"## Load all libraries...\" and \"view = Simulator.dataHillsideWidget...\") and press **[Shift+Enter]**, or select each cell and click on the **'Run'** button in the menu at the top of the notebook. ![runcell](./images/runcell_30per_ppt.PNG)\n",
    "\n",
    "## Sun-shading, color maps, and color stretch\n",
    "\n",
    "**Sun-shading**. Try using the slider bars to the left of the map - they look like this - ![sunshade](./images/shading_contours_20per_ppt.PNG) \n",
    "\n",
    "to change the direction (**SunAzimuth**) and angle (**SunAngle**) of sun shading, to vary color transparency (**ColorTransp**) and sun-shade transparency (**HSTransp**), change the vertical scale (**vScale**), and to manipulate magnetic contour lines (**Contours**).\n",
    "\n",
    "**Color maps**. The color map, or color 'look-up table', can also be changed. The color range can be clipped from the top or bottom using the slider bar labelled **'Color Range'**. ![colormap](./images/colormap_range_20per_ppt.PNG) \n",
    "\n",
    "\n",
    "**Color stretch**. Finally, the color stretch can be changed using the color normalization drop-down (Color Norm):![colornorm](./images/color_normalization_25per_ppt.PNG) A linear stretch (Linear), or a histogram equalized (HistEqualized) stretch can be chosen.    \n"
   ]
  },
  {
   "cell_type": "code",
   "execution_count": 1,
   "metadata": {},
   "outputs": [],
   "source": [
    "## Load all libraries and setup the synthetic problem\n",
    "from GeoToolkit.Mag import Mag, ProblemSetter, MathUtils, Simulator, DataIO\n",
    "import numpy as np\n",
    "\n",
    "dataGrid = DataIO.loadGeoTiffFile(\"./assets/Synthetic/DataGrid.tiff\")"
   ]
  },
  {
   "cell_type": "code",
   "execution_count": 2,
   "metadata": {},
   "outputs": [
    {
     "data": {
      "application/vnd.jupyter.widget-view+json": {
       "model_id": "e66616fe777b44de8f363cc4ac3f2ea4",
       "version_major": 2,
       "version_minor": 0
      },
      "text/html": [
       "<p>Failed to display Jupyter Widget of type <code>HBox</code>.</p>\n",
       "<p>\n",
       "  If you're reading this message in the Jupyter Notebook or JupyterLab Notebook, it may mean\n",
       "  that the widgets JavaScript is still loading. If this message persists, it\n",
       "  likely means that the widgets JavaScript library is either not installed or\n",
       "  not enabled. See the <a href=\"https://ipywidgets.readthedocs.io/en/stable/user_install.html\">Jupyter\n",
       "  Widgets Documentation</a> for setup instructions.\n",
       "</p>\n",
       "<p>\n",
       "  If you're reading this message in another frontend (for example, a static\n",
       "  rendering on GitHub or <a href=\"https://nbviewer.jupyter.org/\">NBViewer</a>),\n",
       "  it may mean that your frontend doesn't currently support widgets.\n",
       "</p>\n"
      ],
      "text/plain": [
       "HBox(children=(VBox(children=(FloatSlider(value=270.0, continuous_update=False, description='SunAzimuth', max=360.0, step=5.0), FloatSlider(value=15.0, continuous_update=False, description='SunAngle', max=90.0, step=5.0), FloatSlider(value=0.9, continuous_update=False, description='ColorTransp', max=1.0, step=0.05), FloatSlider(value=0.5, continuous_update=False, description='HSTransp', max=1.0, step=0.05), FloatSlider(value=5.0, continuous_update=False, description='vScale', max=10.0, min=1.0, step=1.0), IntSlider(value=0, continuous_update=False, description='Contours', step=2), Dropdown(description='ColorMap', index=3, options=('viridis', 'plasma', 'magma', 'RdBu_r', 'Greys_r', 'jet', 'rainbow', 'pink', 'bone', 'hsv', 'nipy_spectral'), value='RdBu_r'), FloatRangeSlider(value=(-317.2247314453125, 917.1829223632812), continuous_update=False, description='Color Range', max=917.1829223632812, min=-317.2247314453125, readout_format='.1f', step=1.0), Dropdown(description='Color Normalization', index=1, options=('Linear', 'HistEqualized'), value='HistEqualized')), layout=Layout(height='600px', margin='60px 0px 0px 0px', width='35%')), Output()))"
      ]
     },
     "metadata": {},
     "output_type": "display_data"
    }
   ],
   "source": [
    "view = Simulator.dataHillsideWidget(dataGrid, saveAs='DataHillshade', dpi=300, omit=['EPSGcode','saveAs','SaveGeoTiff'])\n",
    "display(view)"
   ]
  },
  {
   "cell_type": "markdown",
   "metadata": {},
   "source": [
    " "
   ]
  }
 ],
 "metadata": {
  "kernelspec": {
   "display_name": "Python 3",
   "language": "python",
   "name": "python3"
  },
  "language_info": {
   "codemirror_mode": {
    "name": "ipython",
    "version": 3
   },
   "file_extension": ".py",
   "mimetype": "text/x-python",
   "name": "python",
   "nbconvert_exporter": "python",
   "pygments_lexer": "ipython3",
   "version": "3.6.4"
  }
 },
 "nbformat": 4,
 "nbformat_minor": 2
}
