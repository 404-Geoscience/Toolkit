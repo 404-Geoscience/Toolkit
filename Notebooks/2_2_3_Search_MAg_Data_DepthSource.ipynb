{
 "cells": [
  {
   "cell_type": "markdown",
   "metadata": {},
   "source": [
    "<a href=\"http://toolkit.geosci.xyz\"><img src=\"./images/search_tiltdepth.png\" alt=\"http://toolkit.geosci.xyz\" align=\"right\" width=\"300\"></a>\n",
    "\n",
    "# 2.2.3.\tSearch Case Study - Edge Detection and Depth to Source#\n",
    "\n",
    "Here we apply the tilt-depth method discussed in [Section 2.1.5.](http://toolkit.geosci.xyz/content/Demos/SyntheticTiltDepth.html#synthetic-edge-detection-and-depth-to-source) to the Search Phase II magnetic data. Depth can be accurately derived from the tilt angle where contacts between magnetically contrasted geological units are vertical. Because of the typically complex nature of true geological contacts, calculated depths calculated from real magnetic data sets are usually approximations. The results should always be considered in light of expected geology, and ideally should be interpreted alongside geology, topographic data, and other geophysical data and models if these data are available.\n",
    "\n",
    "Run the notebook cells below and explore tilt-depth estimation as applied to Search Phase II data, briefly introduced [here](http://toolkit.geosci.xyz/content/Demos/SearchTiltDepth.html#search-case-study-edge-detection-and-depth-to-source). As you move down the page, select each cell below (greyed boxes) and press **[Shift+Enter]**, or select each cell and click on the **'Run'** button in the menu at the top of the notebook. ![runcell](./images/runcell_30per_ppt.PNG)\n",
    "\n",
    "\n",
    "## Define a project area\n",
    "\n",
    "Let's choose a subset of data to view more closely by running the below cell. The map on the left below shows the full Search Phase II magnetic dataset with a movable 'window' outlined in black, and the map on the right shows just the data encompassed by the window. The window can be resized and moved anywhere over the data using the slider bars (East, North, Width, and Height). The default window is 30 km x 30 km in size, a size typical of surveys flown to explore magnetic responses at the exploration property, or district scale.\n",
    "\n",
    "\n"
   ]
  },
  {
   "cell_type": "code",
   "execution_count": 1,
   "metadata": {},
   "outputs": [],
   "source": [
    "## Load all libraries and setup the synthetic problem\n",
    "from GeoToolkit.Mag import Simulator, DataIO\n",
    "dataGrid = DataIO.loadGeoTiffFile(\"./assets/Search/MAG_UTM09.tiff\")"
   ]
  },
  {
   "cell_type": "code",
   "execution_count": 2,
   "metadata": {},
   "outputs": [
    {
     "data": {
      "application/vnd.jupyter.widget-view+json": {
       "model_id": "8925d4d3070e40a4bf5d73161b29ef47",
       "version_major": 2,
       "version_minor": 0
      },
      "text/html": [
       "<p>Failed to display Jupyter Widget of type <code>interactive</code>.</p>\n",
       "<p>\n",
       "  If you're reading this message in the Jupyter Notebook or JupyterLab Notebook, it may mean\n",
       "  that the widgets JavaScript is still loading. If this message persists, it\n",
       "  likely means that the widgets JavaScript library is either not installed or\n",
       "  not enabled. See the <a href=\"https://ipywidgets.readthedocs.io/en/stable/user_install.html\">Jupyter\n",
       "  Widgets Documentation</a> for setup instructions.\n",
       "</p>\n",
       "<p>\n",
       "  If you're reading this message in another frontend (for example, a static\n",
       "  rendering on GitHub or <a href=\"https://nbviewer.jupyter.org/\">NBViewer</a>),\n",
       "  it may mean that your frontend doesn't currently support widgets.\n",
       "</p>\n"
      ],
      "text/plain": [
       "interactive(children=(FloatSlider(value=669500.0, continuous_update=False, description='East', max=808600.0217485863, min=578550.0, step=50.021748586341886), FloatSlider(value=6069500.0, continuous_update=False, description='North', max=6150500.0, min=5900449.979991997, step=50.02000800320128), FloatSlider(value=30013.04915180513, continuous_update=False, description='Width', max=230050.02174858632, min=100.04349717268377, step=50.021748586341886), FloatSlider(value=30012.00480192077, continuous_update=False, description='Height', max=250050.02000800334, min=100.04001600640257, step=50.02000800320128), Text(value='./Output/MyGeoTiff', description='GeoTiff name:'), FloatText(value=26909.0, description='EPSG code:'), ToggleButton(value=False, description='Export Grid', icon='check', tooltip='Write file'), Output()), _dom_classes=('widget-interact',))"
      ]
     },
     "metadata": {},
     "output_type": "display_data"
    }
   ],
   "source": [
    "selection = Simulator.setDataExtentWidget(dataGrid, East=669500, North=6069500, nCx=600, nCy=600)\n",
    "display(selection)"
   ]
  },
  {
   "cell_type": "markdown",
   "metadata": {},
   "source": [
    "# Reduce data to the poles\n",
    "\n",
    "The depth to source estimation requires the data to be **Reduced to the pole** (RTP) prior to calculating the derivatives. Here, the data is reduced to the pole by default (RTP button is dark grey indicating it is selected)."
   ]
  },
  {
   "cell_type": "code",
   "execution_count": 3,
   "metadata": {},
   "outputs": [
    {
     "data": {
      "application/vnd.jupyter.widget-view+json": {
       "model_id": "557ebb58d6774a859d3a74c780ab0977",
       "version_major": 2,
       "version_minor": 0
      },
      "text/html": [
       "<p>Failed to display Jupyter Widget of type <code>interactive</code>.</p>\n",
       "<p>\n",
       "  If you're reading this message in the Jupyter Notebook or JupyterLab Notebook, it may mean\n",
       "  that the widgets JavaScript is still loading. If this message persists, it\n",
       "  likely means that the widgets JavaScript library is either not installed or\n",
       "  not enabled. See the <a href=\"https://ipywidgets.readthedocs.io/en/stable/user_install.html\">Jupyter\n",
       "  Widgets Documentation</a> for setup instructions.\n",
       "</p>\n",
       "<p>\n",
       "  If you're reading this message in another frontend (for example, a static\n",
       "  rendering on GitHub or <a href=\"https://nbviewer.jupyter.org/\">NBViewer</a>),\n",
       "  it may mean that your frontend doesn't currently support widgets.\n",
       "</p>\n"
      ],
      "text/plain": [
       "interactive(children=(Dropdown(description='ColorMap', index=3, options=('viridis', 'plasma', 'magma', 'RdBu_r', 'Greys_r', 'jet', 'rainbow', 'pink', 'bone', 'hsv', 'nipy_spectral'), value='RdBu_r'), FloatText(value=26909.0, description='EPSG code:', disabled=True), FloatText(value=73.0, description='Inclination angle positive downward from horizontal:', disabled=True), FloatText(value=20.0, description='Declination angle positve clockwise from North:', disabled=True), ToggleButton(value=False, description='Fetch Inc/Dec', icon='check', tooltip='Connect to NOAA API'), ToggleButton(value=True, description='Reduce to pole', icon='check', tooltip='Transform to RTP data'), Output()), _dom_classes=('widget-interact',))"
      ]
     },
     "metadata": {},
     "output_type": "display_data"
    }
   ],
   "source": [
    "dataGrid = Simulator.dataGridGeoref(selection.result, EPSGcode=26909, inc=73, dec=20, applyRTP=True, omit=['EPSGcode','inc','dec'])\n",
    "display(dataGrid)"
   ]
  },
  {
   "cell_type": "markdown",
   "metadata": {},
   "source": [
    "## Estimate Depth to Source\n",
    "\n",
    "By running the below cell, the tilt-depth is automatically calculated and displayed as colored markers superimposed on the tilt angle map. **Note: the 'depth' value here is not depth from surface, but rather distance from the magnetic sensor (or distance from observations).** In the Search data example, flight height is approximately 80 m.\n",
    "  \n",
    "Use the **'Grid Filters'** drop-down menu to choose either the tilt angle or the TMI as a background image. ![gridfiltertilt](./images/grid_filters_dropdown_tilt_50per_ppt.PNG)\n",
    "\n",
    "You can change the color map for the depth markers using the **'Depth Color'** drop-down, and you can also change the marker size using the **'Marker Size'** slider bar. ![depthcolor](./images/depthcolor_50per_ppt.png)\n",
    "\n",
    "The options to change the sun-shading azimuth, angle, and transparency, as well as the color map, are retained from the visualization notebook (notebook 2.1.3).\n",
    "\n",
    "Change the upward continuation height, or distance, using the slider bar labelled **'UpC'** (the default is 0 m, so you will need to change it to observe a change in the data): ![upwarddistSlider](./images/updist_height_upC_50per_ppt.PNG)\n",
    "\n",
    "The finished map can be exported as a located image (GeoTiff) and loaded into any software that accepts these types of files, including Google Earth Pro and ArcMap. Try it! Give your file a unique name in the **'GeoTiff name'** box, and click on the **'Export geoTiff'** button. The coordinate system the Search Phase II data files are exported in is NAD 83 UTM Zone 9, EPSG code 26909, unless a new EPSG code is specified in the EPSG code box. **If you are working online**, the exported file will be temporarily stored on the cloud in the Notebooks/Output folder accessed by clicking on the Jupyter icon (dashboard) in the top right hand corner of this notebook. \n",
    "\n",
    "![dashboard](./images/jupyter_icon_top_right_10_per_ppt.PNG)\n",
    "\n",
    "![output](./images/notebook_output_15per_ppt.png)\n",
    "\n",
    "\n",
    "[**If you have installed the Toolkit locally**](http://toolkit.geosci.xyz/content/installation.html), and you are running the notebook locally, the file will be stored in the Notebooks/Output folder on your computer.\n"
   ]
  },
  {
   "cell_type": "code",
   "execution_count": 4,
   "metadata": {},
   "outputs": [
    {
     "data": {
      "application/vnd.jupyter.widget-view+json": {
       "model_id": "1cf9d74a99144b80bad5ccf5913c3199",
       "version_major": 2,
       "version_minor": 0
      },
      "text/html": [
       "<p>Failed to display Jupyter Widget of type <code>HBox</code>.</p>\n",
       "<p>\n",
       "  If you're reading this message in the Jupyter Notebook or JupyterLab Notebook, it may mean\n",
       "  that the widgets JavaScript is still loading. If this message persists, it\n",
       "  likely means that the widgets JavaScript library is either not installed or\n",
       "  not enabled. See the <a href=\"https://ipywidgets.readthedocs.io/en/stable/user_install.html\">Jupyter\n",
       "  Widgets Documentation</a> for setup instructions.\n",
       "</p>\n",
       "<p>\n",
       "  If you're reading this message in another frontend (for example, a static\n",
       "  rendering on GitHub or <a href=\"https://nbviewer.jupyter.org/\">NBViewer</a>),\n",
       "  it may mean that your frontend doesn't currently support widgets.\n",
       "</p>\n"
      ],
      "text/plain": [
       "HBox(children=(VBox(children=(FloatSlider(value=270.0, continuous_update=False, description='SunAzimuth', max=360.0, step=5.0), FloatSlider(value=15.0, continuous_update=False, description='SunAngle', max=90.0, step=5.0), FloatSlider(value=0.9, continuous_update=False, description='ColorTransp', max=1.0, step=0.05), FloatSlider(value=0.5, continuous_update=False, description='HSTransp', max=1.0, step=0.05), FloatSlider(value=5.0, continuous_update=False, description='vScale', max=10.0, min=1.0, step=1.0), Dropdown(description='ColorMap', index=4, options=('viridis', 'plasma', 'magma', 'RdBu_r', 'Greys_r', 'jet', 'rainbow', 'pink', 'bone', 'hsv', 'nipy_spectral'), value='Greys_r'), Dropdown(description='Grid Filters', index=1, options=('TMI', 'tiltAngle'), value='tiltAngle'), FloatSlider(value=0.0, continuous_update=False, description='UpC Height', max=200.0, step=10.0), Dropdown(description='Depth Color', options=('viridis', 'plasma', 'magma', 'RdBu_r', 'Greys_r', 'jet', 'rainbow', 'pink', 'bone', 'hsv', 'nipy_spectral'), value='viridis'), FloatSlider(value=1.0, continuous_update=False, description='Marker Size', max=10.0, min=0.1), Text(value='./Output/MyGeoTiff', description='GeoTiff name:'), FloatText(value=26909.0, description='EPSG code:'), ToggleButton(value=False, description='Export GeoTiff', icon='check', tooltip='Description'), Text(value='./Output/EstimatedDepth', description='Shapefile name:'), ToggleButton(value=False, description='Export Shapefile', icon='check', tooltip='Description')), layout=Layout(height='600px', margin='60px 0px 0px 0px', width='35%')), Output()))"
      ]
     },
     "metadata": {},
     "output_type": "display_data"
    }
   ],
   "source": [
    "view = Simulator.gridTilt2Depth(dataGrid.result, ColorMap='Greys_r')\n",
    "display(view)"
   ]
  },
  {
   "cell_type": "markdown",
   "metadata": {},
   "source": [
    "  "
   ]
  }
 ],
 "metadata": {
  "kernelspec": {
   "display_name": "Python 3",
   "language": "python",
   "name": "python3"
  },
  "language_info": {
   "codemirror_mode": {
    "name": "ipython",
    "version": 3
   },
   "file_extension": ".py",
   "mimetype": "text/x-python",
   "name": "python",
   "nbconvert_exporter": "python",
   "pygments_lexer": "ipython3",
   "version": "3.6.4"
  }
 },
 "nbformat": 4,
 "nbformat_minor": 2
}
