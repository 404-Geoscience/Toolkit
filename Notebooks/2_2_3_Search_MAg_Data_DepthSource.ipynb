{
 "cells": [
  {
   "cell_type": "markdown",
   "metadata": {},
   "source": [
    "# 2.2.3.\tSearch Case Study - Edge Detection and Depth to Source#\n",
    "\n",
    "Here we apply the tilt-depth method discussed in Notebook 2.1.5. to estimate depth to source in the Search Phase II magnetic data. Depth can be accurately derived from the tilt angle where contacts between magnetically contrasted geological units are vertical. Because of the typically complex nature of true geological contacts, calculated depths calculated from real magnetic data sets are usually approximations. The results should always be considered in light of expected geology, and ideally should be interpreted alongside geology, topographic data, and other geophysical data and models if these data are available.\n",
    "\n",
    "To run the notebook cells below, select the cell, and press Shift+Enter, or click on the 'Run' button in the menu at the top of the notebook. ![runcell](./images/runcell_30per_ppt.PNG)\n"
   ]
  },
  {
   "cell_type": "code",
   "execution_count": null,
   "metadata": {},
   "outputs": [],
   "source": [
    "## Load all libraries and setup the synthetic problem\n",
    "from GeoToolkit.Mag import Simulator, DataIO\n",
    "dataGrid = DataIO.loadGeoTiffFile(\"./assets/Search/MAG_UTM09.tiff\")"
   ]
  },
  {
   "cell_type": "markdown",
   "metadata": {},
   "source": [
    "## Define a project area\n",
    "\n",
    "Let's choose a subset of data to view more closely. The map on the left below shows the full Search Phase II magnetic dataset with a movable 'window' outlined in black, and the map on the right shows just the data encompassed by the window. The window can be resized and moved anywhere over the data using the slider bars (East, North, Width, and Height). The default window is 30 km x 30 km in size, a size typical of surveys flown to explore magnetic responses at the exploration property, or district scale."
   ]
  },
  {
   "cell_type": "code",
   "execution_count": null,
   "metadata": {},
   "outputs": [],
   "source": [
    "selection = Simulator.setDataExtentWidget(dataGrid, East=669500, North=6069500, nCx=600, nCy=600)\n",
    "display(selection)"
   ]
  },
  {
   "cell_type": "code",
   "execution_count": null,
   "metadata": {},
   "outputs": [],
   "source": [
    "dataGrid = Simulator.dataGridGeoref(selection.result, EPSGcode=26909, inc=73, dec=20, applyRTP=True, omit=['EPSGcode','inc','dec'])\n",
    "display(dataGrid)"
   ]
  },
  {
   "cell_type": "markdown",
   "metadata": {},
   "source": [
    "## Estimate Depth to Source\n",
    "\n",
    "By running the below cell, the tilt-depth is automatically calculated and displayed as colored markers superimposed on the tilt angle map. **Note: the 'depth' value here is not depth from surface, but rather distance from the magnetic sensor (or distance from observations).** In the Search example, flight height is approximately 80 m.\n",
    "  \n",
    "Use the **'Grid Filters'** drop-down menu to choose either the tilt angle or the TMI as a background image. ![gridfiltertilt](./images/grid_filters_dropdown_tilt_50per_ppt.PNG)\n",
    "\n",
    "You can change the color map for the depth markers using the **'Depth Color'** drop-down, and you can also change the marker size using the **'Marker Size'** slider bar. ![depthcolor](./images/depthcolor_50per_ppt.png)\n",
    "\n",
    "The options to change the sun-shading azimuth, angle, and transparency, as well as the color map, are retained from the visualization notebook (notebook 2.1.3).\n",
    "\n",
    "Change the upward continuation height, or distance, using the slider bar labelled **'UpC'** (the default is 0 m, so you will need to change it to observe a change in the data): ![upwarddistSlider](./images/updist_height_upC_50per_ppt.PNG)\n",
    "\n",
    "This grid can be exported as a located image (geoTiff) and loaded into any software that accepts these types of files, including Google Earth and ArcMap. Try it! Click on the 'Export GeoTiff' button. The tilt angle contours defining magnetic source edges and carrying depth data can be exported as a Shapefile using the 'Export Shapefile' button. The coordinate system the Search Phase II data files are exported in is NAD 83 UTM Zone 9, EPSG code 3156, unless a new EPSG code is specified in the EPSG code box. \n",
    "\n",
    "**To use the image in GoogleEarth, export with EPSG=4326**\n"
   ]
  },
  {
   "cell_type": "code",
   "execution_count": null,
   "metadata": {},
   "outputs": [],
   "source": [
    "view = Simulator.gridTilt2Depth(dataGrid.result, ColorMap='Greys_r')\n",
    "display(view)"
   ]
  },
  {
   "cell_type": "markdown",
   "metadata": {},
   "source": [
    "  "
   ]
  }
 ],
 "metadata": {
  "kernelspec": {
   "display_name": "Python 3",
   "language": "python",
   "name": "python3"
  },
  "language_info": {
   "codemirror_mode": {
    "name": "ipython",
    "version": 3
   },
   "file_extension": ".py",
   "mimetype": "text/x-python",
   "name": "python",
   "nbconvert_exporter": "python",
   "pygments_lexer": "ipython3",
   "version": "3.6.5"
  }
 },
 "nbformat": 4,
 "nbformat_minor": 2
}
