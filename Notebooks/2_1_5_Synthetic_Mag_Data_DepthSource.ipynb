{
 "cells": [
  {
   "cell_type": "markdown",
   "metadata": {},
   "source": [
    "<img src=\"./images/tilt_synthetic_edges_depths_grey.PNG\" align=\"right\" alt=\"drawing\" style=\"width:300px;\"/>\n",
    "\n",
    "# 2.1.5.\tSynthetic - Edge Detection and Depth to Source#\n",
    "\n",
    "\n",
    "In this notebook, we will find the edges and depths of both the small high magnetic susceptibility body and the larger magnetic block in the 3D synthetic geologic model. We will use the **tilt-depth method** described in the [Synthetic - Edge Detection and Depth to Source section](http://toolkit.geosci.xyz/content/Demos/SyntheticTiltDepth.html#synthetic-edge-detection-and-depth-to-source). Depth can be estimated where the tilt angle is zero, at the edge or margin of a feature or source. Depth to the edge of a source is then approximately half the distance between the +45 degree and -45 degree contours of the calculated tilt angle.\n",
    "\n",
    "Inclination must be 90, thus reduced to pole data is used in this calculation. This method assumes that the magnetic body is simple and also vertically-sided, which means that the depth estimation will be less accurate for dipping bodies or bodies with complex margins. \n",
    "\n",
    "## Tilt-depth\n",
    "\n",
    "By running the below cell, the tilt-depth is automatically calculated and displayed as colored markers superimposed on the tilt angle map. **Note: the 'depth' value here is not depth from surface, but rather distance from the magnetic sensor (or distance from observations).** In this synthetic example, the observation height is 0 m on average.  \n",
    "  \n",
    "Use the **'Grid Filters'** drop-down menu to choose either the tilt angle or the TMI as a background image. ![gridfiltertilt](./images/grid_filters_dropdown_tilt_50per_ppt.PNG)\n",
    "\n",
    "You can change the color map for the depth markers using the **'Depth Color'** drop-down, and you can also change the marker size using the **'Marker Size'** slider bar. ![depthcolor](./images/depthcolor_50per_ppt.png)\n",
    "\n",
    "The options to change the sun-shading azimuth, angle, and transparency, as well as the color map, are retained from the visualization notebook (notebook 2.1.3).\n",
    "\n",
    "Change the upward continuation height, or distance, using the slider bar labelled **'UpC'** (the default is 0 m, so you will need to change it to observe a change in the data): ![upwarddistSlider](./images/updist_height_upC_50per_ppt.PNG)\n",
    "\n",
    "To run the notebook cells below, select the cell, and press **[Shift+Enter]**, or click on the **'Run'** button in the menu at the top of the notebook. ![runcell](./images/runcell_30per_ppt.PNG)\n"
   ]
  },
  {
   "cell_type": "code",
   "execution_count": 1,
   "metadata": {},
   "outputs": [],
   "source": [
    "## Load all libraries and setup the synthetic problem\n",
    "from GeoToolkit.Mag import Simulator, DataIO\n",
    "dataGrid = DataIO.loadGeoTiffFile(\"./assets/Synthetic/DataGrid.tiff\")"
   ]
  },
  {
   "cell_type": "code",
   "execution_count": 2,
   "metadata": {},
   "outputs": [
    {
     "data": {
      "application/vnd.jupyter.widget-view+json": {
       "model_id": "8861736746c1453badb09b4ffcd8f240",
       "version_major": 2,
       "version_minor": 0
      },
      "text/html": [
       "<p>Failed to display Jupyter Widget of type <code>HBox</code>.</p>\n",
       "<p>\n",
       "  If you're reading this message in the Jupyter Notebook or JupyterLab Notebook, it may mean\n",
       "  that the widgets JavaScript is still loading. If this message persists, it\n",
       "  likely means that the widgets JavaScript library is either not installed or\n",
       "  not enabled. See the <a href=\"https://ipywidgets.readthedocs.io/en/stable/user_install.html\">Jupyter\n",
       "  Widgets Documentation</a> for setup instructions.\n",
       "</p>\n",
       "<p>\n",
       "  If you're reading this message in another frontend (for example, a static\n",
       "  rendering on GitHub or <a href=\"https://nbviewer.jupyter.org/\">NBViewer</a>),\n",
       "  it may mean that your frontend doesn't currently support widgets.\n",
       "</p>\n"
      ],
      "text/plain": [
       "HBox(children=(VBox(children=(FloatSlider(value=270.0, continuous_update=False, description='SunAzimuth', max=360.0, step=5.0), FloatSlider(value=15.0, continuous_update=False, description='SunAngle', max=90.0, step=5.0), FloatSlider(value=0.9, continuous_update=False, description='ColorTransp', max=1.0, step=0.05), FloatSlider(value=0.0, continuous_update=False, description='HSTransp', max=1.0, step=0.05), FloatSlider(value=5.0, continuous_update=False, description='vScale', max=10.0, min=1.0, step=1.0), Dropdown(description='ColorMap', index=4, options=('viridis', 'plasma', 'magma', 'RdBu_r', 'Greys_r', 'jet', 'rainbow', 'pink', 'bone', 'hsv', 'nipy_spectral'), value='Greys_r'), Dropdown(description='Grid Filters', index=1, options=('TMI', 'tiltAngle'), value='tiltAngle'), FloatSlider(value=0.0, continuous_update=False, description='UpC Height', max=200.0, step=10.0), Dropdown(description='Depth Color', options=('viridis', 'plasma', 'magma', 'RdBu_r', 'Greys_r', 'jet', 'rainbow', 'pink', 'bone', 'hsv', 'nipy_spectral'), value='viridis'), FloatSlider(value=1.0, continuous_update=False, description='Marker Size', max=10.0, min=0.1)), layout=Layout(height='600px', margin='60px 0px 0px 0px', width='35%')), Output()))"
      ]
     },
     "metadata": {},
     "output_type": "display_data"
    }
   ],
   "source": [
    "view = Simulator.gridTilt2Depth(dataGrid, HSTransp=0, ColorMap='Greys_r', shapeFile='./assets/Synthetic/Synthetic_Zcontours.shp', omit=['GridFileName', \"EPSGcode\", 'SaveGrid', 'ShapeFileName', 'SaveShape'])\n",
    "display(view)"
   ]
  },
  {
   "cell_type": "markdown",
   "metadata": {},
   "source": [
    "  "
   ]
  }
 ],
 "metadata": {
  "kernelspec": {
   "display_name": "Python 3",
   "language": "python",
   "name": "python3"
  },
  "language_info": {
   "codemirror_mode": {
    "name": "ipython",
    "version": 3
   },
   "file_extension": ".py",
   "mimetype": "text/x-python",
   "name": "python",
   "nbconvert_exporter": "python",
   "pygments_lexer": "ipython3",
   "version": "3.6.4"
  }
 },
 "nbformat": 4,
 "nbformat_minor": 2
}
