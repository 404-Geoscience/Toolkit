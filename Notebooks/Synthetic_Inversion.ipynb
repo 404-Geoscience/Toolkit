{
 "cells": [
  {
   "cell_type": "code",
   "execution_count": 1,
   "metadata": {
    "scrolled": false
   },
   "outputs": [
    {
     "data": {
      "text/plain": [
       "<matplotlib.figure.Figure at 0x1c8efcafb70>"
      ]
     },
     "metadata": {},
     "output_type": "display_data"
    }
   ],
   "source": [
    "## Load all libraries and setup the synthetic problem\n",
    "from library.Mag import Mag, ProblemSetter, MathUtils, Simulator, DataIO\n",
    "import numpy as np\n",
    "from SimPEG import PF, Utils, Mesh, Maps\n",
    "from SimPEG import Utils\n",
    "from SimPEG.Utils import mkvc\n",
    "import SimPEG.PF as PF\n",
    "import scipy as sp\n",
    "import re\n",
    "import matplotlib.pyplot as plt\n",
    "from matplotlib.patches import Rectangle\n",
    "import matplotlib.pyplot as plt\n",
    "import ipywidgets as widgets\n",
    "\n",
    "# Load data and topo and build default model\n",
    "workDir = ''\n",
    "fName = 'DataGrid.tiff'\n",
    "\n",
    "dataGrid = DataIO.loadGeoTiffFile(workDir+fName, plotIt=True)"
   ]
  },
  {
   "cell_type": "markdown",
   "metadata": {},
   "source": [
    "## Invert the data\n"
   ]
  },
  {
   "cell_type": "code",
   "execution_count": 2,
   "metadata": {},
   "outputs": [
    {
     "data": {
      "application/vnd.jupyter.widget-view+json": {
       "model_id": "92e6a73040ac4727827f15fb241b774c",
       "version_major": 2,
       "version_minor": 0
      },
      "text/html": [
       "<p>Failed to display Jupyter Widget of type <code>interactive</code>.</p>\n",
       "<p>\n",
       "  If you're reading this message in the Jupyter Notebook or JupyterLab Notebook, it may mean\n",
       "  that the widgets JavaScript is still loading. If this message persists, it\n",
       "  likely means that the widgets JavaScript library is either not installed or\n",
       "  not enabled. See the <a href=\"https://ipywidgets.readthedocs.io/en/stable/user_install.html\">Jupyter\n",
       "  Widgets Documentation</a> for setup instructions.\n",
       "</p>\n",
       "<p>\n",
       "  If you're reading this message in another frontend (for example, a static\n",
       "  rendering on GitHub or <a href=\"https://nbviewer.jupyter.org/\">NBViewer</a>),\n",
       "  it may mean that your frontend doesn't currently support widgets.\n",
       "</p>\n"
      ],
      "text/plain": [
       "interactive(children=(FloatSlider(value=-10.036722527700476, continuous_update=False, description='East', max=2539.9632774722995, min=-2560.0367225277005, step=10.0), FloatSlider(value=-28.5773809524253, continuous_update=False, description='North', max=2771.4226190475747, min=-2828.5773809524253, step=10.0), FloatSlider(value=90.0, continuous_update=False, description='Azimuth', max=180.0, step=5.0), FloatSlider(value=1893.5746618499097, continuous_update=False, description='Length', max=3787.1493236998194, min=20.0, step=20.0), BoundedFloatText(value=100.0, description='Sampling', max=1000.0, min=10.0, step=5.0), Output()), _dom_classes=('widget-interact',))"
      ]
     },
     "metadata": {},
     "output_type": "display_data"
    }
   ],
   "source": [
    "Simulator.ViewMagSurveyWidget(dataGrid)"
   ]
  },
  {
   "cell_type": "code",
   "execution_count": 3,
   "metadata": {},
   "outputs": [
    {
     "ename": "AttributeError",
     "evalue": "'TreeMesh' object has no attribute 'insert_cells'",
     "output_type": "error",
     "traceback": [
      "\u001b[1;31m---------------------------------------------------------------------------\u001b[0m",
      "\u001b[1;31mAttributeError\u001b[0m                            Traceback (most recent call last)",
      "\u001b[1;32m<ipython-input-3-616ced9878fe>\u001b[0m in \u001b[0;36m<module>\u001b[1;34m()\u001b[0m\n\u001b[0;32m     24\u001b[0m                    verticalAlignment='center')\n\u001b[0;32m     25\u001b[0m \u001b[1;33m\u001b[0m\u001b[0m\n\u001b[1;32m---> 26\u001b[1;33m \u001b[0mProblemSetter\u001b[0m\u001b[1;33m.\u001b[0m\u001b[0mrefineTree\u001b[0m\u001b[1;33m(\u001b[0m\u001b[0mmesh\u001b[0m\u001b[1;33m,\u001b[0m \u001b[0mxyzLoc\u001b[0m\u001b[1;33m,\u001b[0m \u001b[0mfinalize\u001b[0m\u001b[1;33m=\u001b[0m\u001b[1;32mTrue\u001b[0m\u001b[1;33m,\u001b[0m \u001b[0mdtype\u001b[0m\u001b[1;33m=\u001b[0m\u001b[1;34m\"surface\"\u001b[0m\u001b[1;33m,\u001b[0m \u001b[0mnCpad\u001b[0m\u001b[1;33m=\u001b[0m\u001b[1;33m[\u001b[0m\u001b[1;36m3\u001b[0m\u001b[1;33m,\u001b[0m \u001b[1;36m3\u001b[0m\u001b[1;33m,\u001b[0m \u001b[1;36m3\u001b[0m\u001b[1;33m]\u001b[0m\u001b[1;33m)\u001b[0m\u001b[1;33m\u001b[0m\u001b[0m\n\u001b[0m\u001b[0;32m     27\u001b[0m \u001b[1;33m\u001b[0m\u001b[0m\n\u001b[0;32m     28\u001b[0m \u001b[0mactv\u001b[0m \u001b[1;33m=\u001b[0m \u001b[0mUtils\u001b[0m\u001b[1;33m.\u001b[0m\u001b[0mmodelutils\u001b[0m\u001b[1;33m.\u001b[0m\u001b[0msurface2ind_topo\u001b[0m\u001b[1;33m(\u001b[0m\u001b[0mmesh\u001b[0m\u001b[1;33m,\u001b[0m \u001b[0mtopo\u001b[0m\u001b[1;33m,\u001b[0m \u001b[0mgridLoc\u001b[0m\u001b[1;33m=\u001b[0m\u001b[1;34m'CC'\u001b[0m\u001b[1;33m,\u001b[0m \u001b[0mmethod\u001b[0m\u001b[1;33m=\u001b[0m\u001b[1;34m'nearest'\u001b[0m\u001b[1;33m)\u001b[0m\u001b[1;33m\u001b[0m\u001b[0m\n",
      "\u001b[1;32m~\\Documents\\Git\\Toolkit\\library\\Mag\\ProblemSetter.py\u001b[0m in \u001b[0;36mrefineTree\u001b[1;34m(mesh, xyz, finalize, dtype, nCpad)\u001b[0m\n\u001b[0;32m    446\u001b[0m             \u001b[1;32mfor\u001b[0m \u001b[0mlevel\u001b[0m \u001b[1;32min\u001b[0m \u001b[0mrange\u001b[0m\u001b[1;33m(\u001b[0m\u001b[0mint\u001b[0m\u001b[1;33m(\u001b[0m\u001b[0mnCpad\u001b[0m\u001b[1;33m[\u001b[0m\u001b[0mii\u001b[0m\u001b[1;33m]\u001b[0m\u001b[1;33m)\u001b[0m\u001b[1;33m)\u001b[0m\u001b[1;33m:\u001b[0m\u001b[1;33m\u001b[0m\u001b[0m\n\u001b[0;32m    447\u001b[0m \u001b[1;33m\u001b[0m\u001b[0m\n\u001b[1;32m--> 448\u001b[1;33m                 mesh.insert_cells(\n\u001b[0m\u001b[0;32m    449\u001b[0m                     \u001b[0mnp\u001b[0m\u001b[1;33m.\u001b[0m\u001b[0mc_\u001b[0m\u001b[1;33m[\u001b[0m\u001b[0mmkvc\u001b[0m\u001b[1;33m(\u001b[0m\u001b[0mCCx\u001b[0m\u001b[1;33m)\u001b[0m\u001b[1;33m,\u001b[0m \u001b[0mmkvc\u001b[0m\u001b[1;33m(\u001b[0m\u001b[0mCCy\u001b[0m\u001b[1;33m)\u001b[0m\u001b[1;33m,\u001b[0m \u001b[0mz\u001b[0m\u001b[1;33m-\u001b[0m\u001b[0mzOffset\u001b[0m\u001b[1;33m]\u001b[0m\u001b[1;33m,\u001b[0m \u001b[0mnp\u001b[0m\u001b[1;33m.\u001b[0m\u001b[0mones_like\u001b[0m\u001b[1;33m(\u001b[0m\u001b[0mz\u001b[0m\u001b[1;33m)\u001b[0m\u001b[1;33m*\u001b[0m\u001b[0mmaxLevel\u001b[0m\u001b[1;33m-\u001b[0m\u001b[0mii\u001b[0m\u001b[1;33m,\u001b[0m\u001b[1;33m\u001b[0m\u001b[0m\n\u001b[0;32m    450\u001b[0m                     \u001b[0mfinalize\u001b[0m\u001b[1;33m=\u001b[0m\u001b[1;32mFalse\u001b[0m\u001b[1;33m\u001b[0m\u001b[0m\n",
      "\u001b[1;31mAttributeError\u001b[0m: 'TreeMesh' object has no attribute 'insert_cells'"
     ]
    }
   ],
   "source": [
    "# Wrap the inversion inside a function\n",
    "xLoc = np.asarray(range(dataGrid.nx))*dataGrid.dx+dataGrid.limits[0]\n",
    "yLoc = np.asarray(range(dataGrid.ny))*dataGrid.dy+dataGrid.limits[2]\n",
    "XX,YY = np.meshgrid(xLoc,yLoc)\n",
    "\n",
    "xyzLoc = np.c_[mkvc(XX), mkvc(YY), mkvc(XX**0.)*40.]\n",
    "\n",
    "topo = xyzLoc.copy()\n",
    "topo[:,2] -= 40\n",
    "\n",
    "\n",
    "# I want 10 m cells in x, y and z covering our survey\n",
    "h = np.r_[50., 50., 50.]\n",
    "\n",
    "# Also need to paddout far enough in case there is a regional field\n",
    "# Here I am sending distances N, S, E, W, above and below all at once\n",
    "# Let's say 200 m padding\n",
    "padDist = np.ones((3,2))*1000.\n",
    "\n",
    "mesh = ProblemSetter.meshBuilder(xyzLoc, h, padDist,\n",
    "                   meshGlobal=None,\n",
    "                   expFact=1.3,\n",
    "                   meshType='TREE',\n",
    "                   verticalAlignment='center')\n",
    "\n",
    "ProblemSetter.refineTree(mesh, xyzLoc, finalize=True, dtype=\"surface\", nCpad=[3, 3, 3])\n",
    "\n",
    "actv = Utils.modelutils.surface2ind_topo(mesh, topo, gridLoc='CC', method='nearest')\n",
    "nC = int(np.sum(actv))"
   ]
  },
  {
   "cell_type": "code",
   "execution_count": null,
   "metadata": {},
   "outputs": [],
   "source": [
    "\n",
    "\n",
    "H = [50000, 90, 0]\n",
    "\n",
    "# Create the survey\n",
    "rx = PF.BaseMag.RxObs(xyzLoc)\n",
    "srcField = PF.BaseMag.SrcField([rx], param=H)\n",
    "survey = PF.BaseMag.LinearSurvey(srcField)\n",
    "survey.dobs = mkvc(dataGrid.values)\n",
    "\n",
    "# Creat reduced identity map\n",
    "idenMap = Maps.IdentityMap(nP=3*nC)\n",
    "\n",
    "# Create the forward model operator\n",
    "prob = PF.Magnetics.MagneticVector(mesh, chiMap=idenMap,\n",
    "                                     actInd=actv)\n",
    "# Pair the survey and problem\n",
    "survey.pair(prob)"
   ]
  },
  {
   "cell_type": "code",
   "execution_count": null,
   "metadata": {},
   "outputs": [],
   "source": [
    "from SimPEG import Regularization, DataMisfit, Inversion, Directives, Optimization, InvProblem\n",
    "# This Mapping connects all the regularizations together\n",
    "wires = Maps.Wires(('p', nC), ('s', nC), ('t', nC))\n",
    "\n",
    "# Create sensitivity weights from our linear forward operator\n",
    "# so that all cells get equal chance to contribute to the solution\n",
    "wr = np.sum(prob.G**2., axis=0)**0.5\n",
    "wr = (wr/np.max(wr))\n",
    "\n",
    "\n",
    "# Create three regularization for the different components\n",
    "# of magnetization\n",
    "reg_p = Regularization.Sparse(mesh, indActive=actv, mapping=wires.p)\n",
    "reg_p.cell_weights = (wires.p * wr)\n",
    "reg_p.mref = np.zeros(3*nC)\n",
    "\n",
    "reg_s = Regularization.Sparse(mesh, indActive=actv, mapping=wires.s)\n",
    "reg_s.cell_weights = (wires.s * wr)\n",
    "reg_s.mref = np.zeros(3*nC)\n",
    "\n",
    "reg_t = Regularization.Sparse(mesh, indActive=actv, mapping=wires.t)\n",
    "reg_t.cell_weights = (wires.t * wr)\n",
    "reg_t.mref = np.zeros(3*nC)\n",
    "\n",
    "reg = reg_p + reg_s + reg_t\n",
    "reg.mref = np.zeros(3*nC)\n",
    "\n",
    "# Data misfit function\n",
    "dmis = DataMisfit.l2_DataMisfit(survey)\n",
    "dmis.W = survey.dobs**0. * 1e-1\n",
    "\n",
    "# Choose a solver\n",
    "opt = Optimization.ProjectedGNCG(maxIter=7, lower=-10., upper=10.,\n",
    "                                 maxIterCG=20, tolCG=1e-3)\n",
    "\n",
    "# The inverse problem needs to how the misfit, regularizer and solver\n",
    "invProb = InvProblem.BaseInvProblem(dmis, reg, opt)\n",
    "\n",
    "# Add directives to the inversion\n",
    "betaest = Directives.BetaEstimate_ByEig()\n",
    "\n",
    "# Here is where the norms are applied usually\n",
    "IRLS = Directives.Update_IRLS(f_min_change=1e-3,\n",
    "                              minGNiter=1)\n",
    "\n",
    "update_Jacobi = Directives.UpdateJacobiPrecond()\n",
    "targetMisfit = Directives.TargetMisfit()\n",
    "\n",
    "# Create active map to go from reduce set to full\n",
    "actvMap = Maps.InjectActiveCells(mesh, actv, 0)\n",
    "# saveModel = Directives.SaveUBCModelEveryIteration(mapping=actvMap)\n",
    "# saveModel.fileName = 'MVI_C'\n",
    "\n",
    "# Connect all the pieces together\n",
    "inv = Inversion.BaseInversion(invProb,\n",
    "                              directiveList=[betaest, IRLS, update_Jacobi,\n",
    "                                            ])\n",
    "\n",
    "# Invert with a starting model\n",
    "mstart = np.ones(3*nC) * 1e-4\n",
    "mrec_MVI = inv.run(mstart)"
   ]
  },
  {
   "cell_type": "code",
   "execution_count": null,
   "metadata": {},
   "outputs": [],
   "source": [
    "np.mean([mesh.gridCC[:,1].max(), mesh.gridCC[:,1].min()])"
   ]
  },
  {
   "cell_type": "code",
   "execution_count": null,
   "metadata": {},
   "outputs": [],
   "source": [
    "fileName = 'Recovered_Model_l2Norm.png'\n",
    "actvMap = Maps.InjectActiveCells(mesh, actv, np.nan)\n",
    "fig, axs = plt.figure(), plt.subplot()\n",
    "amp = np.sum(invProb.model.reshape((nC,3),order='F')**2., axis=1)**0.5\n",
    "mesh.plotSlice(actvMap*amp, normal='Y', ind=65, ax=axs)\n",
    "\n",
    "axs.set_xlim([-18000, -16000])\n",
    "axs.set_ylim([-1500, 0])\n",
    "axs.set_aspect('equal')"
   ]
  },
  {
   "cell_type": "code",
   "execution_count": null,
   "metadata": {},
   "outputs": [],
   "source": [
    "mesh.h_gridded"
   ]
  },
  {
   "cell_type": "code",
   "execution_count": null,
   "metadata": {},
   "outputs": [],
   "source": []
  }
 ],
 "metadata": {
  "kernelspec": {
   "display_name": "Python 3",
   "language": "python",
   "name": "python3"
  },
  "language_info": {
   "codemirror_mode": {
    "name": "ipython",
    "version": 3
   },
   "file_extension": ".py",
   "mimetype": "text/x-python",
   "name": "python",
   "nbconvert_exporter": "python",
   "pygments_lexer": "ipython3",
   "version": "3.6.4"
  }
 },
 "nbformat": 4,
 "nbformat_minor": 2
}
