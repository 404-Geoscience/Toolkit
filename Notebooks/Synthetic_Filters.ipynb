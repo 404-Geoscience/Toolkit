{
 "cells": [
  {
   "cell_type": "code",
   "execution_count": 1,
   "metadata": {
    "scrolled": false
   },
   "outputs": [
    {
     "data": {
      "text/plain": [
       "<Figure size 800x800 with 2 Axes>"
      ]
     },
     "metadata": {},
     "output_type": "display_data"
    }
   ],
   "source": [
    "## Load all libraries and setup the synthetic problem\n",
    "from library.Mag import Mag, ProblemSetter, MathUtils, Simulator, DataIO\n",
    "import numpy as np\n",
    "from SimPEG import PF, Utils, Mesh, Maps\n",
    "from SimPEG import Utils\n",
    "from SimPEG.Utils import mkvc\n",
    "import SimPEG.PF as PF\n",
    "import scipy as sp\n",
    "import re\n",
    "import matplotlib.pyplot as plt\n",
    "from matplotlib.patches import Rectangle\n",
    "import matplotlib.pyplot as plt\n",
    "import ipywidgets as widgets\n",
    "\n",
    "# Load data and topo and build default model\n",
    "fName = 'DataGrid.tiff'\n",
    "\n",
    "dataGrid = DataIO.loadGeoTiffFile(fName, plotIt=True)"
   ]
  },
  {
   "cell_type": "markdown",
   "metadata": {},
   "source": [
    "# 2.1.2.\t2D Magnetic Data Filters#\n",
    "\n",
    "\n",
    "2D magnetic data filters are commonly applied to magnetic data to allow us to view that data in different ways. They can highlight shallower or deeper magnetic sources, and can emphasize gradients in the magnetic data that occur at geological contacts and in association with structure.\n",
    "\n",
    "We use the same synthetic model here as in the previous notebook to demonstrate the effects of various 2D magnetic filters.\n",
    "\n"
   ]
  },
  {
   "cell_type": "markdown",
   "metadata": {},
   "source": [
    "## Total magnetic intensity data\n",
    "\n",
    "The below image show the total magnetic intensity (TMI) that was calculated from the synthetic geologic model. The response is based on magnetic field parameters at the north pole, in other words, the magnetic field is vertical.  "
   ]
  },
  {
   "cell_type": "markdown",
   "metadata": {},
   "source": [
    "## X and Y derivatives of the magnetic response\n",
    "\n",
    "Calculating horizontal and vertical derivatives of the magnetic response gives us a way to better visualize local gradients in the data that can be obscured by larger and deeper features in the total field response. X and Y derivatives are calculated based on the difference observed in magnetic response between adjacent points, or grid cells, in the X and Y directions, respectively. Steep gradients usually occur at geologic contacts, faults, or fractures, where there is a distinct contrast in magnetic susceptibility. Interpreters should not consider X and Y derivative results independently, and should be sure to evaluate both, since visualizing gradients in one direction will de-emphasize features trending in the perpendicular direction. The X and Y derivatives are also used in the calculation of several other magnetic data filters.\n",
    "\n",
    "Grids showing the X and Y derivatives are shown below. Note the emphases on east and west geological boundaries using the X derivative, and on the north and south geological boundaries using the Y derivative (best seen in relation to the smaller magnetic anomaly). Image sun-shading and color can be varied, and the filtered data can be compared with the original total mangetic intensity (TMI) data using the 'Grid Filters' drop-down menu. "
   ]
  },
  {
   "cell_type": "code",
   "execution_count": 2,
   "metadata": {},
   "outputs": [],
   "source": [
    "survey = dataGrid\n",
    "xLoc = np.asarray(range(survey.nx))*survey.dx+survey.limits[0]\n",
    "yLoc = np.asarray(range(survey.ny))*survey.dy+survey.limits[2]\n",
    "xlim = survey.limits[:2]\n",
    "ylim = survey.limits[2:]"
   ]
  },
  {
   "cell_type": "code",
   "execution_count": 3,
   "metadata": {
    "scrolled": false
   },
   "outputs": [
    {
     "data": {
      "application/vnd.jupyter.widget-view+json": {
       "model_id": "85c6d55825ec4817936ef6891fd2a970",
       "version_major": 2,
       "version_minor": 0
      },
      "text/plain": [
       "interactive(children=(FloatSlider(value=0.0, continuous_update=False, description='SunAzimuth', max=360.0, ste…"
      ]
     },
     "metadata": {},
     "output_type": "display_data"
    }
   ],
   "source": [
    "param = Simulator.gridFiltersWidget(dataGrid, gridFilter='derivativeX', EPSGCode=26909)\n",
    "display(param)"
   ]
  },
  {
   "cell_type": "code",
   "execution_count": 4,
   "metadata": {
    "scrolled": false
   },
   "outputs": [
    {
     "data": {
      "application/vnd.jupyter.widget-view+json": {
       "model_id": "58528372a52742a683fbb89db9fc88d5",
       "version_major": 2,
       "version_minor": 0
      },
      "text/plain": [
       "interactive(children=(FloatSlider(value=0.0, continuous_update=False, description='SunAzimuth', max=360.0, ste…"
      ]
     },
     "metadata": {},
     "output_type": "display_data"
    }
   ],
   "source": [
    "param = Simulator.gridFiltersWidget(dataGrid, gridFilter='derivativeY', EPSGCode=26909)\n",
    "display(param)"
   ]
  },
  {
   "cell_type": "markdown",
   "metadata": {},
   "source": [
    "## Upward continuation\n",
    "\n",
    "Upward continuation can be considered a ‘wavelength’ filter. Upward continuation simulates the magnetic response that would be observed if data were collected at a greater height above the Earth’s surface than it was actually collected. The result is that longer-wavelength, deeper features are emphasized over shorter-wavelength, near-surface features. It is effective for interpretation of deeper geology, or for reducing noise that may be found in data collected very close to the ground. \n",
    "\n",
    "You can alternate between the upward contined response here and the TMI data. Change the upward continuation distance using the slider bar. Note the small magnetic anomaly and the narrow fault feature become less distinct with increased distance. "
   ]
  },
  {
   "cell_type": "code",
   "execution_count": 5,
   "metadata": {},
   "outputs": [
    {
     "data": {
      "application/vnd.jupyter.widget-view+json": {
       "model_id": "9eb0f60d40894e908a7785efe23ea141",
       "version_major": 2,
       "version_minor": 0
      },
      "text/plain": [
       "interactive(children=(FloatSlider(value=0.0, continuous_update=False, description='SunAzimuth', max=360.0, ste…"
      ]
     },
     "metadata": {},
     "output_type": "display_data"
    }
   ],
   "source": [
    "param = Simulator.gridFiltersWidget(dataGrid, gridFilter='upwardContinuation', EPSGCode=26909)\n",
    "display(param)"
   ]
  },
  {
   "cell_type": "markdown",
   "metadata": {},
   "source": [
    "## Vertical derivative\n",
    "\n",
    "A very commonly used magnetic filter is the first vertical derivative. This process considers the change in the magnetic response when calculated at two different heights above the ground. The effect is to emphasize near-surface features where the difference between the responses calculated at two different heights will be largest. First vertical derivative anomalies will highlight edges of magnetic sources, and appear over the top of the source if the contact or feature is vertical. \n",
    "\n",
    "Notice how the first vertical derivative peaks directly over the small magnetic body from the synthetic geologic model."
   ]
  },
  {
   "cell_type": "code",
   "execution_count": 6,
   "metadata": {
    "scrolled": false
   },
   "outputs": [
    {
     "data": {
      "application/vnd.jupyter.widget-view+json": {
       "model_id": "a5eccb1be43b4b9db3b07fd3361bc8c6",
       "version_major": 2,
       "version_minor": 0
      },
      "text/plain": [
       "interactive(children=(FloatSlider(value=0.0, continuous_update=False, description='SunAzimuth', max=360.0, ste…"
      ]
     },
     "metadata": {},
     "output_type": "display_data"
    }
   ],
   "source": [
    "param = Simulator.gridFiltersWidget(dataGrid, gridFilter='firstVertical', EPSGCode=26909)\n",
    "display(param)"
   ]
  },
  {
   "cell_type": "markdown",
   "metadata": {},
   "source": [
    "## Total horizontal derivative\n",
    "\n",
    "The total horizontal derivative simply combines the X and Y derivatives. Gradients in both directions are now accounted for in a single map. The highest total horizontal derivative values occur at the edges or boundaries of magnetic sources. It does not detect narrow sources as effectively as the vertical derivative.\n",
    "\n",
    "The total horizonal derivative can be seen to peak here over the edges of the small magnetic body, and along the margin of the large magnetic block in the east. "
   ]
  },
  {
   "cell_type": "code",
   "execution_count": 7,
   "metadata": {
    "scrolled": false
   },
   "outputs": [
    {
     "data": {
      "application/vnd.jupyter.widget-view+json": {
       "model_id": "048f780199824d43ab8c373b91e281e7",
       "version_major": 2,
       "version_minor": 0
      },
      "text/plain": [
       "interactive(children=(FloatSlider(value=0.0, continuous_update=False, description='SunAzimuth', max=360.0, ste…"
      ]
     },
     "metadata": {},
     "output_type": "display_data"
    }
   ],
   "source": [
    "param = Simulator.gridFiltersWidget(dataGrid, gridFilter='totalHorizontal', EPSGCode=26909)\n",
    "display(param)"
   ]
  },
  {
   "cell_type": "markdown",
   "metadata": {},
   "source": [
    "## Tilt angle\n",
    "\n",
    "The tilt derivative or tilt angle normalizes the vertical derivative by the horizontal derivatives. A magnetic source exhibiting a strong contrast with surrounding rocks (e.g. a large, near surface, magnetic unit) will yield both high vertical and horizontal gradients, and a more weakly contrasting body will yield proportionally smaller vertical and horizontal gradients. Normalizing the vertical by horizontal derivatives means different amplitude responses are assigned equivalent values. This is a very useful filter for enhancing more subtle features in the magnetic data. The tilt angle ranges from -90 to +90 degrees, is positive over the magnetic source, and negative outside the source, with the body’s edge delimited by the 0 degree contour.\n",
    "\n",
    "It is helpful to view the tilt angle using a color map that highlights the middle, or near-zero tilt angle values, which should trace source edges. For example, the red-blue color map (RdBu). \n",
    "\n",
    "In the grid image below, you can see that zero values trace the edge of the small magnetic body, with positive tilt angle values directly over the top of the body (inside) and negative values outside the magnetic body. Zero values also mark the edge of the large eastern magnetic block, as well as the margins of the northwest-trending fault that cross-cuts the eastern block.   "
   ]
  },
  {
   "cell_type": "code",
   "execution_count": 8,
   "metadata": {
    "scrolled": false
   },
   "outputs": [
    {
     "data": {
      "application/vnd.jupyter.widget-view+json": {
       "model_id": "f517200b72c84306a7cb92af7b42070e",
       "version_major": 2,
       "version_minor": 0
      },
      "text/plain": [
       "interactive(children=(FloatSlider(value=0.0, continuous_update=False, description='SunAzimuth', max=360.0, ste…"
      ]
     },
     "metadata": {},
     "output_type": "display_data"
    }
   ],
   "source": [
    "param = Simulator.gridFiltersWidget(dataGrid, gridFilter='tiltAngle', EPSGCode=26909)\n",
    "display(param)"
   ]
  },
  {
   "cell_type": "markdown",
   "metadata": {},
   "source": [
    "## Analytic signal\n",
    "\n",
    "Analytic signal is also known as the total gradient. It is calculated from the vertical and horizontal derivatives. The advantage is that we now capture gradients in all three directions, further enhancing detection of geological boundaries and structures. The analytic signal peaks above narrow bodies and along the edges of larger geologic features that are in magnetic contrast to their surroundings. The analytic signal is a very useful interpretation product in areas where magnetic remanence is suspected, and in areas of low latitude since it is not affected by magnetisation direction.  \n",
    "\n",
    "The analytic signal from the synthetic model looks similar to the first vertical derivative, with the strongest anomalies over the small magnetic body and the edge of the eastern magnetic block.    "
   ]
  },
  {
   "cell_type": "code",
   "execution_count": 9,
   "metadata": {},
   "outputs": [
    {
     "data": {
      "application/vnd.jupyter.widget-view+json": {
       "model_id": "65e35cc4359b4395a5b525bc7c3fbf1f",
       "version_major": 2,
       "version_minor": 0
      },
      "text/plain": [
       "interactive(children=(FloatSlider(value=0.0, continuous_update=False, description='SunAzimuth', max=360.0, ste…"
      ]
     },
     "metadata": {},
     "output_type": "display_data"
    }
   ],
   "source": [
    "param = Simulator.gridFiltersWidget(dataGrid, gridFilter='analyticSignal', EPSGCode=26909)\n",
    "display(param)"
   ]
  },
  {
   "cell_type": "markdown",
   "metadata": {},
   "source": [
    "  "
   ]
  }
 ],
 "metadata": {
  "kernelspec": {
   "display_name": "Python 3",
   "language": "python",
   "name": "python3"
  },
  "language_info": {
   "codemirror_mode": {
    "name": "ipython",
    "version": 3
   },
   "file_extension": ".py",
   "mimetype": "text/x-python",
   "name": "python",
   "nbconvert_exporter": "python",
   "pygments_lexer": "ipython3",
   "version": "3.6.5"
  }
 },
 "nbformat": 4,
 "nbformat_minor": 2
}
