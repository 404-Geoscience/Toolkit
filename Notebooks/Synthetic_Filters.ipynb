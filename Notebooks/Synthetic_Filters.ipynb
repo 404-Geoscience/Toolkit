{
 "cells": [
  {
   "cell_type": "code",
   "execution_count": 1,
   "metadata": {
    "scrolled": false
   },
   "outputs": [],
   "source": [
    "## Load all libraries and setup the synthetic problem\n",
    "from library.Mag import Mag, ProblemSetter, MathUtils, Simulator, DataIO\n",
    "import numpy as np\n",
    "from SimPEG import PF, Utils, Mesh, Maps\n",
    "from SimPEG import Utils\n",
    "from SimPEG.Utils import mkvc\n",
    "import SimPEG.PF as PF\n",
    "import scipy as sp\n",
    "import re\n",
    "import matplotlib.pyplot as plt\n",
    "from matplotlib.patches import Rectangle\n",
    "import matplotlib.pyplot as plt\n",
    "import ipywidgets as widgets\n",
    "\n",
    "# Load data in grid format\n",
    "# workDir =r\"C:\\Dianne\\Data\\Public\\GBC_Search\\Phase2\\Mag\\AnomalousMagneticField_updatedApr17\"\n",
    "workDir =r\"C:\\Users\\DominiqueFournier\\Dropbox\\MDRU_GIF_shared_files\\GBC_Search_grd\"\n",
    "fName = '\\MAG_UTM09.grd'\n",
    "\n",
    "dataGrid = DataIO.loadGRDFile(workDir+fName, plotIt=False)"
   ]
  },
  {
   "cell_type": "markdown",
   "metadata": {},
   "source": [
    "# 2.2.1.\tMagnetic Data Response and Visualization#\n",
    "\n",
    "\n",
    "## Magnetic response over the Search Phase II project area\n",
    "\n",
    "Gridded residual magnetic data from Geoscience BC's Search Phase II project (Anomalous Magnetic Field) were downloaded from Geoscience BC's website. The magnetic data is interpolated onto a 50 $m^2$ grid. The data are shown using coordinate system NAD 83 UTM Zone 9. \n",
    "\n",
    "\n",
    "<!-- <img src=\"./images/SearchQuestII.png\"> -->\n"
   ]
  },
  {
   "cell_type": "markdown",
   "metadata": {},
   "source": [
    "## Define a research area\n",
    "\n",
    "Let's choose a subset of data to view more closely. The map on the left shows the full Search Phase II magnetic dataset with a movable 'window' outlined in black, and the map on the right shows just the data encompassed by the window. The window can be resized and moved anywhere over the data using the slider bars. The default window is 40 km x 40 km in size, a size typical of surveys flown to explore magnetic responses at the exploration property, or district scale. "
   ]
  },
  {
   "cell_type": "code",
   "execution_count": 2,
   "metadata": {},
   "outputs": [
    {
     "data": {
      "application/vnd.jupyter.widget-view+json": {
       "model_id": "0ab396cae3454836b9736a0ce165e41b",
       "version_major": 2,
       "version_minor": 0
      },
      "text/plain": [
       "interactive(children=(FloatSlider(value=669500.0, continuous_update=False, description='East', max=816075.0, m…"
      ]
     },
     "metadata": {},
     "output_type": "display_data"
    }
   ],
   "source": [
    "selection = ProblemSetter.setDataExtentWidget(dataGrid)\n",
    "display(selection)"
   ]
  },
  {
   "cell_type": "markdown",
   "metadata": {},
   "source": [
    "## Look at different filters\n",
    "We can then view the data with different Fourier filters.   "
   ]
  },
  {
   "cell_type": "code",
   "execution_count": 3,
   "metadata": {
    "scrolled": false
   },
   "outputs": [
    {
     "name": "stdout",
     "output_type": "stream",
     "text": [
      "derivativeX\n"
     ]
    },
    {
     "data": {
      "application/vnd.jupyter.widget-view+json": {
       "model_id": "48fc20fe6b15439580479eea93dc821d",
       "version_major": 2,
       "version_minor": 0
      },
      "text/plain": [
       "interactive(children=(FloatSlider(value=0.0, continuous_update=False, description='SunAzimuth', max=360.0, ste…"
      ]
     },
     "metadata": {},
     "output_type": "display_data"
    }
   ],
   "source": [
    "param = Simulator.gridFiltersWidget(selection.result, gridFilter='derivativeX')\n",
    "display(param)"
   ]
  },
  {
   "cell_type": "code",
   "execution_count": 6,
   "metadata": {
    "scrolled": true
   },
   "outputs": [
    {
     "name": "stdout",
     "output_type": "stream",
     "text": [
      "derivativeY\n"
     ]
    },
    {
     "data": {
      "application/vnd.jupyter.widget-view+json": {
       "model_id": "7c6b97e5ff2643f4a56f0c366ea2acd4",
       "version_major": 2,
       "version_minor": 0
      },
      "text/plain": [
       "interactive(children=(FloatSlider(value=0.0, continuous_update=False, description='SunAzimuth', max=360.0, ste…"
      ]
     },
     "metadata": {},
     "output_type": "display_data"
    }
   ],
   "source": [
    "param = Simulator.gridFiltersWidget(selection.result, gridFilter='derivativeY')\n",
    "display(param)"
   ]
  },
  {
   "cell_type": "code",
   "execution_count": 7,
   "metadata": {
    "scrolled": true
   },
   "outputs": [
    {
     "name": "stdout",
     "output_type": "stream",
     "text": [
      "firstVertical\n"
     ]
    },
    {
     "data": {
      "application/vnd.jupyter.widget-view+json": {
       "model_id": "a0f008e19e754e8481dd853deaaa513f",
       "version_major": 2,
       "version_minor": 0
      },
      "text/plain": [
       "interactive(children=(FloatSlider(value=0.0, continuous_update=False, description='SunAzimuth', max=360.0, ste…"
      ]
     },
     "metadata": {},
     "output_type": "display_data"
    }
   ],
   "source": [
    "param = Simulator.gridFiltersWidget(selection.result, gridFilter='firstVertical')\n",
    "display(param)"
   ]
  },
  {
   "cell_type": "code",
   "execution_count": 8,
   "metadata": {
    "scrolled": true
   },
   "outputs": [
    {
     "name": "stdout",
     "output_type": "stream",
     "text": [
      "totalHorizontal\n"
     ]
    },
    {
     "data": {
      "application/vnd.jupyter.widget-view+json": {
       "model_id": "c82368f177204609b4bff8af5efe496c",
       "version_major": 2,
       "version_minor": 0
      },
      "text/plain": [
       "interactive(children=(FloatSlider(value=0.0, continuous_update=False, description='SunAzimuth', max=360.0, ste…"
      ]
     },
     "metadata": {},
     "output_type": "display_data"
    }
   ],
   "source": [
    "param = Simulator.gridFiltersWidget(selection.result, gridFilter='totalHorizontal')\n",
    "display(param)"
   ]
  },
  {
   "cell_type": "code",
   "execution_count": 9,
   "metadata": {
    "scrolled": true
   },
   "outputs": [
    {
     "name": "stdout",
     "output_type": "stream",
     "text": [
      "tiltAngle\n"
     ]
    },
    {
     "data": {
      "application/vnd.jupyter.widget-view+json": {
       "model_id": "8ba56a9ecdb54eaab047b20d2c6e1e1c",
       "version_major": 2,
       "version_minor": 0
      },
      "text/plain": [
       "interactive(children=(FloatSlider(value=0.0, continuous_update=False, description='SunAzimuth', max=360.0, ste…"
      ]
     },
     "metadata": {},
     "output_type": "display_data"
    }
   ],
   "source": [
    "param = Simulator.gridFiltersWidget(selection.result, gridFilter='tiltAngle')\n",
    "display(param)"
   ]
  },
  {
   "cell_type": "code",
   "execution_count": 5,
   "metadata": {},
   "outputs": [],
   "source": [
    "param = Simulator.gridFiltersWidget(selection.result, gridFilter='analyticSignal')\n",
    "display(param)"
   ]
  },
  {
   "cell_type": "markdown",
   "metadata": {},
   "source": [
    "  "
   ]
  }
 ],
 "metadata": {
  "kernelspec": {
   "display_name": "Python 3",
   "language": "python",
   "name": "python3"
  },
  "language_info": {
   "codemirror_mode": {
    "name": "ipython",
    "version": 3
   },
   "file_extension": ".py",
   "mimetype": "text/x-python",
   "name": "python",
   "nbconvert_exporter": "python",
   "pygments_lexer": "ipython3",
   "version": "3.6.5"
  }
 },
 "nbformat": 4,
 "nbformat_minor": 2
}
