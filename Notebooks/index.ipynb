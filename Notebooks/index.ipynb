{
 "cells": [
  {
   "cell_type": "markdown",
   "metadata": {},
   "source": [
    "# Geophysical Toolkit for Geologists\n",
    "\n",
    "<a href=\"http://toolkit.geosci.xyz\"><img src=\"http://toolkit.geosci.xyz/_images/draped_mag_search.PNG\" alt=\"http://toolkit.geosci.xyz\" align=\"right\" width=\"350\"></a>\n",
    "\n",
    "This collection of notebooks guides users through manipulation of magnetic data via synthetic and real-life examples. The UserDefined notebook allows geoscientists to upload and explore their own magnetic data. Associated material can be found in the <a href=\"http://toolkit.geosci.xyz\">GeoToolKit: Geophysical Toolkit for Geologists</a>.\n",
    "\n",
    "\n",
    "\n",
    "- <a href=\"http://geosci.xyz/contact\">Contact us</a>\n",
    "- <a href=\"https://github.com/geoscixyz/Toolkit/issues\">Report issues</a>\n",
    "- <a href=\"https://github.com/geoscixyz/Toolkit/\">Join the development</a>"
   ]
  },
  {
   "cell_type": "markdown",
   "metadata": {},
   "source": [
    "## Contents\n",
    "\n",
    "\n",
    "<a href=\"http://toolkit.geosci.xyz/content/Demos/SyntheticExample.html\"><img src=\"http://toolkit.geosci.xyz/_images/SyntheticModel.png\" alt=\"http://toolkit.geosci.xyz\" align=\"right\" width=\"250\"></a>\n",
    "\n",
    "### Synthetic dataset\n",
    "- <a href=\"Synthetic_Viewer.ipynb\">Synthetic_Viewer.ipynb</a> - Profile the synthetic magnetic data\n",
    "- <a href=\"Synthetic_Viewer_Worldwide.ipynb\">Synthetic_Viewer_Worldwide.ipynb</a> - Explore the induced response at different locations around the world\n",
    "- <a href=\"Synthetic_Gridding.ipynb\">Synthetic_Gridding.ipynb</a> - Grid the synthetic survey lines\n",
    "- <a href=\"Synthetic_Visualization.ipynb\">Synthetic_Visualization.ipynb</a> - Add sun-shading, explore color maps, and apply contours to the synthetic data\n",
    "- <a href=\"Synthetic_Filters.ipynb\">Synthetic_Filters.ipynb</a> - Try different derivative filters on the gridded synthetic data\n",
    "- <a href=\"Synthetic_Tilt_Depth_Estimation.ipynb\">Synthetic_Tilt_Depth_Estimation.ipynb</a> - Estimate the depth of synthetic blocks\n",
    "\n",
    "<a href=\"http://toolkit.geosci.xyz/content/Demos/SearchExample.html\"><img src=\"http://toolkit.geosci.xyz/_images/search_placeholder.PNG\" alt=\"http://toolkit.geosci.xyz\" align=\"right\" width=\"200\"></a>\n",
    "\n",
    "### Geoscience BC - Search Phase II dataset\n",
    "- <a href=\"Search_Viewer.ipynb\">Search_Viewer.ipynb</a> - Profile the Search magnetic data\n",
    "- <a href=\"Search_Filters.ipynb\">Search_Filters.ipynb</a> - Try different derivative filters on the Search data\n",
    "- <a href=\"Search_Tilt_Depth_Estimation.ipynb\">Search_Tilt_Depth_Estimation.ipynb</a> - Estimate the depth to source\n",
    "\n",
    "### User data\n",
    "- <a href=\"UserDefined.ipynb\">UserDefined.ipynb</a> - Load and explore data stored locally or in the Cloud\n"
   ]
  },
  {
   "cell_type": "markdown",
   "metadata": {},
   "source": [
    "<center><a rel=\"license\" href=\"http://creativecommons.org/licenses/by/4.0/\"><img alt=\"Creative Commons License\" style=\"border-width:0\" width=60 src=\"https://i.creativecommons.org/l/by/4.0/88x31.png\" /></a> \n",
    "\n",
    "This work is licensed under a <a rel=\"license\" href=\"http://creativecommons.org/licenses/by/4.0/\">Creative Commons Attribution 4.0 International License</a>.</center>"
   ]
  }
 ],
 "metadata": {
  "anaconda-cloud": {},
  "kernelspec": {
   "display_name": "Python 3",
   "language": "python",
   "name": "python3"
  },
  "language_info": {
   "codemirror_mode": {
    "name": "ipython",
    "version": 3
   },
   "file_extension": ".py",
   "mimetype": "text/x-python",
   "name": "python",
   "nbconvert_exporter": "python",
   "pygments_lexer": "ipython3",
   "version": "3.6.4"
  }
 },
 "nbformat": 4,
 "nbformat_minor": 1
}
