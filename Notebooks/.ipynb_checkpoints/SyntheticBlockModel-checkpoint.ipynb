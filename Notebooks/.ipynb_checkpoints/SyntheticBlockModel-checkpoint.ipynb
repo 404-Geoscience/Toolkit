{
 "cells": [
  {
   "cell_type": "code",
   "execution_count": 1,
   "metadata": {
    "collapsed": true
   },
   "outputs": [],
   "source": [
    "import library.Mag as Mag\n",
    "import numpy as np\n",
    "from SimPEG import PF, Utils, Mesh\n",
    "import shapefile\n",
    "import pyproj\n",
    "import matplotlib.pyplot as plt\n",
    "import ipywidgets as widgets"
   ]
  },
  {
   "cell_type": "markdown",
   "metadata": {},
   "source": [
    "# Preparation and initial assessment of magnetic data#\n",
    "\n",
    "\n",
    "In this section, we will calculate the magnetic response of a simple geologic model and then grid the data, in preparation for application of a series of magnetic data filters. \n",
    "\n",
    "## The Geologic Model ###\n",
    "\n",
    "For this demonstration, a simple 3D geologic model was built attempting to capture several different types of geologic bodies.\n",
    "\n",
    "The geologic bodies are represented by three different blocks superimposed on a background:\n",
    "\n",
    "**Block 1:** Large strongly magnetic domain, reflective of a magnetic plutonic complex or magnetic volcanic rock package\n",
    "\n",
    "**Block 2:** Small moderately magnetic domain, reflective of a shallow magnetic intrusion\n",
    "\n",
    "**Block 3:** Linear steeply-dipping non-magnetic feature, reflective of a fault zone along which magnetite-destruction has occurred\n",
    "\n",
    "**Background:** Weakly magnetic background, reflective of weakly magnetic volcanic rocks  \n",
    "\n",
    "\n",
    "The extents of the survey area are approximately 3 km x 3 km.\n",
    "\n",
    "\n",
    "Figure, plan view, cross-section\n",
    "\n",
    "\n",
    "-do the prism colors mean anything here? Color-wise, should we make it look geological or reflecting susceptibility?  \n",
    "-view is looking west, can we rotate whole model (all prisms and survey 90 degrees clockwise)? Want to look north with east-west flight lines\n",
    "\n",
    "\n"
   ]
  },
  {
   "cell_type": "code",
   "execution_count": 2,
   "metadata": {},
   "outputs": [
    {
     "data": {
      "application/vnd.jupyter.widget-view+json": {
       "model_id": "20ba52a3bad945faad15c506803b1b25"
      }
     },
     "metadata": {},
     "output_type": "display_data"
    }
   ],
   "source": [
    "# Create a survey\n",
    "fileName = './DIGHEM_Mag_floor10nt_25m.obs'\n",
    "xyzd = np.genfromtxt(fileName, skip_header=3)\n",
    "xyzd[:,-2] = 0\n",
    "B = np.r_[60308, 83.8, 25.4]\n",
    "survey = Mag.Mag.createMagSurvey(xyzd, B)\n",
    "cntr = np.mean(xyzd[:, :2], axis=0)\n",
    "\n",
    "prisms = []\n",
    "params = [[-500,-500,-50,300,300,300,-30,0],\n",
    "          [1000, 250,-200,2000,100,500,150,-20],\n",
    "          [2000,500,-200,5000, 4000, 500,60, 0]\n",
    "         ]         #  [0, 0, -300, 8000, 8000, 2000,0,0],\n",
    "suscs = [0.01, -0.1, 0.1, 0.05]\n",
    "\n",
    "# Create the synthetic blocks model and place it at the center of the survey\n",
    "for param, susc in zip(params, suscs):\n",
    "    \n",
    "    prism = Mag.Simulator.definePrism()\n",
    "    prism.x0, prism.y0, prism.z0 = cntr[0]+param[0], cntr[1]+param[1], xyzd[:, 2].min() +param[2]\n",
    "    prism.dx, prism.dy, prism.dz = param[3], param[4], param[5]\n",
    "    prism.pdec, prism.pinc = param[6], param[7]\n",
    "    \n",
    "    prisms.append(prism)\n",
    "\n",
    "    prob = Mag.Mag.problem(prism=prism, survey=survey)\n",
    "    prob.susc = susc\n",
    "    survey.dobs += prob.fields()[0]\n",
    "\n",
    "def Synthetic(View_dip,View_azm,View_lim):\n",
    "\n",
    "    Mag.Simulator.plotObj3D(prisms, survey, View_dip,View_azm,View_lim, colors=['w','r','','r'])\n",
    "    \n",
    "    \n",
    "out = widgets.interactive(Synthetic,\n",
    "                          View_dip=widgets.FloatSlider(min=0, max=90, step=1, value=90, continuous_update=False),\n",
    "                          View_azm=widgets.FloatSlider(min=0, max=360, step=1, value=0, continuous_update=False),\n",
    "                          View_lim=widgets.FloatSlider(min=1, max=2000, step=1, value=870, continuous_update=False),\n",
    "                          )\n",
    "# View prism\n",
    "display(out)"
   ]
  },
  {
   "cell_type": "markdown",
   "metadata": {},
   "source": [
    "## Magnetic response of a simple geologic model\n",
    "\n",
    "The magnetic response (total field anomaly) of the described geologic model is calculated on a series of east-west flight lines running roughly perpendicular to the general strike of geologic boundaries and structures featured in the model. Flight line spacing is 200 m. Data was collected at a flight height of 40 m. Topography is assumed to be flat in this example. The magnetic data are in nanoteslas (NT). \n",
    "\n",
    "As discussed in Section 1, the magnetic response recorded will depend on the inclination, declination, and field strength of the magnetic field at the survey location. Use the drop down menu to explore a range of responses correlating to varied magnetic field parameters. The default values reflect inclination, declination, and field strength recorded in central British Columbia, Canada.  \n",
    "\n",
    "A profile through the magnetic data can be viewed by clicking on the grey ‘Profile’ button, and in this example the profile location can be changed using the slider bars. \n",
    "\n",
    "-Not sure ‘width’ and ‘height’ are needed\n",
    "\n"
   ]
  },
  {
   "cell_type": "code",
   "execution_count": 3,
   "metadata": {},
   "outputs": [
    {
     "data": {
      "application/vnd.jupyter.widget-view+json": {
       "model_id": "bdf73c3c912849ad8c78571579280810"
      }
     },
     "metadata": {},
     "output_type": "display_data"
    }
   ],
   "source": [
    "param = Mag.Simulator.ViewMagSurvey2D(survey)\n",
    "display(param)"
   ]
  },
  {
   "cell_type": "markdown",
   "metadata": {},
   "source": [
    "## Gridding the magnetic data\n",
    "\n",
    "Magnetic data must be gridded prior to applying transforms and filters. This means that the flight line data must be interpolated on a regular 2D grid. There are numerous possible ways to grid data. Several researchers have demonstrated that minimum curvature methods are robust and yield a sensible and smooth result, so we have chosen minimum curvature to complete the gridding for this example. In this example, the data are interpolated on a 10 m x 10 m grid.\n",
    "\n",
    "The resulting grid shows the larger and smaller magnetic bodies, and the magnetic low related to the NE trending structure.\n",
    "\n",
    "## Basic visualization\n",
    "\n",
    "Simple enhancements to the image can help the user better visualize features within the magnetic data. Applying sun-shading from various angles, and experimenting with colour scales and colour stretches are a simple means to explore the data initially. \n",
    "\n",
    "Try using the slider bars below to change the direction (azdeg) and angle (altdeg) of sun shading, to change color saturation (alpha) and transparency (alphaHS), and to manipulate magnetic contours lines (contour)\n",
    "\n",
    "-don’t think we need vScale\n",
    "\n",
    "\n",
    "\n"
   ]
  },
  {
   "cell_type": "code",
   "execution_count": 4,
   "metadata": {},
   "outputs": [],
   "source": [
    "gridCC, dMinCurv = Mag.Simulator.minCurvatureInterp(\n",
    "    xyzd[:,:2], survey.dobs,\n",
    "    vectorX=None, vectorY=None, vectorZ=None, gridSize=10,\n",
    "    tol=1e-5, iterMax=None, method='spline'\n",
    ")\n",
    "\n",
    "X = gridCC[:,0].reshape(dMinCurv.shape, order='F')\n",
    "Y = gridCC[:,1].reshape(dMinCurv.shape, order='F')"
   ]
  },
  {
   "cell_type": "code",
   "execution_count": 5,
   "metadata": {},
   "outputs": [
    {
     "data": {
      "application/vnd.jupyter.widget-view+json": {
       "model_id": "6825268390694734ad81810fc1c4e9ce"
      }
     },
     "metadata": {},
     "output_type": "display_data"
    }
   ],
   "source": [
    "def dataViewer(X,Y,dataGrid):\n",
    "      \n",
    "    def plotData(SunAzimuth,SunAngle,Contrast,Transparency,vScale,MagContour):\n",
    "        fig = plt.figure(figsize=(8,6))\n",
    "        axs= plt.subplot()\n",
    "\n",
    "        # Read the data\n",
    "#         vmin, vmax = -25, 150\n",
    "        cmap = plt.cm.gist_earth\n",
    "\n",
    "        # Add shading\n",
    "        im, CS = Mag.Simulator.plotDataHillside(X, Y,dataGrid ,\n",
    "                                  axs=axs, cmap='RdBu_r', \n",
    "                                  clabel=False, contour=MagContour,\n",
    "                                  alpha=Contrast, alphaHS=Transparency, ve=vScale, azdeg=SunAzimuth, altdeg=SunAngle)\n",
    "\n",
    "        # Add points at the survey locations\n",
    "        plt.scatter(xyzd[:,0], xyzd[:,1], s=2, c='k')\n",
    "\n",
    "        # Set limits and labels\n",
    "#         axs.set_xlim([xmin,xmax])\n",
    "#         axs.set_ylim([ymin,ymax])\n",
    "        # axs.set_xticklabels([556750,558000, 559250], size=14)\n",
    "        # axs.set_xticks([556750,558000, 559250])\n",
    "        # axs.set_yticklabels([7133000,7134000, 7135000], size=14, rotation=90, va='center')\n",
    "        plt.colorbar(im)\n",
    "        # axs.set_yticks([7133000,7134000, 7135000])\n",
    "        axs.set_xlabel(\"Easting (m)\", size=14)\n",
    "        axs.set_ylabel(\"Northing (m)\", size=14)\n",
    "        axs.grid('on', color='k', linestyle='--')\n",
    "        plt.show()\n",
    "        # Add colorbar\n",
    "        # pos = axs.get_position() # Get the position of previous axes\n",
    "        # axbar = plt.axes([pos.x0+.25, pos.y0+0.2,  pos.width*0.75, pos.height*.5]) # Create a new axes and reshape\n",
    "        # cbar = plt.colorbar(im, orientation='vertical',format='%.3f') # Add a colorbar using the color definition of previous\n",
    "        # cbar.set_ticks(np.linspace(-25,300,6)) # Change the tick position\n",
    "        # cbar.set_ticklabels(np.round(np.linspace(-25,300,6))) # Change the tick labels\n",
    "        # axbar.text(pos.x0+1., pos.y0+.75,'SI', size=14) # Add units and move it above\n",
    "        # axbar.axis('off') # Only keep the colorbar, remove the rest\n",
    "\n",
    "    out = widgets.interactive(plotData,\n",
    "                              SunAzimuth=widgets.FloatSlider(min=0, max=360, step=5, value=0, continuous_update=False),\n",
    "                              SunAngle=widgets.FloatSlider(min=0, max=90, step=5, value=45, continuous_update=False),\n",
    "                              Contrast=widgets.FloatSlider(min=0, max=1, step=0.1, value=0.5, continuous_update=False),\n",
    "                              Transparency=widgets.FloatSlider(min=0, max=1, step=0.1, value=1.0, continuous_update=False),\n",
    "                              vScale=widgets.FloatSlider(min=1, max=1000, step=1., value=1.0, continuous_update=False),\n",
    "                              MagContour=widgets.FloatSlider(min=0, max=20, step=1, value=10, continuous_update=False))\n",
    "    return out\n",
    "\n",
    "view = dataViewer(X, Y, dMinCurv)\n",
    "display(view)"
   ]
  },
  {
   "cell_type": "code",
   "execution_count": 6,
   "metadata": {
    "collapsed": true
   },
   "outputs": [],
   "source": [
    "\n",
    "            \n",
    "    #             if shape.record[18]=='Canada':\n",
    "    #                 poly2D = Polygon(np.c_[np.vstack(x),np.vstack(y)])\n",
    "    # #                 pcolor += [cpool[units[ii]]]\n",
    "    #                 patches.append(poly2D)\n",
    "    #                 else:\n",
    "                "
   ]
  },
  {
   "cell_type": "code",
   "execution_count": 7,
   "metadata": {},
   "outputs": [
    {
     "name": "stdout",
     "output_type": "stream",
     "text": [
      "Populating the interactive namespace from numpy and matplotlib\n"
     ]
    },
    {
     "name": "stderr",
     "output_type": "stream",
     "text": [
      "C:\\Users\\DominiqueFournier\\Anaconda3\\lib\\site-packages\\IPython\\core\\magics\\pylab.py:160: UserWarning: pylab import has clobbered these variables: ['prism']\n",
      "`%matplotlib` prevents importing * from pylab and numpy\n",
      "  \"\\n`%matplotlib` prevents importing * from pylab and numpy\"\n"
     ]
    }
   ],
   "source": [
    "from matplotlib.patches import Circle, Wedge, Polygon\n",
    "from matplotlib.collections import PatchCollection\n",
    "import matplotlib.patches as patches\n",
    "import json\n",
    "import re\n",
    "\n",
    "%pylab inline\n",
    "# Load world shapefile\n",
    "# world = shapefile.Reader('./assets/worldShapefile/ne_50m_admin_0_countries.shp')\n",
    "world = shapefile.Reader('./assets/Continents/continent.shp')\n",
    "X, Y = [],[]\n",
    "for shape in world.shapeRecords():\n",
    "\n",
    "    for ii, part in enumerate(shape.shape.parts):\n",
    "\n",
    "#             if ii > 10:\n",
    "#                 continue\n",
    "        if ii != len(shape.shape.parts)-1:\n",
    "            x = [i[0] for i in shape.shape.points[shape.shape.parts[ii]:shape.shape.parts[ii+1]:50]]\n",
    "            y = [i[1] for i in shape.shape.points[shape.shape.parts[ii]:shape.shape.parts[ii+1]:50]]\n",
    "\n",
    "        else:\n",
    "            x = [i[0] for i in shape.shape.points[shape.shape.parts[ii]::50]]\n",
    "            y = [i[1] for i in shape.shape.points[shape.shape.parts[ii]::50]]\n",
    "    \n",
    "        if len(x) > 10:\n",
    "            X.append(np.vstack(x))\n",
    "            Y.append(np.vstack(y))\n",
    "        \n",
    "# Load in the pre-defined locations\n",
    "with open('./assets/MAGlocations_w_field.json', 'r') as fp:\n",
    "    data = json.load(fp)\n",
    "    "
   ]
  },
  {
   "cell_type": "code",
   "execution_count": 8,
   "metadata": {},
   "outputs": [
    {
     "data": {
      "text/plain": [
       "{'Geoscience BC SeArch II project area': [54.331022222222224,\n",
       "  -125.72880555555555,\n",
       "  17.8337,\n",
       "  73.3833,\n",
       "  55784.7],\n",
       " 'Turkey (Kisladag mine area)': [38.48201388888889,\n",
       "  29.148252777777778,\n",
       "  5.1514,\n",
       "  55.7999,\n",
       "  46727.8],\n",
       " 'Nevada (Goldstrike mine area)': [40.98167777777778,\n",
       "  -116.37942222222222,\n",
       "  12.8617,\n",
       "  65.1471,\n",
       "  51039.6],\n",
       " 'Peru (Antamina mine area)': [-9.53931388888889,\n",
       "  -77.06344722222222,\n",
       "  -2.6181,\n",
       "  4.0792,\n",
       "  25548.8],\n",
       " 'Yukon (Dawson city area)': [64.0598,\n",
       "  -139.43231666666665,\n",
       "  19.5382,\n",
       "  77.8733,\n",
       "  57063.5],\n",
       " 'Colombia (El Alacran deposit area)': [7.746186111111111,\n",
       "  -75.71865833333334,\n",
       "  -6.7814,\n",
       "  32.7902,\n",
       "  32377.1],\n",
       " 'Serbia (Bor mine area)': [44.08925833333333,\n",
       "  22.099977777777777,\n",
       "  4.968,\n",
       "  61.1713,\n",
       "  47955.3],\n",
       " 'Chile (Atacama desert, Chuquicamata mine area)': [-22.286972222222225,\n",
       "  -68.90255555555557,\n",
       "  -5.46,\n",
       "  -20.1456,\n",
       "  22822.5]}"
      ]
     },
     "execution_count": 8,
     "metadata": {},
     "output_type": "execute_result"
    }
   ],
   "source": [
    "data"
   ]
  },
  {
   "cell_type": "code",
   "execution_count": 14,
   "metadata": {},
   "outputs": [
    {
     "data": {
      "application/vnd.jupyter.widget-view+json": {
       "model_id": "242f9d0a4c1c4e1683680c0b3210e64b"
      }
     },
     "metadata": {},
     "output_type": "display_data"
    }
   ],
   "source": [
    "# cities = shapefile.Reader('./assets/worldShapefile/ne_10m_populated_places_simple.shp')\n",
    "def mapViewer(world, data):\n",
    "    def plotCountry(X,Y, ax=None, fill=True, linewidth=1):\n",
    "        \n",
    "        for x,y in zip(X,Y):\n",
    "            ax.plot(x, y,'k', linewidth=linewidth)\n",
    "\n",
    "        return ax\n",
    "\n",
    "                \n",
    "    def plotLocs(selection):\n",
    "        \n",
    "        dataVals = list(data.values())[selection]\n",
    "        # Create the synthetic blocks model and place it at the center of the survey\n",
    "        for param, susc in zip(params, suscs):\n",
    "\n",
    "            prism = Mag.Simulator.definePrism()\n",
    "            prism.x0, prism.y0, prism.z0 = cntr[0]+param[0], cntr[1]+param[1], xyzd[:, 2].min() +param[2]\n",
    "            prism.dx, prism.dy, prism.dz = param[3], param[4], param[5]\n",
    "            prism.pdec, prism.pinc = param[6], param[7]\n",
    "\n",
    "            prob = Mag.Mag.problem(prism=prism, survey=survey)\n",
    "            prob.susc = susc\n",
    "            prob._Higrf = dataVals[4]\n",
    "            prob._Hinc = dataVals[3]\n",
    "            prob._Hdec = dataVals[2]\n",
    "            \n",
    "            print(prob.Higrf, prob.rinc, prob.rdec)\n",
    "            survey.dobs += prob.fields()[0]\n",
    "    \n",
    "#         param = Mag.Simulator.ViewMagSurvey2D(survey)\n",
    "#         display(param)\n",
    "\n",
    "        plt.figure(figsize=(10,8))\n",
    "        ax1 = plt.subplot(1,2,1)\n",
    "        Mag.Simulator.plotData2D(survey.srcField.rxList[0].locs, d=survey.dobs, ax=ax1, cmap='RdBu_r')\n",
    "                   \n",
    "        axs = plt.subplot(1,2,2)\n",
    "        axs = plotCountry(X,Y, ax=axs, fill=False)\n",
    "        # xydata = np.loadtxt(\"./assets/country-capitals.csv\", delimiter=\",\")\n",
    "        for key, entry in zip(list(data.keys()),list(data.values())):\n",
    "            axs.scatter(dataVals[1],dataVals[0], c='k')\n",
    "        \n",
    "        \n",
    "        \n",
    "        axs.scatter(dataVals[1],dataVals[0], s = 50, c='r', marker='s', )\n",
    "        axs.set_aspect('equal')\n",
    "        plt.show()\n",
    "        \n",
    "        return axs\n",
    "    \n",
    "    out = widgets.interactive(plotLocs,\n",
    "                        selection = widgets.Dropdown(\n",
    "                        options=[1, 2, 3],\n",
    "                        value=2,\n",
    "                        description='Number:',\n",
    "                        disabled=False,\n",
    "                        ))\n",
    "                        \n",
    "    \n",
    "    return out\n",
    "\n",
    "view = mapViewer(world, data)\n",
    "display(view)"
   ]
  },
  {
   "cell_type": "code",
   "execution_count": 10,
   "metadata": {
    "collapsed": true
   },
   "outputs": [],
   "source": [
    "\n",
    "# raw = {\"Geoscience BC SeArch II project area\":[\"54d19m51.68N\",\"125d43m43.7W\"],\n",
    "# \"Turkey (Kisladag mine area)\":[\"38d28m55.25N\",\"29d8m53.71E\"],\n",
    "# \"Nevada (Goldstrike mine area)\":[\"40d58m54.04N\",\"116d22m45.92W\"],\n",
    "# \"Peru (Antamina mine area)\":[\"9d32m21.53S\",\"77d3m48.41W\"],\n",
    "# \"Yukon (Dawson city area)\":[\"64d3m35.28N\",\"139d25m56.34W\"],\n",
    "# \"Colombia (El Alacran deposit area)\":[\"7d44m46.27N\",\"75d43m7.17W\"],\n",
    "# \"Serbia (Bor mine area)\":[\"44d5m21.33N\",\"22d5m59.92E\"],\n",
    "# \"Chile (Atacama desert, Chiquicamata mine area)\":[\"22d17m13.10S\",\"68d54m9.20W\"]}\n",
    "\n",
    "# newDict = {}\n",
    "# for key, entry in zip(list(raw.keys()),list(raw.values())):\n",
    "    \n",
    "#     temp = [float(val) for val in re.findall('[-+]?\\d*\\.\\d+|\\d+',entry[0])]\n",
    "#     lat = temp[0] + temp[1]/60. + temp[2]/3600.\n",
    "#     if entry[0][-1]=='S':\n",
    "#         lat *= -1\n",
    "\n",
    "#     temp = [float(val) for val in re.findall('[-+]?\\d*\\.\\d+|\\d+',entry[1])]\n",
    "#     lon = temp[0] + temp[1]/60. + temp[2]/3600.\n",
    "#     if entry[1][-1]=='W':\n",
    "#         lon *= -1\n",
    "\n",
    "#     newDict[key] =[lat, lon]\n",
    "# with open('MAGlocations.json', 'w') as fp:\n",
    "#     json.dump(newDict, fp)\n",
    "\n",
    "\n",
    "\n",
    "\n"
   ]
  },
  {
   "cell_type": "code",
   "execution_count": null,
   "metadata": {
    "collapsed": true
   },
   "outputs": [],
   "source": []
  }
 ],
 "metadata": {
  "kernelspec": {
   "display_name": "Python 3",
   "language": "python",
   "name": "python3"
  },
  "language_info": {
   "codemirror_mode": {
    "name": "ipython",
    "version": 3
   },
   "file_extension": ".py",
   "mimetype": "text/x-python",
   "name": "python",
   "nbconvert_exporter": "python",
   "pygments_lexer": "ipython3",
   "version": "3.6.2"
  }
 },
 "nbformat": 4,
 "nbformat_minor": 2
}
