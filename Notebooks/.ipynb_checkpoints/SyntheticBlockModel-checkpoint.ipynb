{
 "cells": [
  {
   "cell_type": "code",
   "execution_count": 1,
   "metadata": {},
   "outputs": [],
   "source": [
    "from library.Mag import *\n",
    "from SimPEG import PF, Utils, Mesh\n",
    "import matplotlib.pyplot as plt\n",
    "import ipywidgets as widgets"
   ]
  },
  {
   "cell_type": "code",
   "execution_count": 29,
   "metadata": {},
   "outputs": [
    {
     "data": {
      "application/vnd.jupyter.widget-view+json": {
       "model_id": "208665b2acc34e6e9799447bcb408563"
      }
     },
     "metadata": {},
     "output_type": "display_data"
    }
   ],
   "source": [
    "# Create a survey\n",
    "fileName = 'http://github.com/geoscixyz/gpgLabs/raw/master/assets/Mag/data/DO27_TMI.dat'\n",
    "xyzd = np.genfromtxt(fileName, skip_header=3)\n",
    "B = np.r_[60308, 83.8, 25.4]\n",
    "survey = Mag.createMagSurvey(xyzd, B)\n",
    "cntr = np.mean(xyzd[:, :2], axis=0)\n",
    "\n",
    "prisms = []\n",
    "# Create a synthetic block model and place it at the center of the survey\n",
    "prisms.append( Simulator.definePrism())\n",
    "prisms[0].x0, prisms[0].y0, prisms[0].z0 = cntr[0]-100, cntr[1]-200, xyzd[:, 2].min() - 50\n",
    "prisms[0].dx, prisms[0].dy, prisms[0].dz = 100, 200 ,100\n",
    "prisms[0].pdec = -60\n",
    "\n",
    "prisms.append( Simulator.definePrism())\n",
    "prisms[1].x0, prisms[1].y0, prisms[1].z0 = cntr[0]-750, cntr[1], xyzd[:, 2].min()-200\n",
    "prisms[1].dx, prisms[1].dy, prisms[1].dz = 1000, 1500 ,1000\n",
    "prisms[1].pdec = -45\n",
    "\n",
    "prisms.append( Simulator.definePrism())\n",
    "prisms[2].x0, prisms[2].y0, prisms[2].z0 = cntr[0]+400, cntr[1]-200, xyzd[:, 2].min()-50\n",
    "prisms[2].dx, prisms[2].dy, prisms[2].dz = 2000, 50 ,500\n",
    "prisms[2].pdec, prisms[2].pinc = -60, 10\n",
    "\n",
    "for prism in prisms:\n",
    "    prob = Mag.problem(prism=prism, survey=survey)\n",
    "    survey.dobs += prob.fields()[0]\n",
    "\n",
    "def Prism(View_dip,View_azm,View_lim):\n",
    "\n",
    "    Simulator.plotObj3D(prisms, survey, View_dip,View_azm,View_lim, colors=['w','r','g'])\n",
    "    \n",
    "    \n",
    "out = widgets.interactive(Prism,\n",
    "                          View_dip=widgets.FloatSlider(min=0, max=90, step=1, value=75, continuous_update=False),\n",
    "                          View_azm=widgets.FloatSlider(min=0, max=360, step=1, value=270, continuous_update=False),\n",
    "                          View_lim=widgets.FloatSlider(min=1, max=2000, step=1, value=800, continuous_update=False),\n",
    "                          )\n",
    "# View prism\n",
    "display(out)"
   ]
  },
  {
   "cell_type": "code",
   "execution_count": 28,
   "metadata": {},
   "outputs": [
    {
     "data": {
      "application/vnd.jupyter.widget-view+json": {
       "model_id": "f320d7c7f7ee4e16891832830687d209"
      }
     },
     "metadata": {},
     "output_type": "display_data"
    }
   ],
   "source": [
    "param = Simulator.ViewMagSurvey2D(survey)\n",
    "display(param)"
   ]
  },
  {
   "cell_type": "code",
   "execution_count": null,
   "metadata": {
    "collapsed": true
   },
   "outputs": [],
   "source": []
  }
 ],
 "metadata": {
  "kernelspec": {
   "display_name": "Python 3",
   "language": "python",
   "name": "python3"
  },
  "language_info": {
   "codemirror_mode": {
    "name": "ipython",
    "version": 3
   },
   "file_extension": ".py",
   "mimetype": "text/x-python",
   "name": "python",
   "nbconvert_exporter": "python",
   "pygments_lexer": "ipython3",
   "version": "3.6.2"
  }
 },
 "nbformat": 4,
 "nbformat_minor": 2
}
