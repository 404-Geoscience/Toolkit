{
 "cells": [
  {
   "cell_type": "markdown",
   "metadata": {},
   "source": [
    "<img src=\"./images/mincurv_nearest.png\" align=\"right\" alt=\"drawing\" style=\"width:400px;\"/>\n",
    "\n",
    "# 2.1.2.\tSynthetic - Data Gridding\n",
    "\n",
    "As explained in the [Synthetic - Data Gridding Section](http://toolkit.geosci.xyz/content/Demos/SyntheticGrid.html#synthetic-data-gridding), magnetic data should be gridded prior to applying transforms and filters. This means that the flight line data must be interpolated on a regular 2D grid. \n",
    "\n",
    "The resulting gridded data shows the larger and smaller magnetic bodies, and the magnetic low related to the northwest trending structure cross-cutting the larger magnetic domain.\n",
    "\n",
    "Try changing the grid cell size in the box labelled **'Grid (m)'**, and view the result of gridding using the four different methods listed in the drop down menu labelled **'Method'**.\n",
    "\n",
    "To run the notebook cells below, select the cell, and press **[Shift+Enter]**, or click on the **'Run'** button in the menu at the top of the notebook. ![runcell](./images/runcell_30per_ppt.PNG)"
   ]
  },
  {
   "cell_type": "code",
   "execution_count": 1,
   "metadata": {},
   "outputs": [],
   "source": [
    "## Load all libraries and setup the synthetic problem\n",
    "from GeoToolkit.Mag import Mag, ProblemSetter, MathUtils, Simulator, DataIO\n",
    "import numpy as np\n",
    "\n",
    "survey = np.loadtxt(\"./assets/TKC/Synthetic_Forward_TMI.dat\")"
   ]
  },
  {
   "cell_type": "code",
   "execution_count": 2,
   "metadata": {},
   "outputs": [
    {
     "data": {
      "application/vnd.jupyter.widget-view+json": {
       "model_id": "1b11a115fb7f420e875e7f04d267f0ef",
       "version_major": 2,
       "version_minor": 0
      },
      "text/html": [
       "<p>Failed to display Jupyter Widget of type <code>interactive</code>.</p>\n",
       "<p>\n",
       "  If you're reading this message in the Jupyter Notebook or JupyterLab Notebook, it may mean\n",
       "  that the widgets JavaScript is still loading. If this message persists, it\n",
       "  likely means that the widgets JavaScript library is either not installed or\n",
       "  not enabled. See the <a href=\"https://ipywidgets.readthedocs.io/en/stable/user_install.html\">Jupyter\n",
       "  Widgets Documentation</a> for setup instructions.\n",
       "</p>\n",
       "<p>\n",
       "  If you're reading this message in another frontend (for example, a static\n",
       "  rendering on GitHub or <a href=\"https://nbviewer.jupyter.org/\">NBViewer</a>),\n",
       "  it may mean that your frontend doesn't currently support widgets.\n",
       "</p>\n"
      ],
      "text/plain": [
       "interactive(children=(FloatText(value=25.0, description='Grid (m):'), Dropdown(description='Method', index=3, options=('nearest', 'linear', 'cubic', 'minimumCurvature'), value='minimumCurvature'), Dropdown(description='ColorMap', index=3, options=('viridis', 'plasma', 'magma', 'RdBu_r', 'Greys_r', 'jet', 'rainbow', 'pink', 'bone', 'hsv', 'nipy_spectral'), value='RdBu_r'), FloatText(value=nan, description='EPSG code:', disabled=True), ToggleButton(value=False, description='Fetch Inc/Dec', disabled=True, icon='check', tooltip='Connect to NOAA API'), Text(value='./Output/DataGrid', description='GeoTiff name:', disabled=True), ToggleButton(value=False, description='Export Grid', disabled=True, icon='check', tooltip='Write file'), Output()), _dom_classes=('widget-interact',))"
      ]
     },
     "metadata": {},
     "output_type": "display_data"
    }
   ],
   "source": [
    "view = Simulator.dataGriddingWidget(\n",
    "    survey, saveAs=\"./Output/DataGrid\",\n",
    "    Method=\"minimumCurvature\", omit=[\"EPSGcode\",\"GetIncDec\",\"saveAs\",\"SaveGrid\"],\n",
    "    shapeFile='./assets/Synthetic/Synthetic_Zcontours.shp')\n",
    "display(view)"
   ]
  },
  {
   "cell_type": "markdown",
   "metadata": {},
   "source": [
    " "
   ]
  }
 ],
 "metadata": {
  "kernelspec": {
   "display_name": "Python 3",
   "language": "python",
   "name": "python3"
  },
  "language_info": {
   "codemirror_mode": {
    "name": "ipython",
    "version": 3
   },
   "file_extension": ".py",
   "mimetype": "text/x-python",
   "name": "python",
   "nbconvert_exporter": "python",
   "pygments_lexer": "ipython3",
   "version": "3.6.4"
  }
 },
 "nbformat": 4,
 "nbformat_minor": 2
}
