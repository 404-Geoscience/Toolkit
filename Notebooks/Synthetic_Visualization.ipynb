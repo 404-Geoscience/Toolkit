{
 "cells": [
  {
   "cell_type": "markdown",
   "metadata": {},
   "source": [
    "# 2.1.3.\tSynthetic - Magnetic Data Visualization\n",
    "\n"
   ]
  },
  {
   "cell_type": "code",
   "execution_count": null,
   "metadata": {},
   "outputs": [],
   "source": [
    "## Load all libraries and setup the synthetic problem\n",
    "from GeoToolkit.Mag import Mag, ProblemSetter, MathUtils, Simulator, DataIO\n",
    "import numpy as np\n",
    "\n",
    "dataFile = DataIO.fetchData(file=\"./assets/Synthetic/DataGrid.tiff\", dtype='GeoTiff', checkDir=True, loadFile=True)\n",
    "display(dataFile)\n"
   ]
  },
  {
   "cell_type": "code",
   "execution_count": null,
   "metadata": {},
   "outputs": [],
   "source": [
    "dataGrid = Simulator.dataGridGeoref(dataFile.result[0], inc=90, dec=0)\n",
    "display(dataGrid)"
   ]
  },
  {
   "cell_type": "markdown",
   "metadata": {},
   "source": [
    "## Data visualization and image enhancement\n",
    "\n",
    "Simple enhancements to the image can help an interpreter better visualize features within magnetic data. Applying sun-shading from various angles, experimenting with colour contrast, and adding contour lines are a simple means to explore the data initially. Various image enhancement options can be tested on the synthetic gridded magnetic data below.  \n",
    "\n",
    "**Sun-shading**. Try using the slider bars above the map - they look like this - ![sunshade](./images/shading_contours_20per_ppt.PNG) \n",
    "\n",
    "to change the direction (SunAzimuth) and angle (SunAngle) of sun shading, to vary color transparency (ColorTransp) and sun-shade transparency (HSTransp), change the vertical scale (vScale), and to manipulate magnetic contour lines (MagContour).\n",
    "\n",
    "**Color maps**. The color map, or color 'look-up table', can also be changed. \n",
    "**Color stretch**. Finally, the color stretch can be changed using the color normalization drop-down (Color Norm):![colornorm](./images/color_normalization_25per_ppt.PNG)\n",
    "Here we've allowed two options, a linear stretch (Linear), and a histogram equalized (HistEqualized) stretch. Using a linear stretch, the values within a range of magnetic data are mapped to 256 classes or bins within a chosen color map in a linear manner, meaning if there are few anomalously high values (outliers) in the range, the 'strongest' color values will be mapped rarely. If there are many middle-range values, the image may be flooded with mid range color values. While a linear color stretch will highlight the most anomalous values, it can wash out subtler features in the data. Histogram equialization will vary the color bin sizes to map an equal number of data points per bin, essentially giving equal weight to low, mid-range, and high magnetic values.       "
   ]
  },
  {
   "cell_type": "code",
   "execution_count": null,
   "metadata": {},
   "outputs": [],
   "source": [
    "view = Simulator.dataHillsideWidget(dataGrid.result, saveAs='DataHillshade', dpi=300)\n",
    "display(view)"
   ]
  },
  {
   "cell_type": "markdown",
   "metadata": {},
   "source": [
    " "
   ]
  }
 ],
 "metadata": {
  "kernelspec": {
   "display_name": "Python 3",
   "language": "python",
   "name": "python3"
  },
  "language_info": {
   "codemirror_mode": {
    "name": "ipython",
    "version": 3
   },
   "file_extension": ".py",
   "mimetype": "text/x-python",
   "name": "python",
   "nbconvert_exporter": "python",
   "pygments_lexer": "ipython3",
   "version": "3.6.5"
  }
 },
 "nbformat": 4,
 "nbformat_minor": 2
}
