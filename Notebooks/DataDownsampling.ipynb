{
 "cells": [
  {
   "cell_type": "code",
   "execution_count": 1,
   "metadata": {},
   "outputs": [],
   "source": [
    "from SimPEG import Utils\n",
    "from SimPEG.Utils import mkvc\n",
    "import SimPEG.PF as PF\n",
    "import numpy as np\n",
    "import scipy as sp\n",
    "import re\n",
    "import matplotlib.pyplot as plt"
   ]
  },
  {
   "cell_type": "code",
   "execution_count": 2,
   "metadata": {},
   "outputs": [],
   "source": [
    "workDir = 'C:\\\\Dianne\\\\Data\\\\Public\\\\GBC_Search\\\\Phase2\\\\Mag\\\\GBCR2018-02-GDB-Magnetics\\\\'\n",
    "fname = 'Search_reduced_columns.csv'"
   ]
  },
  {
   "cell_type": "code",
   "execution_count": 3,
   "metadata": {},
   "outputs": [
    {
     "name": "stdout",
     "output_type": "stream",
     "text": [
      "altrad_heli,dem,gpsz,mag_tmi,x_nad83_9n,y_nad83_9n\n",
      "\n"
     ]
    }
   ],
   "source": [
    "fid = open(workDir+fname, 'r')\n",
    "header = fid.readline()\n",
    "\n",
    "\n",
    "print(header)\n",
    "\n",
    "dtaMat=fid.readlines()\n",
    "fid.close()"
   ]
  },
  {
   "cell_type": "code",
   "execution_count": 5,
   "metadata": {},
   "outputs": [
    {
     "name": "stdout",
     "output_type": "stream",
     "text": [
      "Done 0.0 %\n",
      "Done 10.0 %\n",
      "Done 20.0 %\n",
      "Done 30.0 %\n",
      "Done 40.0 %\n",
      "Done 50.0 %\n",
      "Done 60.0 %\n",
      "Done 70.0 %\n",
      "Done 80.0 %\n",
      "Done 90.0 %\n"
     ]
    }
   ],
   "source": [
    "def progress(iter, prog, final):\n",
    "    \"\"\"\n",
    "    progress(iter,prog,final)\n",
    "\n",
    "    Function measuring the progress of a process and print to screen the %.\n",
    "    Useful to estimate the remaining runtime of a large problem.\n",
    "\n",
    "    Created on Dec, 20th 2015\n",
    "\n",
    "    @author: dominiquef\n",
    "    \"\"\"\n",
    "    arg = np.floor(float(iter)/float(final)*10.)\n",
    "\n",
    "    if arg > prog:\n",
    "\n",
    "        print(\"Done \" + str(arg*10) + \" %\")\n",
    "        prog = arg\n",
    "\n",
    "    return prog\n",
    "\n",
    "dataMat = []\n",
    "count = -1\n",
    "for ii, line in enumerate(dtaMat):\n",
    "    lst = re.findall('\\d*\\.\\d*', line)\n",
    "    \n",
    "    if len(lst) == 6:\n",
    "        dataMat.append([float(i) for i in lst])\n",
    "        \n",
    "    count = progress(ii, count, len(dtaMat))"
   ]
  },
  {
   "cell_type": "code",
   "execution_count": 6,
   "metadata": {},
   "outputs": [],
   "source": [
    "dataMat = np.vstack(dataMat)"
   ]
  },
  {
   "cell_type": "code",
   "execution_count": 7,
   "metadata": {},
   "outputs": [
    {
     "data": {
      "image/png": "[encoded data removed]",
      "text/plain": [
       "<matplotlib.figure.Figure at 0x16e3b4a8c88>"
      ]
     },
     "metadata": {},
     "output_type": "display_data"
    }
   ],
   "source": [
    "# small = dataMat[::100,:]\n",
    "# small.shape\n",
    "\n",
    "# plt.scatter(small[:,4],small[:,5])\n",
    "# plt.show()"
   ]
  },
  {
   "cell_type": "code",
   "execution_count": 9,
   "metadata": {},
   "outputs": [
    {
     "name": "stdout",
     "output_type": "stream",
     "text": [
      "nD ratio:1665770\\16657709\n"
     ]
    }
   ],
   "source": [
    "dType = 'XYZ'\n",
    "method = ('random', 0.1)  #('radius', 100)# #\n",
    "\n",
    "dFileOut = 'Search_reduced_columns_DwnS100m.dat'\n",
    "\n",
    "# # SCRIPT STARTS HERE # #\n",
    "if dType == 'MAG':\n",
    "    survey = PF.Magnetics.readMagneticsObservations(workDir + '\\\\' + dFile)\n",
    "    locXYZ = survey.srcField.rxList[0].locs\n",
    "elif dType == 'GRAV':\n",
    "    survey = PF.Gravity.readUBCgravObs(workDir + '\\\\' + dFile)\n",
    "    locXYZ = survey.srcField.rxList[0].locs\n",
    "elif dType == 'XYZ':\n",
    "#     survey = np.loadtxt(workDir + \"\\\\\" + dFile, skiprows=1)\n",
    "    locXYZ = dataMat[:, 4:]\n",
    "else:\n",
    "    assert dType in ['MAG', 'GRAV', 'XYZ'], \"dType must be 'MAG' or 'GRAV'\"\n",
    "\n",
    "# Downsample the survey using specified method\n",
    "assert method[0] in ['radius', 'random'], \"Downsample method should be 'radius' or 'random' \"\n",
    "\n",
    "\n",
    "def progress(iter, prog, final):\n",
    "    \"\"\"\n",
    "    progress(iter,prog,final)\n",
    "\n",
    "    Function measuring the progress of a process and print to screen the %.\n",
    "    Useful to estimate the remaining runtime of a large problem.\n",
    "\n",
    "    Created on Dec, 20th 2015\n",
    "\n",
    "    @author: dominiquef\n",
    "    \"\"\"\n",
    "    arg = np.floor(float(iter)/float(final)*10.)\n",
    "\n",
    "    if arg > prog:\n",
    "\n",
    "        print(\"Done \" + str(arg*10) + \" %\")\n",
    "        prog = arg\n",
    "\n",
    "    return prog\n",
    "\n",
    "\n",
    "if method[0] == 'radius':\n",
    "\n",
    "    nstn = locXYZ.shape[0]\n",
    "    # Initialize the filter\n",
    "    indx = np.ones(nstn, dtype='bool')\n",
    "\n",
    "    count = -1\n",
    "    print(\"Begin filtering for radius= \" + str(method[1]))\n",
    "\n",
    "    for ii in range(nstn):\n",
    "\n",
    "        if indx[ii]:\n",
    "\n",
    "            rad = ((locXYZ[ii, 0] - locXYZ[:, 0])**2 +\n",
    "                   (locXYZ[ii, 1] - locXYZ[:, 1])**2)**0.5\n",
    "\n",
    "            indx[rad < method[1]] = False\n",
    "            indx[ii] = True\n",
    "\n",
    "        count = progress(ii, count, nstn)\n",
    "\n",
    "\n",
    "elif method[0] == 'random':\n",
    "\n",
    "    nD = int(locXYZ.shape[0]*method[1])\n",
    "    print(\"nD ratio:\" + str(nD) + '\\\\' + str(locXYZ.shape[0]))\n",
    "    indx = np.random.randint(0, high=locXYZ.shape[0], size=nD)\n",
    "\n",
    "\n",
    "# Create a new downsampled survey\n",
    "if dType == 'MAG':\n",
    "\n",
    "    rxLoc = PF.BaseGrav.RxObs(locXYZ[indx, :])\n",
    "    srcField = PF.BaseMag.SrcField([rxLoc], param=survey.srcField.param)\n",
    "    survey_dwnS = PF.BaseMag.LinearSurvey(srcField)\n",
    "    survey_dwnS.dobs = survey.dobs[indx]\n",
    "    survey_dwnS.std = survey.std[indx]\n",
    "\n",
    "    PF.Magnetics.writeUBCobs(workDir + '\\\\' + dFileOut, survey_dwnS)\n",
    "\n",
    "elif dType == 'GRAV':\n",
    "\n",
    "    rxLoc = BaseGrav.RxObs(locXYZ[indx, :])\n",
    "    srcField = BaseGrav.SrcField([rxLoc])\n",
    "    survey_dwnS = BaseGrav.LinearSurvey_dwnS(srcField)\n",
    "    survey_dwnS.dobs = survey.dobs[indx]\n",
    "    survey_dwnS.std = survey.std[indx]\n",
    "\n",
    "    PF.Gravity.writeUBCobs(workDir + '\\\\' + dFileOut, survey_dwnS)\n",
    "\n",
    "elif dType == 'XYZ':\n",
    "\n",
    "    # vec = np.zeros(locXYZ.shape[0], dtype='bool')\n",
    "    # vec[indx] = True\n",
    "    # indx = np.all([vec, locXYZ[:,0] > 479000, locXYZ[:,1] > 6910000,\n",
    "    #                locXYZ[:,0] < 670000, locXYZ[:,1] < 7009000], axis=0)\n",
    "    survey_swnS = dataMat[indx, :]  # np.c_[survey[indx, :2],survey[indx, -1]]\n",
    "    np.savetxt(workDir + '\\\\' + dFileOut, survey_swnS)\n"
   ]
  },
  {
   "cell_type": "code",
   "execution_count": null,
   "metadata": {},
   "outputs": [],
   "source": []
  }
 ],
 "metadata": {
  "kernelspec": {
   "display_name": "Python 3",
   "language": "python",
   "name": "python3"
  },
  "language_info": {
   "codemirror_mode": {
    "name": "ipython",
    "version": 3
   },
   "file_extension": ".py",
   "mimetype": "text/x-python",
   "name": "python",
   "nbconvert_exporter": "python",
   "pygments_lexer": "ipython3",
   "version": "3.6.4"
  }
 },
 "nbformat": 4,
 "nbformat_minor": 2
}
