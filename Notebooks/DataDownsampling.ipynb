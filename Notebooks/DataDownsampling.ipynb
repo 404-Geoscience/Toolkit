{
 "cells": [
  {
   "cell_type": "code",
   "execution_count": 1,
   "metadata": {
    "collapsed": true
   },
   "outputs": [],
   "source": [
    "from SimPEG import Utils\n",
    "from SimPEG.Utils import mkvc\n",
    "import SimPEG.PF as PF\n",
    "import numpy as np\n",
    "import scipy as sp"
   ]
  },
  {
   "cell_type": "code",
   "execution_count": 3,
   "metadata": {
    "collapsed": true
   },
   "outputs": [],
   "source": [
    "workDir = './'\n",
    "fname = 'DIGHEM_Mag_floor10nt_25m.obs'"
   ]
  },
  {
   "cell_type": "code",
   "execution_count": 4,
   "metadata": {},
   "outputs": [],
   "source": [
    "# with open(workDir+fname) as f:\n",
    "#     content = f.readlines()"
   ]
  },
  {
   "cell_type": "code",
   "execution_count": 8,
   "metadata": {},
   "outputs": [],
   "source": [
    "fid = open(workDir + fname, \"r\")"
   ]
  },
  {
   "cell_type": "code",
   "execution_count": 15,
   "metadata": {},
   "outputs": [
    {
     "data": {
      "text/plain": [
       "'1092\\n'"
      ]
     },
     "execution_count": 15,
     "metadata": {},
     "output_type": "execute_result"
    }
   ],
   "source": [
    "fid.readline()"
   ]
  },
  {
   "cell_type": "code",
   "execution_count": 16,
   "metadata": {
    "collapsed": true
   },
   "outputs": [],
   "source": [
    "fid.close()"
   ]
  },
  {
   "cell_type": "code",
   "execution_count": null,
   "metadata": {
    "collapsed": true
   },
   "outputs": [],
   "source": [
    "dType = 'MAG'\n",
    "method = ('radius', 40)#('random', 0.2)  # #\n",
    "\n",
    "dFileOut = 'VTEM_FLT40m_IGRF53550nT.dat'\n",
    "\n",
    "# # SCRIPT STARTS HERE # #\n",
    "if dType == 'MAG':\n",
    "    survey = PF.Magnetics.readMagneticsObservations(workDir + '\\\\' + dFile)\n",
    "    locXYZ = survey.srcField.rxList[0].locs\n",
    "elif dType == 'GRAV':\n",
    "    survey = PF.Gravity.readUBCgravObs(workDir + '\\\\' + dFile)\n",
    "    locXYZ = survey.srcField.rxList[0].locs\n",
    "elif dType == 'XYZ':\n",
    "    survey = np.loadtxt(workDir + \"\\\\\" + dFile, skiprows=1)\n",
    "    locXYZ = survey[:, :2]\n",
    "else:\n",
    "    assert dType in ['MAG', 'GRAV', 'XYZ'], \"dType must be 'MAG' or 'GRAV'\"\n",
    "\n",
    "# Downsample the survey using specified method\n",
    "assert method[0] in ['radius', 'random'], \"Downsample method should be 'radius' or 'random' \"\n",
    "\n",
    "\n",
    "def progress(iter, prog, final):\n",
    "    \"\"\"\n",
    "    progress(iter,prog,final)\n",
    "\n",
    "    Function measuring the progress of a process and print to screen the %.\n",
    "    Useful to estimate the remaining runtime of a large problem.\n",
    "\n",
    "    Created on Dec, 20th 2015\n",
    "\n",
    "    @author: dominiquef\n",
    "    \"\"\"\n",
    "    arg = np.floor(float(iter)/float(final)*10.)\n",
    "\n",
    "    if arg > prog:\n",
    "\n",
    "        print(\"Done \" + str(arg*10) + \" %\")\n",
    "        prog = arg\n",
    "\n",
    "    return prog\n",
    "\n",
    "\n",
    "if method[0] == 'radius':\n",
    "\n",
    "    nstn = locXYZ.shape[0]\n",
    "    # Initialize the filter\n",
    "    indx = np.ones(nstn, dtype='bool')\n",
    "\n",
    "    count = -1\n",
    "    print(\"Begin filtering for radius= \" + str(method[1]))\n",
    "\n",
    "    for ii in range(nstn):\n",
    "\n",
    "        if indx[ii]:\n",
    "\n",
    "            rad = ((locXYZ[ii, 0] - locXYZ[:, 0])**2 +\n",
    "                   (locXYZ[ii, 1] - locXYZ[:, 1])**2)**0.5\n",
    "\n",
    "            indx[rad < method[1]] = False\n",
    "            indx[ii] = True\n",
    "\n",
    "        count = progress(ii, count, nstn)\n",
    "\n",
    "\n",
    "elif method[0] == 'random':\n",
    "\n",
    "    nD = int(locXYZ.shape[0]*method[1])\n",
    "    print(\"nD ratio:\" + str(nD) + '\\\\' + str(locXYZ.shape[0]))\n",
    "    indx = np.random.randint(0, high=locXYZ.shape[0], size=nD)\n",
    "\n",
    "\n",
    "# Create a new downsampled survey\n",
    "if dType == 'MAG':\n",
    "\n",
    "    rxLoc = PF.BaseGrav.RxObs(locXYZ[indx, :])\n",
    "    srcField = PF.BaseMag.SrcField([rxLoc], param=survey.srcField.param)\n",
    "    survey_dwnS = PF.BaseMag.LinearSurvey(srcField)\n",
    "    survey_dwnS.dobs = survey.dobs[indx]\n",
    "    survey_dwnS.std = survey.std[indx]\n",
    "\n",
    "    PF.Magnetics.writeUBCobs(workDir + '\\\\' + dFileOut, survey_dwnS)\n",
    "\n",
    "elif dType == 'GRAV':\n",
    "\n",
    "    rxLoc = BaseGrav.RxObs(locXYZ[indx, :])\n",
    "    srcField = BaseGrav.SrcField([rxLoc])\n",
    "    survey_dwnS = BaseGrav.LinearSurvey_dwnS(srcField)\n",
    "    survey_dwnS.dobs = survey.dobs[indx]\n",
    "    survey_dwnS.std = survey.std[indx]\n",
    "\n",
    "    PF.Gravity.writeUBCobs(workDir + '\\\\' + dFileOut, survey_dwnS)\n",
    "\n",
    "elif dType == 'XYZ':\n",
    "\n",
    "    # vec = np.zeros(locXYZ.shape[0], dtype='bool')\n",
    "    # vec[indx] = True\n",
    "    # indx = np.all([vec, locXYZ[:,0] > 479000, locXYZ[:,1] > 6910000,\n",
    "    #                locXYZ[:,0] < 670000, locXYZ[:,1] < 7009000], axis=0)\n",
    "    survey_swnS = survey[indx, :]  # np.c_[survey[indx, :2],survey[indx, -1]]\n",
    "    np.savetxt(workDir + '\\\\' + dFileOut, survey_swnS)\n"
   ]
  }
 ],
 "metadata": {
  "kernelspec": {
   "display_name": "Python 3",
   "language": "python",
   "name": "python3"
  },
  "language_info": {
   "codemirror_mode": {
    "name": "ipython",
    "version": 3
   },
   "file_extension": ".py",
   "mimetype": "text/x-python",
   "name": "python",
   "nbconvert_exporter": "python",
   "pygments_lexer": "ipython3",
   "version": "3.6.2"
  }
 },
 "nbformat": 4,
 "nbformat_minor": 2
}
