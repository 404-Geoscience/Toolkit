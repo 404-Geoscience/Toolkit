{
 "cells": [
  {
   "cell_type": "code",
   "execution_count": 1,
   "metadata": {
    "scrolled": false
   },
   "outputs": [],
   "source": [
    "## Load all libraries and setup the synthetic problem\n",
    "from library.Mag import Mag, ProblemSetter, MathUtils, Simulator, DataIO\n",
    "import numpy as np\n",
    "from SimPEG import PF, Utils, Mesh, Maps\n",
    "from SimPEG import Utils\n",
    "from SimPEG.Utils import mkvc\n",
    "import SimPEG.PF as PF\n",
    "import scipy as sp\n",
    "import re\n",
    "import matplotlib.pyplot as plt\n",
    "from matplotlib.patches import Rectangle\n",
    "import matplotlib.pyplot as plt\n",
    "import ipywidgets as widgets\n",
    "\n",
    "# Load data and topo and build default model\n",
    "workDir = r\"C:\\Users\\DominiqueFournier\\Dropbox\\MDRU_GIF_shared_files\\GBC_Search_grd\"\n",
    "fName = '\\MAG_UTM09.grd'\n",
    "\n",
    "dataGrid = DataIO.loadGRDFile(workDir+fName, plotIt=False)"
   ]
  },
  {
   "cell_type": "markdown",
   "metadata": {},
   "source": [
    "# X.X.\tDepth estimation from Tilt angle#\n",
    "\n",
    "\n",
    "\n",
    "<!-- <img src=\"./images/SearchQuestII.png\"> -->\n"
   ]
  },
  {
   "cell_type": "markdown",
   "metadata": {},
   "source": [
    "## Compute tilt angle\n"
   ]
  },
  {
   "cell_type": "code",
   "execution_count": 2,
   "metadata": {},
   "outputs": [
    {
     "data": {
      "application/vnd.jupyter.widget-view+json": {
       "model_id": "2a8b029972c34255bd751f25b73289b9",
       "version_major": 2,
       "version_minor": 0
      },
      "text/plain": [
       "interactive(children=(FloatSlider(value=669500.0, continuous_update=False, description='East', max=816075.0, m…"
      ]
     },
     "metadata": {},
     "output_type": "display_data"
    }
   ],
   "source": [
    "selection = ProblemSetter.setDataExtentWidget(dataGrid)\n",
    "display(selection)"
   ]
  },
  {
   "cell_type": "markdown",
   "metadata": {},
   "source": [
    "# Compute depth from tilt and export Shapefile"
   ]
  },
  {
   "cell_type": "code",
   "execution_count": 3,
   "metadata": {},
   "outputs": [],
   "source": [
    "polylines, attributes = MathUtils.estimateDepth(selection.result)\n",
    "\n",
    "# Export to shapefile\n",
    "DataIO.exportShapefile(polylines, attributes, EPSGCode=26909, fileName='Tilt2Depth', label='AverageDepth')"
   ]
  },
  {
   "cell_type": "markdown",
   "metadata": {},
   "source": [
    "# Plot map of estimated depths"
   ]
  },
  {
   "cell_type": "code",
   "execution_count": 6,
   "metadata": {},
   "outputs": [
    {
     "data": {
      "application/vnd.jupyter.widget-view+json": {
       "model_id": "7b2b1229df6d4fd9a022c7cde9a178c8",
       "version_major": 2,
       "version_minor": 0
      },
      "text/plain": [
       "interactive(children=(FloatSlider(value=0.0, continuous_update=False, description='SunAzimuth', max=360.0, ste…"
      ]
     },
     "metadata": {},
     "output_type": "display_data"
    }
   ],
   "source": [
    "scatterData = {}\n",
    "scatterData['x'] = np.vstack(polylines)[:,0]\n",
    "scatterData['y'] = np.vstack(polylines)[:,1]\n",
    "scatterData['z'] = 1\n",
    "scatterData['c'] = np.concatenate(attributes)\n",
    "scatterData['cmap'] = 'jet_r'\n",
    "scatterData['clim'] = [0, 250]\n",
    "\n",
    "view = Simulator.dataHillsideWidget(selection.result,figName='Tilt2Depth', scatterData=scatterData)\n",
    "display(view)"
   ]
  },
  {
   "cell_type": "markdown",
   "metadata": {},
   "source": [
    "  "
   ]
  }
 ],
 "metadata": {
  "kernelspec": {
   "display_name": "Python 3",
   "language": "python",
   "name": "python3"
  },
  "language_info": {
   "codemirror_mode": {
    "name": "ipython",
    "version": 3
   },
   "file_extension": ".py",
   "mimetype": "text/x-python",
   "name": "python",
   "nbconvert_exporter": "python",
   "pygments_lexer": "ipython3",
   "version": "3.6.5"
  }
 },
 "nbformat": 4,
 "nbformat_minor": 2
}
