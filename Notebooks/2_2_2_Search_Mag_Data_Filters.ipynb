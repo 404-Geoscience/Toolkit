{
 "cells": [
  {
   "cell_type": "markdown",
   "metadata": {},
   "source": [
    "<a href=\"http://toolkit.geosci.xyz\"><img src=\"./images/Filters_search_TotHoriz.PNG\" alt=\"http://toolkit.geosci.xyz\" align=\"right\" width=\"300\"></a>\n",
    "\n",
    "# 2.2.2.\tSearch Case Study - 2D Magnetic Data Filters#\n",
    "\n",
    "Now let's apply our suite of 2D filters introduced in [Notebook 2.1.4.](http://toolkit.geosci.xyz/content/Demos/SyntheticFilters.html#synthetic-2d-magnetic-data-filters) to the Geoscience BC Search Phase II magnetic dataset.   \n",
    "\n",
    "## Define a project area\n",
    "\n",
    "Let's choose a subset of data to view more closely. The map on the left below shows the full Search Phase II magnetic dataset with a movable 'window' outlined in black, and the map on the right shows just the data encompassed by the window. The window can be resized and moved anywhere over the data using the slider bars (East, North, Width, and Height). The default window is 30 km x 30 km in size, a size typical of surveys flown to explore magnetic responses at the exploration property, or district scale.\n",
    "\n",
    "To run the notebook cells below, select the cell, and press **[Shift+Enter]**, or click on the **'Run'** button in the menu at the top of the notebook. ![runcell](./images/runcell_30per_ppt.PNG)\n"
   ]
  },
  {
   "cell_type": "code",
   "execution_count": 1,
   "metadata": {},
   "outputs": [],
   "source": [
    "## Load all libraries and setup the synthetic problem\n",
    "from GeoToolkit.Mag import Simulator, DataIO\n",
    "dataGrid = DataIO.loadGeoTiffFile(\"./assets/Search/MAG_UTM09.tiff\")"
   ]
  },
  {
   "cell_type": "code",
   "execution_count": 2,
   "metadata": {},
   "outputs": [
    {
     "data": {
      "application/vnd.jupyter.widget-view+json": {
       "model_id": "fde80b0251b54cc38aa3d7f2b2560e7e",
       "version_major": 2,
       "version_minor": 0
      },
      "text/html": [
       "<p>Failed to display Jupyter Widget of type <code>interactive</code>.</p>\n",
       "<p>\n",
       "  If you're reading this message in the Jupyter Notebook or JupyterLab Notebook, it may mean\n",
       "  that the widgets JavaScript is still loading. If this message persists, it\n",
       "  likely means that the widgets JavaScript library is either not installed or\n",
       "  not enabled. See the <a href=\"https://ipywidgets.readthedocs.io/en/stable/user_install.html\">Jupyter\n",
       "  Widgets Documentation</a> for setup instructions.\n",
       "</p>\n",
       "<p>\n",
       "  If you're reading this message in another frontend (for example, a static\n",
       "  rendering on GitHub or <a href=\"https://nbviewer.jupyter.org/\">NBViewer</a>),\n",
       "  it may mean that your frontend doesn't currently support widgets.\n",
       "</p>\n"
      ],
      "text/plain": [
       "interactive(children=(FloatSlider(value=669500.0, continuous_update=False, description='East', max=807100.0220361393, min=580050.0, step=50.0220361392684), FloatSlider(value=6069500.0, continuous_update=False, description='North', max=6150500.0, min=5903449.979748886, step=50.02025111381126), FloatSlider(value=30013.22168356104, continuous_update=False, description='Width', max=227050.02203613927, min=100.0440722785368, step=50.0220361392684), FloatSlider(value=30012.15066828676, continuous_update=False, description='Height', max=247050.02025111392, min=100.04050222762253, step=50.02025111381126), Text(value='./Output/MyGeoTiff', description='GeoTiff name:'), FloatText(value=3156.0, description='EPSG code:'), ToggleButton(value=False, description='Export Grid', icon='check', tooltip='Write file'), Output()), _dom_classes=('widget-interact',))"
      ]
     },
     "metadata": {},
     "output_type": "display_data"
    }
   ],
   "source": [
    "selection = Simulator.setDataExtentWidget(dataGrid, East=669500, North=6069500, nCx=600, nCy=600)\n",
    "display(selection)"
   ]
  },
  {
   "cell_type": "markdown",
   "metadata": {},
   "source": [
    "## 2D magnetic data filters\n",
    "\n",
    "\n",
    "Use the **'Grid Filters'** drop-down menu to choose a filter to apply to the magnetic data. ![gridfilter](./images/grid_filters_dropdown_vert_50per_ppt.PNG)\n",
    "\n",
    "Change the upward continuation height, or distance, using the slider bar labelled **'UpC'** (the default is 0 m, so you will need to change it to observe a change in the data): ![upwarddistSlider](./images/updist_height_upC_50per_ppt.PNG)\n",
    "\n",
    "The options to change the sun-shading azimuth, angle, and transparency, as well as the color map, are available again here. \n",
    "\n",
    "[If you have installed the Toolkit locally](http://toolkit.geosci.xyz/content/installation.html), this grid can be exported as a located image (geoTiff) and loaded into any software that accepts these types of files, including Google Earth and ArcMap. Try it! Give your file a unique name in the 'GeoTiff name' box, and click on the 'Export geoTiff' button. The coordinate system the Search Phase II data files are exported in is NAD 83 UTM Zone 9, EPSG code 3156, unless a new EPSG code is specified in the EPSG code box. **To use the image in GoogleEarth, export with EPSG=4326**"
   ]
  },
  {
   "cell_type": "code",
   "execution_count": 3,
   "metadata": {},
   "outputs": [
    {
     "ename": "AttributeError",
     "evalue": "'dataGrid' object has no attribute 'result'",
     "output_type": "error",
     "traceback": [
      "\u001b[1;31m---------------------------------------------------------------------------\u001b[0m",
      "\u001b[1;31mAttributeError\u001b[0m                            Traceback (most recent call last)",
      "\u001b[1;32m<ipython-input-3-9fadc54c5e83>\u001b[0m in \u001b[0;36m<module>\u001b[1;34m()\u001b[0m\n\u001b[1;32m----> 1\u001b[1;33m \u001b[0mdataGrid\u001b[0m \u001b[1;33m=\u001b[0m \u001b[0mSimulator\u001b[0m\u001b[1;33m.\u001b[0m\u001b[0mgridFiltersWidget\u001b[0m\u001b[1;33m(\u001b[0m\u001b[0mdataGrid\u001b[0m\u001b[1;33m.\u001b[0m\u001b[0mresult\u001b[0m\u001b[1;33m,\u001b[0m \u001b[0msaveAs\u001b[0m\u001b[1;33m=\u001b[0m\u001b[1;34m'SearchFilter'\u001b[0m\u001b[1;33m)\u001b[0m\u001b[1;33m\u001b[0m\u001b[0m\n\u001b[0m\u001b[0;32m      2\u001b[0m \u001b[0mdisplay\u001b[0m\u001b[1;33m(\u001b[0m\u001b[0mdataGrid\u001b[0m\u001b[1;33m)\u001b[0m\u001b[1;33m\u001b[0m\u001b[0m\n",
      "\u001b[1;31mAttributeError\u001b[0m: 'dataGrid' object has no attribute 'result'"
     ]
    }
   ],
   "source": [
    "dataGrid = Simulator.gridFiltersWidget(dataGrid.result, saveAs='SearchFilter')\n",
    "display(dataGrid)"
   ]
  },
  {
   "cell_type": "markdown",
   "metadata": {},
   "source": [
    "  "
   ]
  }
 ],
 "metadata": {
  "kernelspec": {
   "display_name": "Python 3",
   "language": "python",
   "name": "python3"
  },
  "language_info": {
   "codemirror_mode": {
    "name": "ipython",
    "version": 3
   },
   "file_extension": ".py",
   "mimetype": "text/x-python",
   "name": "python",
   "nbconvert_exporter": "python",
   "pygments_lexer": "ipython3",
   "version": "3.6.4"
  }
 },
 "nbformat": 4,
 "nbformat_minor": 2
}
