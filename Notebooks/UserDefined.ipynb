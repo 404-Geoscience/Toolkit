{
 "cells": [
  {
   "cell_type": "markdown",
   "metadata": {},
   "source": [
    "# 2.1.2.  User Data - Download, grid, explore\n",
    "\n"
   ]
  },
  {
   "cell_type": "code",
   "execution_count": null,
   "metadata": {},
   "outputs": [],
   "source": [
    "import os\n",
    "if os.name == 'nt':\n",
    "    !pip install geosoft"
   ]
  },
  {
   "cell_type": "code",
   "execution_count": null,
   "metadata": {},
   "outputs": [],
   "source": [
    "from library.Mag import Mag, ProblemSetter, MathUtils, Simulator, DataIO"
   ]
  },
  {
   "cell_type": "markdown",
   "metadata": {},
   "source": [
    "# Fetch data from Cloud or Local Drive\n",
    "\n",
    "**Cloud Option**\n",
    "\n",
    "Specify the url of the file to download. For personal repository (Dropbox, GoogleDrive), first generate a sharable link:\n",
    "\n",
    "The path should end with the following string \"?dl=0\" such as:\n",
    "\n",
    "\"https://www.dropbox.com/s/keggwmaal6wj1rh/Synthetic_Forward_TMI.dat?dl=0\"\n",
    "\n",
    "Alternatively, the url of the file from a download page:\n",
    "\n",
    "\"http://cdn.geosciencebc.com/project_data/QUEST-West/Gravity/GBCReport2008-10_09N.zip\"\n",
    "\n",
    "\n",
    "**Local Drive Option**\n",
    "\n",
    "\"./assets/Synthetic/\"\n",
    "\n",
    "\n",
    "**Warning**\n",
    "\n",
    "GDG file format only available for Windows users. Please install the Toolkit on your PC."
   ]
  },
  {
   "cell_type": "code",
   "execution_count": null,
   "metadata": {},
   "outputs": [],
   "source": [
    "download = DataIO.fetchData(path=\"https://github.com/geoscixyz/Toolkit/blob/master/Notebooks/assets/TKC/Synthetic_Forward_TMI.dat\", localCloud='Cloud')\n",
    "display(download)\n",
    "# \"C:\\Users\\DominiqueFournier\\Downloads\\DapDownload_d520831\\d520831\""
   ]
  },
  {
   "cell_type": "markdown",
   "metadata": {},
   "source": [
    "# Assign Coordinate System and Earth's Field parameters\n",
    "\n",
    "EPSG codes can easily be found with a google search (e.g. EPSG UTM Zone 09 N => 3156)\n",
    "\n",
    "**Warning**\n",
    "\n",
    "For CSV file format: MinimumCurvature interpolation is computationally expensive. For CSV > 10k data, consider downsampling"
   ]
  },
  {
   "cell_type": "code",
   "execution_count": null,
   "metadata": {},
   "outputs": [],
   "source": [
    "if download.result is not None:\n",
    "    if (download.result[1] == \"CSV\")  :\n",
    "        grid = Simulator.dataGriddingWidget(download.result[0])\n",
    "        display(grid)\n",
    "    else:\n",
    "        grid = Simulator.dataGridGeoref(download.result[0])\n",
    "        display(grid)"
   ]
  },
  {
   "cell_type": "markdown",
   "metadata": {},
   "source": [
    "# Specify the grid extend"
   ]
  },
  {
   "cell_type": "code",
   "execution_count": null,
   "metadata": {},
   "outputs": [],
   "source": [
    "if download.result is not None:\n",
    "    selection = Simulator.setDataExtentWidget(grid.result)\n",
    "    display(selection)"
   ]
  },
  {
   "cell_type": "code",
   "execution_count": null,
   "metadata": {},
   "outputs": [],
   "source": [
    "if download.result is not None:\n",
    "    view = Simulator.dataHillsideWidget(selection.result)\n",
    "    display(view)"
   ]
  },
  {
   "cell_type": "markdown",
   "metadata": {},
   "source": [
    "# View data and filters"
   ]
  },
  {
   "cell_type": "code",
   "execution_count": null,
   "metadata": {},
   "outputs": [],
   "source": [
    "if download.result is not None:\n",
    "    view = Simulator.gridFiltersWidget(selection.result)\n",
    "    display(view)"
   ]
  },
  {
   "cell_type": "code",
   "execution_count": null,
   "metadata": {},
   "outputs": [],
   "source": [
    "if download.result is not None:\n",
    "    view = Simulator.gridTilt2Depth(selection.result)\n",
    "    display(view)"
   ]
  },
  {
   "cell_type": "markdown",
   "metadata": {},
   "source": [
    " "
   ]
  }
 ],
 "metadata": {
  "kernelspec": {
   "display_name": "Python 3",
   "language": "python",
   "name": "python3"
  },
  "language_info": {
   "codemirror_mode": {
    "name": "ipython",
    "version": 3
   },
   "file_extension": ".py",
   "mimetype": "text/x-python",
   "name": "python",
   "nbconvert_exporter": "python",
   "pygments_lexer": "ipython3",
   "version": "3.6.5"
  }
 },
 "nbformat": 4,
 "nbformat_minor": 2
}
