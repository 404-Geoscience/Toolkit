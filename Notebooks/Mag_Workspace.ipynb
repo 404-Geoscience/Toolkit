{
 "cells": [
  {
   "cell_type": "markdown",
   "metadata": {
    "extensions": {
     "jupyter_dashboards": {
      "version": 1,
      "views": {
       "grid_default": {
        "col": 0,
        "height": 11,
        "hidden": false,
        "row": 0,
        "width": 12
       },
       "report_default": {
        "hidden": false
       }
      }
     }
    }
   },
   "source": [
    "This is the <a href=\"https://jupyter.org/\">Jupyter Notebook</a>, an interactive coding and computation environment. For this lab, you do not have to write any code, you will only be running it. \n",
    "\n",
    "To use the notebook:\n",
    "- \"Shift + Enter\" runs the code within the cell (so does the forward arrow button near the top of the document)\n",
    "- You can alter variables and re-run cells\n",
    "- If you want to start with a clean slate, restart the Kernel either by going to the top, clicking on Kernel: Restart, or by \"esc + 00\" (if you do this, you will need to re-run the following block of code before running any other cells in the notebook) \n",
    "\n",
    "This notebook uses code adapted from \n",
    "\n",
    "SimPEG\n",
    "- Cockett, R., S. Kang, L.J. Heagy, A. Pidlisecky, D.W. Oldenburg (2015, in review), SimPEG: An open source framework for simulation and gradient based parameter estimation in geophysical applications. Computers and Geosciences"
   ]
  },
  {
   "cell_type": "code",
   "execution_count": 1,
   "metadata": {
    "extensions": {
     "jupyter_dashboards": {
      "version": 1,
      "views": {
       "grid_default": {
        "col": 0,
        "height": 3,
        "hidden": true,
        "row": 11,
        "width": 12
       },
       "report_default": {
        "hidden": true
       }
      }
     }
    }
   },
   "outputs": [
    {
     "name": "stdout",
     "output_type": "stream",
     "text": [
      "Populating the interactive namespace from numpy and matplotlib\n"
     ]
    },
    {
     "name": "stderr",
     "output_type": "stream",
     "text": [
      "C:\\Users\\mdru\\Anaconda3\\lib\\site-packages\\IPython\\core\\magics\\pylab.py:160: UserWarning: pylab import has clobbered these variables: ['griddata']\n",
      "`%matplotlib` prevents importing * from pylab and numpy\n",
      "  \"\\n`%matplotlib` prevents importing * from pylab and numpy\"\n"
     ]
    }
   ],
   "source": [
    "from library.Mag import *\n",
    "from SimPEG import PF, Utils, Mesh\n",
    "import matplotlib.pyplot as plt\n",
    "from matplotlib.colors import LightSource\n",
    "from scipy.interpolate import griddata\n",
    "from scipy.spatial import cKDTree\n",
    "from scipy.interpolate.interpnd import _ndim_coords_from_arrays\n",
    "from scipy.sparse.linalg import bicgstab\n",
    "from SimPEG.Utils import mkvc\n",
    "\n",
    "%pylab inline"
   ]
  },
  {
   "cell_type": "markdown",
   "metadata": {
    "extensions": {
     "jupyter_dashboards": {
      "version": 1,
      "views": {
       "grid_default": {
        "col": 0,
        "height": 21,
        "hidden": false,
        "row": 22,
        "width": null
       },
       "report_default": {
        "hidden": false
       }
      }
     }
    }
   },
   "source": [
    "# How do we define direction of an earth magnetic field?\n",
    "\n",
    "Earth magnetic field is a vector. To define a vector we need to choose a coordinate system. We use right-handed system: \n",
    "- X (Easting), \n",
    "- Y (Northing), and \n",
    "- Z (Up). \n",
    "\n",
    "Here we consider an earth magnetic field ($\\vec{B_0}$), of which intensity is one. To define this unit vector, we use inclinatino and declination:\n",
    "- Declination: An angle from geographic North (Ng) (positive clockwise)\n",
    "- Inclination: Vertical angle from the N-E plane (positive down)\n",
    "\n",
    "<img src=\"https://github.com/geoscixyz/gpgLabs/raw/master/figures/Mag/earthfield.png?raw=true\" style=\"width: 60%; height: 60%\"> </img>"
   ]
  },
  {
   "cell_type": "markdown",
   "metadata": {
    "extensions": {
     "jupyter_dashboards": {
      "version": 1,
      "views": {
       "grid_default": {
        "col": 0,
        "height": 18,
        "hidden": false,
        "row": 43,
        "width": null
       },
       "report_default": {
        "hidden": false
       }
      }
     }
    }
   },
   "source": [
    "# What's data: total field anomaly\n",
    "\n",
    "We consider a typical form of magnetic data. To illustrate this we consider an suceptible object embedded in the earth. \n",
    "Based upon the earth magnetic field ($\\vec{B}_0$), this object will generate anomalous magnetic field ($\\vec{B}_A$). We define an unit vector $\\hat{B}_0$ for the earth field as \n",
    "$$ \\hat{B}_0 = \\frac{\\vec{B}_0}{|\\vec{B}_0|}$$ \n",
    "We measure both earth and anomalous magnetic field such that\n",
    "\n",
    "$$ \\vec{B} = \\vec{B}_0 + \\vec{B}_A$$\n",
    "\n",
    "Total field anomaly, $\\triangle \\vec{B}$ can be defined as\n",
    "\n",
    "$$  |\\triangle \\vec{B}| = |\\vec{B}|-|\\vec{B}_E| $$ \n",
    "\n",
    "If $|\\vec{B}|\\ll|\\vec{B}_E|$, then that is total field anomaly $\\triangle \\vec{B}$ is the projection of the anomalous field onto the direction of the earth field:\n",
    "\n",
    "$$ |\\triangle \\vec{B}| \\simeq \\vec{B}_A \\cdot \\hat{B}_0=|\\vec{B}_A|cos\\theta$$ \n",
    "\n",
    "<img src=\"https://github.com/geoscixyz/gpgLabs/raw/master/figures/Mag/totalfieldanomaly.png?raw=true\" style=\"width: 50%; height: 50%\">"
   ]
  },
  {
   "cell_type": "code",
   "execution_count": null,
   "metadata": {},
   "outputs": [],
   "source": []
  },
  {
   "cell_type": "code",
   "execution_count": 2,
   "metadata": {
    "extensions": {
     "jupyter_dashboards": {
      "version": 1,
      "views": {
       "grid_default": {
        "col": 0,
        "height": 28,
        "hidden": false,
        "row": 61,
        "width": 6
       },
       "report_default": {
        "hidden": true
       }
      }
     }
    }
   },
   "outputs": [
    {
     "data": {
      "application/vnd.jupyter.widget-view+json": {
       "model_id": "e3d7e342c4354b11a214520b181d6b54",
       "version_major": 2,
       "version_minor": 0
      },
      "text/html": [
       "<p>Failed to display Jupyter Widget of type <code>interactive</code>.</p>\n",
       "<p>\n",
       "  If you're reading this message in the Jupyter Notebook or JupyterLab Notebook, it may mean\n",
       "  that the widgets JavaScript is still loading. If this message persists, it\n",
       "  likely means that the widgets JavaScript library is either not installed or\n",
       "  not enabled. See the <a href=\"https://ipywidgets.readthedocs.io/en/stable/user_install.html\">Jupyter\n",
       "  Widgets Documentation</a> for setup instructions.\n",
       "</p>\n",
       "<p>\n",
       "  If you're reading this message in another frontend (for example, a static\n",
       "  rendering on GitHub or <a href=\"https://nbviewer.jupyter.org/\">NBViewer</a>),\n",
       "  it may mean that your frontend doesn't currently support widgets.\n",
       "</p>\n"
      ],
      "text/plain": [
       "interactive(children=(FloatSlider(value=676853.028569013, continuous_update=False, description='East', max=808810.677956897, min=544895.379181129, step=10.0), FloatSlider(value=6268028.801897446, continuous_update=False, description='North', max=6428662.942608655, min=6107394.661186236, step=10.0), FloatSlider(value=138555.53185727817, continuous_update=False, description='Width', max=138555.53185727817, min=10.0, step=10.0), FloatSlider(value=168665.84774677022, continuous_update=False, description='Height', max=168665.84774677022, min=10.0, step=10.0), FloatSlider(value=0.0, continuous_update=False, description='Azimuth', max=90.0, min=-90.0, step=5.0), FloatSlider(value=103942.47013853918, continuous_update=False, description='Length', max=103942.47013853918, min=10.0, step=10.0), BoundedFloatText(value=20.0, description='Npts', min=10.0, step=1.0), ToggleButton(value=False, description='Profile'), Output()), _dom_classes=('widget-interact',))"
      ]
     },
     "metadata": {},
     "output_type": "display_data"
    },
    {
     "data": {
      "image/png": "[encoded data removed]",
      "text/plain": [
       "<matplotlib.figure.Figure at 0x221f5155320>"
      ]
     },
     "metadata": {},
     "output_type": "display_data"
    }
   ],
   "source": [
    "#Input parameters\n",
    "# fileName = 'http://github.com/geoscixyz/gpgLabs/raw/master/assets/Mag/data/DO27_TMI.dat'\n",
    "xyzd = np.genfromtxt('C:\\\\Dianne\\\\Data\\\\Public\\\\GBC_Search\\\\Phase2\\\\Mag\\\\GBCR2018-02-GDB-Magnetics\\\\Search_reduced_columns_DwnS100m.dat')\n",
    "\n",
    "B = np.r_[60308, 83.8, 25.4]\n",
    "survey = Mag.createMagSurvey(np.c_[xyzd[:,4], xyzd[:,5], xyzd[:,2], xyzd[:,3]], B)\n",
    "# View the data and chose a profile\n",
    "param = Simulator.ViewMagSurvey2D(survey)\n",
    "display(param)"
   ]
  },
  {
   "cell_type": "markdown",
   "metadata": {},
   "source": [
    "Data griddind\n",
    "=======\n",
    "\n",
    "Before proceeding with the Fourier filters, we need to grid the data.\n",
    "Several papers comparing the different interpolation methods.\n",
    "\n",
    "Minimum curvature is often the best for potential fields"
   ]
  },
  {
   "cell_type": "code",
   "execution_count": 3,
   "metadata": {
    "collapsed": true
   },
   "outputs": [],
   "source": [
    "from scipy.sparse.linalg import bicgstab\n",
    "\n",
    "def minCurvatureInterp(xyzd, gridSize = 100):\n",
    "    \n",
    "    # Define a new grid based on data extent\n",
    "    xmin, xmax = xyzd[:,0].min(), xyzd[:,0].max()\n",
    "    ymin, ymax = xyzd[:,1].min(), xyzd[:,1].max()\n",
    "\n",
    "    nCx = int((xmax-xmin)/gridSize)\n",
    "    nCy = int((ymax-ymin)/gridSize)\n",
    "\n",
    "    vecCx = xmin+np.cumsum(np.ones(nCx) * gridSize)\n",
    "    vecCy = ymin+np.cumsum(np.ones(nCy) * gridSize)\n",
    "\n",
    "    gridCx, gridCy = np.meshgrid(vecCx, vecCy)\n",
    "\n",
    "    ndat = xyzd.shape[0]\n",
    "    nC = int(nCx*nCy)\n",
    "\n",
    "    A = np.zeros((ndat, ndat))\n",
    "    for i in range(ndat):\n",
    "\n",
    "        r = (xyzd[i,0] - xyzd[:,0])**2. + (xyzd[i,1] - xyzd[:,1])**2.\n",
    "        A[i, :] = r.T * (np.log((r.T + 1e-8)**0.5) - 1.)\n",
    "\n",
    "    # Solve system for the weights\n",
    "    w = bicgstab(A, xyzd[:,-1], tol=1e-6)\n",
    "\n",
    "    # Compute new solution\n",
    "    # Reformat the line data locations but skip every n points for test\n",
    "\n",
    "    xx = mkvc(gridCx)\n",
    "    yy = mkvc(gridCy)\n",
    "    dMinCurv = np.zeros_like(xx)\n",
    "    \n",
    "    # We can parallelize this part later\n",
    "    for i in range(nC):\n",
    "\n",
    "        r = (xx[i] - xyzd[:,0])**2. + (yy[i] - xyzd[:,1])**2.\n",
    "        dMinCurv[i] = np.sum( w[0] * r.T * ( np.log( (r.T + 1e-8)**0.5 ) - 1. ))\n",
    "\n",
    "    return gridCx, gridCy, dMinCurv.reshape(gridCx.shape, order='F')"
   ]
  },
  {
   "cell_type": "code",
   "execution_count": 4,
   "metadata": {
    "collapsed": true
   },
   "outputs": [],
   "source": [
    "X, Y, dMinCurv = minCurvatureInterp(xyzd, gridSize = 20)"
   ]
  },
  {
   "cell_type": "markdown",
   "metadata": {},
   "source": [
    "Data plot\n",
    "=====\n",
    "\n",
    "Next step we want to plot the data"
   ]
  },
  {
   "cell_type": "code",
   "execution_count": 5,
   "metadata": {},
   "outputs": [
    {
     "data": {
      "image/png": "[encoded data removed]",
      "text/plain": [
       "<Figure size 432x288 with 1 Axes>"
      ]
     },
     "metadata": {},
     "output_type": "display_data"
    }
   ],
   "source": [
    "plt.figure()\n",
    "axs = plt.subplot()\n",
    "plt.contourf(X, Y, dMinCurv,20, cmap='RdBu_r')\n",
    "plt.contour(X, Y, dMinCurv,20,colors='k')\n",
    "plt.scatter(xyzd[:,0], xyzd[:,1],2, color='k')\n",
    "axs.set_aspect('equal')\n",
    "plt.title('Boring 2D plot')\n",
    "plt.show()"
   ]
  },
  {
   "cell_type": "markdown",
   "metadata": {},
   "source": [
    "Advanced plot\n",
    "=======\n",
    "\n",
    "We can do better by adding \"relief\" and sun shading"
   ]
  },
  {
   "cell_type": "code",
   "execution_count": 6,
   "metadata": {
    "collapsed": true
   },
   "outputs": [],
   "source": [
    "# from matplotlib.colors import LightSource\n",
    "from scipy.interpolate import griddata\n",
    "from scipy.spatial import cKDTree\n",
    "from scipy.interpolate.interpnd import _ndim_coords_from_arrays\n",
    "from matplotlib.colors import LightSource\n",
    "\n",
    "def plotDataHillside(x, y, z, axs=None, fill=True, contour=0, vmin=None, vmax=None,\n",
    "                     clabel=True, cmap = 'RdBu_r', ve=1., alpha=1., alphaHS=1.,\n",
    "                     distMax=1000, midpoint=None, azdeg=315, altdeg=45):\n",
    "    \n",
    "    ls = LightSource(azdeg=azdeg, altdeg=altdeg)\n",
    "    \n",
    "    if x.ndim == 1:\n",
    "        # Create grid of points\n",
    "        x = np.linspace(x.min(), x.max(), 1000)\n",
    "        y = np.linspace(y.min(), y.max(), 1000)\n",
    "\n",
    "        X, Y = np.meshgrid(x, y)\n",
    "\n",
    "        # Interpolate\n",
    "        d_grid = griddata(np.c_[x,y], z, (X, Y), method='cubic')\n",
    "    \n",
    "    else:\n",
    "        \n",
    "        X, Y, d_grid = x, y, z\n",
    "        \n",
    "    # Remove points beyond treshold\n",
    "#     tree = cKDTree(np.c_[x,y])\n",
    "#     xi = _ndim_coords_from_arrays((X, Y), ndim=2)\n",
    "#     dists, indexes = tree.query(xi)\n",
    "\n",
    "#     # Copy original result but mask missing values with NaNs\n",
    "#     d_grid[dists > distMax] = np.nan\n",
    "\n",
    "\n",
    "    class MidPointNorm(Normalize):    \n",
    "        def __init__(self, midpoint=midpoint, vmin=None, vmax=None, clip=False):\n",
    "            Normalize.__init__(self,vmin, vmax, clip)\n",
    "            self.midpoint = midpoint\n",
    "\n",
    "        def __call__(self, value, clip=None):\n",
    "            if clip is None:\n",
    "                clip = self.clip\n",
    "\n",
    "            if self.midpoint is None:\n",
    "                midpoint = np.mean(value)\n",
    "                \n",
    "            result, is_scalar = self.process_value(value)\n",
    "\n",
    "            self.autoscale_None(result)\n",
    "            vmin, vmax = self.vmin, self.vmax\n",
    "\n",
    "            if not (vmin < midpoint < vmax):\n",
    "                raise ValueError(\"midpoint must be between maxvalue and minvalue.\")       \n",
    "            elif vmin == vmax:\n",
    "                result.fill(0) # Or should it be all masked? Or 0.5?\n",
    "            elif vmin > vmax:\n",
    "                raise ValueError(\"maxvalue must be bigger than minvalue\")\n",
    "            else:\n",
    "                vmin = float(vmin)\n",
    "                vmax = float(vmax)\n",
    "                if clip:\n",
    "                    mask = ma.getmask(result)\n",
    "                    result = ma.array(np.clip(result.filled(vmax), vmin, vmax),\n",
    "                                      mask=mask)\n",
    "\n",
    "                # ma division is very slow; we can take a shortcut\n",
    "                resdat = result.data\n",
    "\n",
    "                #First scale to -1 to 1 range, than to from 0 to 1.\n",
    "                resdat -= midpoint            \n",
    "                resdat[resdat>0] /= abs(vmax - midpoint)            \n",
    "                resdat[resdat<0] /= abs(vmin - midpoint)\n",
    "\n",
    "                resdat /= 2.\n",
    "                resdat += 0.5\n",
    "                result = ma.array(resdat, mask=result.mask, copy=False)                \n",
    "\n",
    "            if is_scalar:\n",
    "                result = result[0]            \n",
    "            return result\n",
    "\n",
    "        def inverse(self, value):\n",
    "            if not self.scaled():\n",
    "                raise ValueError(\"Not invertible until scaled\")\n",
    "            vmin, vmax, midpoint = self.vmin, self.vmax, self.midpoint\n",
    "\n",
    "            if cbook.iterable(value):\n",
    "                val = ma.asarray(value)\n",
    "                val = 2 * (val-0.5)  \n",
    "                val[val>0]  *= abs(vmax - midpoint)\n",
    "                val[val<0] *= abs(vmin - midpoint)\n",
    "                val += midpoint\n",
    "                return val\n",
    "            else:\n",
    "                val = 2 * (val - 0.5)\n",
    "                if val < 0: \n",
    "                    return  val*abs(vmin-midpoint) + midpoint\n",
    "                else:\n",
    "                    return  val*abs(vmax-midpoint) + midpoint\n",
    "\n",
    "    im, CS= [], []\n",
    "    if axs is None:\n",
    "        axs = plt.subplot()\n",
    "        \n",
    "    if fill:\n",
    "        extent = x.min(), x.max(), y.min(), y.max()\n",
    "        im = axs.contourf(X, Y, d_grid, 50, vmin=vmin, vmax=vmax, clim=[vmin,vmax],\n",
    "                          cmap=cmap, norm=MidPointNorm(midpoint=midpoint), alpha=alpha)\n",
    "        \n",
    "        axs.imshow(ls.hillshade(d_grid, vert_exag=ve, dx=1., dy=1.),\n",
    "                        cmap='gray', alpha=alphaHS,\n",
    "                        extent=extent, origin='lower')\n",
    "\n",
    "    if contour > 0:\n",
    "        CS = axs.contour(X, Y, d_grid, int(contour), colors='k', vmin=vmin, vmax=vmax, linewidths=0.5)\n",
    "        \n",
    "        if clabel:\n",
    "            plt.clabel(CS, inline=1, fontsize=10, fmt='%i')\n",
    "    return im, CS \n",
    "\n",
    "# DO18 = np.loadtxt('C:\\\\Users\\DominiqueFournier\\\\ownCloud\\\\TKC_CaseStudy\\\\Modelling\\\\GIS\\\\Harder_Outlines\\\\Harder2008_DO18_Outline.dat')\n",
    "# DO27 = np.loadtxt('C:\\\\Users\\DominiqueFournier\\\\ownCloud\\\\TKC_CaseStudy\\\\Modelling\\\\GIS\\\\Harder_Outlines\\\\Harder2008_DO27_Outline.dat')\n"
   ]
  },
  {
   "cell_type": "code",
   "execution_count": 7,
   "metadata": {},
   "outputs": [
    {
     "name": "stderr",
     "output_type": "stream",
     "text": [
      "Widget Javascript not detected.  It may not be installed or enabled properly.\n"
     ]
    },
    {
     "data": {
      "application/vnd.jupyter.widget-view+json": {
       "model_id": "d1e92103cb864967ab9db79dcacb6771"
      }
     },
     "metadata": {},
     "output_type": "display_data"
    }
   ],
   "source": [
    "import ipywidgets as widgets\n",
    "\n",
    "def dataViewer(X,Y,dataGrid):\n",
    "      \n",
    "    def plotData(azdeg,altdeg,alpha,alphaHS,contour):\n",
    "        fig = plt.figure(figsize=(8,6))\n",
    "        axs= plt.subplot()\n",
    "\n",
    "        # Read the data\n",
    "#         vmin, vmax = -25, 150\n",
    "        cmap = plt.cm.gist_earth\n",
    "\n",
    "        # Add shading\n",
    "        im, CS = plotDataHillside(X, Y,dataGrid ,\n",
    "                                  axs=axs, cmap='RdBu_r', \n",
    "                                  clabel=False, contour=contour,\n",
    "                                  alpha=alpha, alphaHS=alphaHS, ve=1., azdeg=azdeg, altdeg=altdeg)\n",
    "\n",
    "        # Add points at the survey locations\n",
    "        plt.scatter(xyzd[:,0], xyzd[:,1], s=2, c='k')\n",
    "\n",
    "        # Set limits and labels\n",
    "#         axs.set_xlim([xmin,xmax])\n",
    "#         axs.set_ylim([ymin,ymax])\n",
    "        # axs.set_xticklabels([556750,558000, 559250], size=14)\n",
    "        # axs.set_xticks([556750,558000, 559250])\n",
    "        # axs.set_yticklabels([7133000,7134000, 7135000], size=14, rotation=90, va='center')\n",
    "        plt.colorbar(im)\n",
    "        # axs.set_yticks([7133000,7134000, 7135000])\n",
    "        axs.set_xlabel(\"Easting (m)\", size=14)\n",
    "        axs.set_ylabel(\"Northing (m)\", size=14)\n",
    "        axs.grid('on', color='k', linestyle='--')\n",
    "        plt.show()\n",
    "        # Add colorbar\n",
    "        # pos = axs.get_position() # Get the position of previous axes\n",
    "        # axbar = plt.axes([pos.x0+.25, pos.y0+0.2,  pos.width*0.75, pos.height*.5]) # Create a new axes and reshape\n",
    "        # cbar = plt.colorbar(im, orientation='vertical',format='%.3f') # Add a colorbar using the color definition of previous\n",
    "        # cbar.set_ticks(np.linspace(-25,300,6)) # Change the tick position\n",
    "        # cbar.set_ticklabels(np.round(np.linspace(-25,300,6))) # Change the tick labels\n",
    "        # axbar.text(pos.x0+1., pos.y0+.75,'SI', size=14) # Add units and move it above\n",
    "        # axbar.axis('off') # Only keep the colorbar, remove the rest\n",
    "\n",
    "    out = widgets.interactive(plotData,\n",
    "                              azdeg=widgets.FloatSlider(min=0, max=360, step=5, value=0, continuous_update=False),\n",
    "                              altdeg=widgets.FloatSlider(min=0, max=90, step=5, value=45, continuous_update=False),\n",
    "                              alpha=widgets.FloatSlider(min=0, max=1, step=0.1, value=0.2, continuous_update=False),\n",
    "                              alphaHS=widgets.FloatSlider(min=0, max=1, step=0.1, value=1.0, continuous_update=False),\n",
    "                              contour=widgets.FloatSlider(min=0, max=20, step=1, value=10, continuous_update=False))\n",
    "    return out\n",
    "\n",
    "view = dataViewer(X, Y, dMinCurv)\n",
    "display(view)"
   ]
  },
  {
   "cell_type": "markdown",
   "metadata": {},
   "source": [
    "Fourier Filters\n",
    "========\n",
    "\n",
    "Next we want to look at data filters\n",
    "\n",
    "1- Total derivative\n",
    "\n",
    "2- 1th Vertical derivative"
   ]
  },
  {
   "cell_type": "code",
   "execution_count": 8,
   "metadata": {},
   "outputs": [
    {
     "name": "stderr",
     "output_type": "stream",
     "text": [
      "Widget Javascript not detected.  It may not be installed or enabled properly.\n"
     ]
    },
    {
     "data": {
      "application/vnd.jupyter.widget-view+json": {
       "model_id": "63d7749b825f4822b3a7f6b83737566b"
      }
     },
     "metadata": {},
     "output_type": "display_data"
    }
   ],
   "source": [
    "def padTapperGrid(d_grid):\n",
    "        ## Figure out padding width\n",
    "    padx = int(np.floor(d_grid.shape[1]))\n",
    "    pady = int(np.floor(d_grid.shape[0]))\n",
    "\n",
    "    # Add paddings\n",
    "    dpad = np.c_[np.fliplr(d_grid[:,0:padx]),\n",
    "                 d_grid,\n",
    "                 np.fliplr(d_grid[:,-padx:])\n",
    "                ]\n",
    "\n",
    "    dpad = np.r_[np.flipud(dpad[0:pady,:]),\n",
    "                 dpad,\n",
    "                 np.flipud(dpad[-pady:,:])\n",
    "                ]\n",
    "\n",
    "    dx = (1)/(dpad.shape[1]-1)\n",
    "    dy = (1)/(dpad.shape[0]-1)\n",
    "\n",
    "    kx = np.fft.fftfreq(dpad.shape[1], dx)\n",
    "    ky = np.fft.fftfreq(dpad.shape[0], dy)\n",
    "\n",
    "    Ky, Kx = numpy.meshgrid(ky, kx)\n",
    "\n",
    "    # Tapper the paddings\n",
    "    rampx = -np.cos(np.pi*np.asarray(range(padx))/padx)\n",
    "    rampx = np.r_[rampx,np.ones(d_grid.shape[1]),-rampx]/2. + 0.5\n",
    "    # tapperx,_ = meshgrid(rampx,np.ones(dpad.shape[1]))\n",
    "    # tapperx[padx:-padx,:] = 1.\n",
    "\n",
    "    rampy = -np.cos(np.pi*np.asarray(range(pady))/pady)\n",
    "    rampy = np.r_[rampy,np.ones(d_grid.shape[0]),-rampy]/2. +0.5\n",
    "    tapperx, tappery = meshgrid(rampx, rampy)\n",
    "\n",
    "    gridOut = tapperx*tappery*dpad\n",
    "    return padx, pady, Kx.T, Ky.T, gridOut\n",
    "\n",
    "\n",
    "def getFFTgrid(d_grid):\n",
    "\n",
    "    npadx, npady, Kx, Ky, dpad_taped = padTapperGrid(d_grid)\n",
    "    # Now that we have a grid we can run the FFT\n",
    "    FS = np.fft.fft2(dpad_taped)\n",
    "    \n",
    "    return npadx, npady, Kx, Ky, FS\n",
    "\n",
    "def gridFilers(d_grid, filterType='1VD'):\n",
    "\n",
    "    \n",
    "    padx, pady, Kx, Ky, FFTgrid = getFFTgrid(d_grid)\n",
    "    \n",
    "    FHxD = (Kx*1j)*FFTgrid\n",
    "    FHyD = (Ky*1j)*FFTgrid\n",
    "    \n",
    "    \n",
    "    if filterType == 'FHDx':\n",
    "        \n",
    "        fhxd_pad = np.fft.ifft2(FHxD)\n",
    "        gridOut = np.real(fhxd_pad[pady:-pady, padx:-padx])\n",
    "    \n",
    "    if filterType == 'FHDy':\n",
    "        \n",
    "        fhyd_pad = np.fft.ifft2(FHyD)\n",
    "        gridOut = np.real(fhyd_pad[pady:-pady, padx:-padx])\n",
    "\n",
    "    if filterType == '1VD':\n",
    "        FHzD = FFTgrid*np.sqrt(Kx**2 + Ky**2)\n",
    "        fhzd_pad = np.fft.ifft2(FHzD)\n",
    "        gridOut = np.real(fhzd_pad[pady:-pady, padx:-padx])\n",
    "\n",
    "    if filterType == 'THD':\n",
    "        fhxd_pad = np.fft.ifft2(FHxD)\n",
    "        fhxd = np.real(fhxd_pad[pady:-pady, padx:-padx])\n",
    "        \n",
    "        fhyd_pad = np.fft.ifft2(FHyD)\n",
    "        fhyd = np.real(fhyd_pad[pady:-pady, padx:-padx])\n",
    "                \n",
    "        gridOut = np.sqrt(fhxd**2 + fhyd**2)\n",
    "        \n",
    "    if filterType == 'TiltAngle':\n",
    "        \n",
    "        FHzD = FFTgrid*np.sqrt(Kx**2 + Ky**2)\n",
    "        fhzd_pad = np.fft.ifft2(FHzD)\n",
    "        fhzd = np.real(fhzd_pad[pady:-pady, padx:-padx])\n",
    "        gridOut = np.arctan2(fhzd, horiz_deriv)\n",
    "\n",
    "\n",
    "    return gridOut\n",
    "\n",
    "\n",
    "filteredData = gridFilers(dMinCurv, filterType='1VD')\n",
    "\n",
    "# Plot again fancy\n",
    "\n",
    "view = dataViewer(X, Y, filteredData)\n",
    "display(view)\n",
    "\n",
    "# ax2.set_title('Horizontal Derivative - X')\n",
    "\n",
    "# plt.subplot(1,3,2)\n",
    "# plt.imshow(tappery*tapperx,origin='lower')\n",
    "\n",
    "# plt.subplot(1,3,3)\n",
    "# plt.imshow(dpad_taped,origin='lower')"
   ]
  },
  {
   "cell_type": "code",
   "execution_count": 9,
   "metadata": {},
   "outputs": [
    {
     "name": "stderr",
     "output_type": "stream",
     "text": [
      "Widget Javascript not detected.  It may not be installed or enabled properly.\n"
     ]
    },
    {
     "data": {
      "application/vnd.jupyter.widget-view+json": {
       "model_id": "76d130a451d54ee6a2755c5ee10b15ee"
      }
     },
     "metadata": {},
     "output_type": "display_data"
    }
   ],
   "source": [
    "from skimage.measure import compare_ssim, find_contours\n",
    "from skimage.feature import canny\n",
    "\n",
    "def findEdges(dataGrid):\n",
    "    \n",
    "    def plotData(sigma,threshold):\n",
    "\n",
    "        plt.figure()\n",
    "        plt.subplot()\n",
    "\n",
    "        edges = canny(\n",
    "            filteredData, \n",
    "            sigma=sigma, \n",
    "            low_threshold=threshold, \n",
    "            use_quantiles=True)\n",
    "        \n",
    "        plt.contourf(X,Y,edges,1)\n",
    "        \n",
    "        plt.show()\n",
    "\n",
    "    out = widgets.interactive(plotData,\n",
    "                                  sigma=widgets.FloatSlider(min=0, max=4, step=0.1, value=1, continuous_update=False),\n",
    "                                  threshold=widgets.FloatSlider(min=0, max=4, step=0.1, value=0.01, continuous_update=False))\n",
    "                                  \n",
    "    return out\n",
    "                              \n",
    "view = findEdges(filteredData)\n",
    "                              \n",
    "display(view)\n",
    "                              "
   ]
  },
  {
   "cell_type": "code",
   "execution_count": 10,
   "metadata": {
    "collapsed": true
   },
   "outputs": [],
   "source": [
    "import skimage as sk\n",
    "\n",
    "edges = canny(\n",
    "            filteredData, \n",
    "            sigma=3.1, \n",
    "            low_threshold=0.1, \n",
    "            use_quantiles=True)\n",
    "\n",
    "lines = sk.transform.hough_line(edges)"
   ]
  },
  {
   "cell_type": "code",
   "execution_count": 11,
   "metadata": {},
   "outputs": [
    {
     "data": {
      "text/plain": [
       "(array([[0, 0, 0, ..., 0, 0, 0],\n",
       "        [0, 0, 0, ..., 0, 0, 0],\n",
       "        [0, 0, 0, ..., 0, 0, 0],\n",
       "        ...,\n",
       "        [0, 0, 0, ..., 0, 0, 0],\n",
       "        [0, 0, 0, ..., 0, 0, 0],\n",
       "        [0, 0, 0, ..., 0, 0, 0]], dtype=uint64),\n",
       " array([-1.57079633, -1.55324553, -1.53569473, -1.51814394, -1.50059314,\n",
       "        -1.48304234, -1.46549155, -1.44794075, -1.43038995, -1.41283915,\n",
       "        -1.39528836, -1.37773756, -1.36018676, -1.34263597, -1.32508517,\n",
       "        -1.30753437, -1.28998358, -1.27243278, -1.25488198, -1.23733118,\n",
       "        -1.21978039, -1.20222959, -1.18467879, -1.167128  , -1.1495772 ,\n",
       "        -1.1320264 , -1.11447561, -1.09692481, -1.07937401, -1.06182322,\n",
       "        -1.04427242, -1.02672162, -1.00917082, -0.99162003, -0.97406923,\n",
       "        -0.95651843, -0.93896764, -0.92141684, -0.90386604, -0.88631525,\n",
       "        -0.86876445, -0.85121365, -0.83366286, -0.81611206, -0.79856126,\n",
       "        -0.78101046, -0.76345967, -0.74590887, -0.72835807, -0.71080728,\n",
       "        -0.69325648, -0.67570568, -0.65815489, -0.64060409, -0.62305329,\n",
       "        -0.60550249, -0.5879517 , -0.5704009 , -0.5528501 , -0.53529931,\n",
       "        -0.51774851, -0.50019771, -0.48264692, -0.46509612, -0.44754532,\n",
       "        -0.42999453, -0.41244373, -0.39489293, -0.37734213, -0.35979134,\n",
       "        -0.34224054, -0.32468974, -0.30713895, -0.28958815, -0.27203735,\n",
       "        -0.25448656, -0.23693576, -0.21938496, -0.20183416, -0.18428337,\n",
       "        -0.16673257, -0.14918177, -0.13163098, -0.11408018, -0.09652938,\n",
       "        -0.07897859, -0.06142779, -0.04387699, -0.0263262 , -0.0087754 ,\n",
       "         0.0087754 ,  0.0263262 ,  0.04387699,  0.06142779,  0.07897859,\n",
       "         0.09652938,  0.11408018,  0.13163098,  0.14918177,  0.16673257,\n",
       "         0.18428337,  0.20183416,  0.21938496,  0.23693576,  0.25448656,\n",
       "         0.27203735,  0.28958815,  0.30713895,  0.32468974,  0.34224054,\n",
       "         0.35979134,  0.37734213,  0.39489293,  0.41244373,  0.42999453,\n",
       "         0.44754532,  0.46509612,  0.48264692,  0.50019771,  0.51774851,\n",
       "         0.53529931,  0.5528501 ,  0.5704009 ,  0.5879517 ,  0.60550249,\n",
       "         0.62305329,  0.64060409,  0.65815489,  0.67570568,  0.69325648,\n",
       "         0.71080728,  0.72835807,  0.74590887,  0.76345967,  0.78101046,\n",
       "         0.79856126,  0.81611206,  0.83366286,  0.85121365,  0.86876445,\n",
       "         0.88631525,  0.90386604,  0.92141684,  0.93896764,  0.95651843,\n",
       "         0.97406923,  0.99162003,  1.00917082,  1.02672162,  1.04427242,\n",
       "         1.06182322,  1.07937401,  1.09692481,  1.11447561,  1.1320264 ,\n",
       "         1.1495772 ,  1.167128  ,  1.18467879,  1.20222959,  1.21978039,\n",
       "         1.23733118,  1.25488198,  1.27243278,  1.28998358,  1.30753437,\n",
       "         1.32508517,  1.34263597,  1.36018676,  1.37773756,  1.39528836,\n",
       "         1.41283915,  1.43038995,  1.44794075,  1.46549155,  1.48304234,\n",
       "         1.50059314,  1.51814394,  1.53569473,  1.55324553,  1.57079633]),\n",
       " array([-80.        , -78.99371069, -77.98742138, -76.98113208,\n",
       "        -75.97484277, -74.96855346, -73.96226415, -72.95597484,\n",
       "        -71.94968553, -70.94339623, -69.93710692, -68.93081761,\n",
       "        -67.9245283 , -66.91823899, -65.91194969, -64.90566038,\n",
       "        -63.89937107, -62.89308176, -61.88679245, -60.88050314,\n",
       "        -59.87421384, -58.86792453, -57.86163522, -56.85534591,\n",
       "        -55.8490566 , -54.8427673 , -53.83647799, -52.83018868,\n",
       "        -51.82389937, -50.81761006, -49.81132075, -48.80503145,\n",
       "        -47.79874214, -46.79245283, -45.78616352, -44.77987421,\n",
       "        -43.77358491, -42.7672956 , -41.76100629, -40.75471698,\n",
       "        -39.74842767, -38.74213836, -37.73584906, -36.72955975,\n",
       "        -35.72327044, -34.71698113, -33.71069182, -32.70440252,\n",
       "        -31.69811321, -30.6918239 , -29.68553459, -28.67924528,\n",
       "        -27.67295597, -26.66666667, -25.66037736, -24.65408805,\n",
       "        -23.64779874, -22.64150943, -21.63522013, -20.62893082,\n",
       "        -19.62264151, -18.6163522 , -17.61006289, -16.60377358,\n",
       "        -15.59748428, -14.59119497, -13.58490566, -12.57861635,\n",
       "        -11.57232704, -10.56603774,  -9.55974843,  -8.55345912,\n",
       "         -7.54716981,  -6.5408805 ,  -5.53459119,  -4.52830189,\n",
       "         -3.52201258,  -2.51572327,  -1.50943396,  -0.50314465,\n",
       "          0.50314465,   1.50943396,   2.51572327,   3.52201258,\n",
       "          4.52830189,   5.53459119,   6.5408805 ,   7.54716981,\n",
       "          8.55345912,   9.55974843,  10.56603774,  11.57232704,\n",
       "         12.57861635,  13.58490566,  14.59119497,  15.59748428,\n",
       "         16.60377358,  17.61006289,  18.6163522 ,  19.62264151,\n",
       "         20.62893082,  21.63522013,  22.64150943,  23.64779874,\n",
       "         24.65408805,  25.66037736,  26.66666667,  27.67295597,\n",
       "         28.67924528,  29.68553459,  30.6918239 ,  31.69811321,\n",
       "         32.70440252,  33.71069182,  34.71698113,  35.72327044,\n",
       "         36.72955975,  37.73584906,  38.74213836,  39.74842767,\n",
       "         40.75471698,  41.76100629,  42.7672956 ,  43.77358491,\n",
       "         44.77987421,  45.78616352,  46.79245283,  47.79874214,\n",
       "         48.80503145,  49.81132075,  50.81761006,  51.82389937,\n",
       "         52.83018868,  53.83647799,  54.8427673 ,  55.8490566 ,\n",
       "         56.85534591,  57.86163522,  58.86792453,  59.87421384,\n",
       "         60.88050314,  61.88679245,  62.89308176,  63.89937107,\n",
       "         64.90566038,  65.91194969,  66.91823899,  67.9245283 ,\n",
       "         68.93081761,  69.93710692,  70.94339623,  71.94968553,\n",
       "         72.95597484,  73.96226415,  74.96855346,  75.97484277,\n",
       "         76.98113208,  77.98742138,  78.99371069,  80.        ]))"
      ]
     },
     "execution_count": 11,
     "metadata": {},
     "output_type": "execute_result"
    }
   ],
   "source": [
    "lines"
   ]
  },
  {
   "cell_type": "code",
   "execution_count": 12,
   "metadata": {},
   "outputs": [
    {
     "name": "stderr",
     "output_type": "stream",
     "text": [
      "Widget Javascript not detected.  It may not be installed or enabled properly.\n"
     ]
    },
    {
     "data": {
      "application/vnd.jupyter.widget-view+json": {
       "model_id": "b35fe756b8da43af96275b4ffa08de3e"
      }
     },
     "metadata": {},
     "output_type": "display_data"
    }
   ],
   "source": [
    "# Define the parametric model interactively\n",
    "model = Simulator.ViewPrism(param.result)\n",
    "display(model)"
   ]
  },
  {
   "cell_type": "markdown",
   "metadata": {
    "extensions": {
     "jupyter_dashboards": {
      "version": 1,
      "views": {
       "grid_default": {
        "col": 6,
        "height": 11,
        "hidden": false,
        "row": 11,
        "width": 6
       },
       "report_default": {
        "hidden": false
       }
      }
     }
    }
   },
   "source": [
    "# Magnetic applet\n",
    "Based on the prism that you made above, below Magnetic applet computes magnetic field at receiver locations, and provide both 2D map (left) and profile line (right). \n",
    "\n",
    "For the prism, you can alter:\n",
    "- sus: susceptibility of the prism\n",
    "\n",
    "Parameters for the earth field are:\n",
    "- Einc: inclination of the earth field (degree)\n",
    "- Edec: declination of the earth field (degree)\n",
    "- Bigrf: intensity of the earth field (nT)\n",
    "\n",
    "For data, you can view:\n",
    "- tf: total field anomaly,  \n",
    "- bx :x-component, \n",
    "- by :y-component, \n",
    "- bz :z-component\n",
    "\n",
    "You can simulate and view remanent magnetization effect with parameters:\n",
    "- irt: \"induced\", \"remanent\", or \"total\"\n",
    "- Q: Koenigsberger ratio ($\\frac{M_{rem}}{M_{ind}}$)\n",
    "- rinc: inclination of the remanent magnetization (degree)\n",
    "- rdec: declination of the remanent magnetization (degree)\n"
   ]
  },
  {
   "cell_type": "code",
   "execution_count": 13,
   "metadata": {
    "extensions": {
     "jupyter_dashboards": {
      "version": 1,
      "views": {
       "grid_default": {
        "col": 6,
        "height": 28,
        "hidden": false,
        "row": 61,
        "width": 6
       },
       "report_default": {
        "hidden": true
       }
      }
     }
    }
   },
   "outputs": [
    {
     "name": "stderr",
     "output_type": "stream",
     "text": [
      "Widget Javascript not detected.  It may not be installed or enabled properly.\n"
     ]
    },
    {
     "data": {
      "application/vnd.jupyter.widget-view+json": {
       "model_id": "28c86785014a40acbcdeb72b78fdec8e"
      }
     },
     "metadata": {},
     "output_type": "display_data"
    }
   ],
   "source": [
    "plotwidget = Simulator.PFSimulator(model, param)\n",
    "display(plotwidget)"
   ]
  },
  {
   "cell_type": "code",
   "execution_count": null,
   "metadata": {
    "collapsed": true
   },
   "outputs": [],
   "source": []
  },
  {
   "cell_type": "code",
   "execution_count": null,
   "metadata": {
    "collapsed": true
   },
   "outputs": [],
   "source": []
  }
 ],
 "metadata": {
  "anaconda-cloud": {},
  "extensions": {
   "jupyter_dashboards": {
    "activeView": "report_default",
    "version": 1,
    "views": {
     "grid_default": {
      "cellMargin": 10,
      "defaultCellHeight": 20,
      "maxColumns": 12,
      "name": "grid",
      "type": "grid"
     },
     "report_default": {
      "name": "report",
      "type": "report"
     }
    }
   }
  },
  "kernelspec": {
   "display_name": "Python 3",
   "language": "python",
   "name": "python3"
  },
  "language_info": {
   "codemirror_mode": {
    "name": "ipython",
    "version": 3
   },
   "file_extension": ".py",
   "mimetype": "text/x-python",
   "name": "python",
   "nbconvert_exporter": "python",
   "pygments_lexer": "ipython3",
   "version": "3.6.4"
  },
  "widgets": {
   "state": {
    "2c77e5c891dd44069234331d87475ef2": {
     "views": [
      {
       "cell_index": 5
      }
     ]
    }
   },
   "version": "1.2.0"
  }
 },
 "nbformat": 4,
 "nbformat_minor": 1
}
