{
 "cells": [
  {
   "cell_type": "markdown",
   "metadata": {},
   "source": [
    "# 2.1.2.  User Data - Download, grid, explore\n",
    "\n"
   ]
  },
  {
   "cell_type": "markdown",
   "metadata": {},
   "source": [
    "Before uploading your own data to work with, we will first install the Geosoft GX API module for Python so that we have the ability to use Geosoft .grd files. Select the cell, and press **[Shift+Enter]**, or click on the **'Run'** button in the menu at the top of the notebook. ![runcell](./images/runcell_30per_ppt.PNG)"
   ]
  },
  {
   "cell_type": "code",
   "execution_count": 1,
   "metadata": {},
   "outputs": [
    {
     "name": "stdout",
     "output_type": "stream",
     "text": [
      "Requirement already satisfied: geosoft in c:\\users\\mdru\\anaconda3\\lib\\site-packages\n",
      "Requirement already satisfied: requests in c:\\users\\mdru\\anaconda3\\lib\\site-packages (from geosoft)\n",
      "Requirement already satisfied: pandas in c:\\users\\mdru\\anaconda3\\lib\\site-packages (from geosoft)\n",
      "Requirement already satisfied: numpy in c:\\users\\mdru\\anaconda3\\lib\\site-packages (from geosoft)\n",
      "Requirement already satisfied: idna<2.8,>=2.5 in c:\\users\\mdru\\anaconda3\\lib\\site-packages (from requests->geosoft)\n",
      "Requirement already satisfied: chardet<3.1.0,>=3.0.2 in c:\\users\\mdru\\anaconda3\\lib\\site-packages (from requests->geosoft)\n",
      "Requirement already satisfied: urllib3<1.24,>=1.21.1 in c:\\users\\mdru\\anaconda3\\lib\\site-packages (from requests->geosoft)\n",
      "Requirement already satisfied: certifi>=2017.4.17 in c:\\users\\mdru\\anaconda3\\lib\\site-packages (from requests->geosoft)\n",
      "Requirement already satisfied: python-dateutil>=2 in c:\\users\\mdru\\anaconda3\\lib\\site-packages (from pandas->geosoft)\n",
      "Requirement already satisfied: pytz>=2011k in c:\\users\\mdru\\anaconda3\\lib\\site-packages (from pandas->geosoft)\n",
      "Requirement already satisfied: six>=1.5 in c:\\users\\mdru\\anaconda3\\lib\\site-packages (from python-dateutil>=2->pandas->geosoft)\n"
     ]
    },
    {
     "name": "stderr",
     "output_type": "stream",
     "text": [
      "You are using pip version 9.0.1, however version 18.0 is available.\n",
      "You should consider upgrading via the 'python -m pip install --upgrade pip' command.\n"
     ]
    }
   ],
   "source": [
    "import os\n",
    "if os.name == 'nt':\n",
    "    !pip install geosoft"
   ]
  },
  {
   "cell_type": "markdown",
   "metadata": {},
   "source": [
    "Please run the below cell to import other required GeoToolkit libraries."
   ]
  },
  {
   "cell_type": "code",
   "execution_count": 1,
   "metadata": {},
   "outputs": [],
   "source": [
    "from GeoToolkit.Mag import Mag, ProblemSetter, MathUtils, Simulator, DataIO"
   ]
  },
  {
   "cell_type": "markdown",
   "metadata": {},
   "source": [
    "# Fetch data from cloud or local drive\n",
    "\n",
    "To upload your own data, run the notebook cells below this section.\n",
    "\n",
    "You can retrieve your data from a cloud source or locate the data locally on your computer. \n",
    "\n",
    "You are restricted here to working with **CSV**, **GeoTiff**, or **Geosoft .grd** files. Ensure that the link you provide to the data directs you to one of these file types. \n",
    "\n",
    "**Cloud Option**\n",
    "------------------\n",
    "\n",
    "Specify the url of the file to download. For personal repository (Dropbox, GoogleDrive), first generate a sharable link:\n",
    "\n",
    "The path should end with the following string \"?dl=0\" such as:\n",
    "\n",
    "\"https://www.dropbox.com/s/keggwmaal6wj1rh/Synthetic_Forward_TMI.dat?dl=0\"\n",
    "\n",
    "Alternatively, the url of the file from a download page:\n",
    "\n",
    "\"http://cdn.geosciencebc.com/project_data/GBC_Report2012-2/GBCR2012-2_Grids.zip\"\n",
    "\n",
    "Copy the link or the url into the **'path'** box.\n",
    "\n",
    "\n",
    "**Local Drive Option**\n",
    "-------------------------\n",
    "\n",
    "Copy the link to the location into the **'Path'** box. E.g.:\n",
    "\n",
    "\"C:\\Users\\mdru\\Documents\\Git\\Toolkit\\Notebooks\\assets\\Search\"\n",
    "\n",
    "The file can be located anywhere on the computer.\n",
    "\n",
    "\n",
    "***Warning***\n",
    "\n",
    "Geosoft .grd file format only available for Windows users. Please [install the Toolkit](http://toolkit.geosci.xyz/content/installation.html#installation) on your PC.\n",
    "\n",
    "![upload_instructions](./images/instructions_loading_data_40per_ppt.png)"
   ]
  },
  {
   "cell_type": "markdown",
   "metadata": {},
   "source": [
    "Run the cell below, an example dataset has been provided for you to try out. Follow the above process using the pre-filled Path below. "
   ]
  },
  {
   "cell_type": "code",
   "execution_count": 2,
   "metadata": {},
   "outputs": [
    {
     "name": "stdout",
     "output_type": "stream",
     "text": [
      "\n"
     ]
    },
    {
     "data": {
      "application/vnd.jupyter.widget-view+json": {
       "model_id": "168034916f6a4cbca7d9ad1a8411035b",
       "version_major": 2,
       "version_minor": 0
      },
      "text/html": [
       "<p>Failed to display Jupyter Widget of type <code>interactive</code>.</p>\n",
       "<p>\n",
       "  If you're reading this message in the Jupyter Notebook or JupyterLab Notebook, it may mean\n",
       "  that the widgets JavaScript is still loading. If this message persists, it\n",
       "  likely means that the widgets JavaScript library is either not installed or\n",
       "  not enabled. See the <a href=\"https://ipywidgets.readthedocs.io/en/stable/user_install.html\">Jupyter\n",
       "  Widgets Documentation</a> for setup instructions.\n",
       "</p>\n",
       "<p>\n",
       "  If you're reading this message in another frontend (for example, a static\n",
       "  rendering on GitHub or <a href=\"https://nbviewer.jupyter.org/\">NBViewer</a>),\n",
       "  it may mean that your frontend doesn't currently support widgets.\n",
       "</p>\n"
      ],
      "text/plain": [
       "interactive(children=(RadioButtons(description='File Type:', index=1, options=('Local', 'Cloud'), value='Cloud'), Text(value='http://geomag.colorado.edu/images/EMAG2/EMAG2_V2.tif', description='Path:'), ToggleButton(value=False, description='Download', icon='check', tooltip='Fetch file on Cloud or Locally'), ToggleButton(value=False, description='Check folder', icon='check', tooltip='Fetch files in Local folder'), Dropdown(description='Files:', options=('',), value=''), RadioButtons(description='File Type:', options=('CSV', 'GeoTiff', 'GRD'), value='CSV'), ToggleButton(value=False, description='Load File', icon='check', tooltip='Load data to memory'), Output()), _dom_classes=('widget-interact',))"
      ]
     },
     "metadata": {},
     "output_type": "display_data"
    }
   ],
   "source": [
    "download = DataIO.fetchData(path=\"http://geomag.colorado.edu/images/EMAG2/EMAG2_V2.tif\", localCloud='Cloud')\n",
    "display(download)"
   ]
  },
  {
   "cell_type": "markdown",
   "metadata": {},
   "source": [
    "# Assign coordinate system and Earth's field parameters\n",
    "\n",
    "Run the cell below to see the data. If you have submitted CSV data you will be prompted to grid it.\n",
    "\n",
    "***Warning*** For CSV file format: MinimumCurvature interpolation is computationally expensive. For CSV > 10,000 data points, consider downsampling.\n",
    "\n",
    "You will need to assign the correct coordinate system for your dataset (the coordinate system your data was collected in), using an EPSG code. The EPSG code will be automatically loaded below if the file is a GeoTiff or a .grd file. EPSG codes can easily be found with a google search (e.g. EPSG UTM Zone 09 N => 26909).\n",
    "\n",
    "In order to reduce the data to pole (which you need to do for certain applications like tilt-depth estimation), you must include the inclination and declination. This information may be available in associated data collection and processing reports, and is specific to the date and location of the magnetic survey. If it is not available, you can use the Fetch Inc/Dec button to find an approximate inclination and declination for that geographic region over a range of time. The user can choose the inclination and declination for a specific year or pick average values from those recorded between 2000 and 2018. ***Important***: the EPSG code needs to be set correctly to ensure the appropriate inclination and declination data are fetched. \n",
    "\n",
    "***Warning*** If you are testing out the example EMAG2 dataset, reducing to pole will require too much time, as the dataset is very large. It is advised to skip the RTP step for this example dataset. \n",
    "\n",
    "\n",
    "![set_inc_dec](./images/incl_decl_40per_ppt.png)\n"
   ]
  },
  {
   "cell_type": "code",
   "execution_count": 8,
   "metadata": {
    "scrolled": false
   },
   "outputs": [
    {
     "data": {
      "application/vnd.jupyter.widget-view+json": {
       "model_id": "2ee617c4fd4c427091117b71ede5f0dd",
       "version_major": 2,
       "version_minor": 0
      },
      "text/html": [
       "<p>Failed to display Jupyter Widget of type <code>interactive</code>.</p>\n",
       "<p>\n",
       "  If you're reading this message in the Jupyter Notebook or JupyterLab Notebook, it may mean\n",
       "  that the widgets JavaScript is still loading. If this message persists, it\n",
       "  likely means that the widgets JavaScript library is either not installed or\n",
       "  not enabled. See the <a href=\"https://ipywidgets.readthedocs.io/en/stable/user_install.html\">Jupyter\n",
       "  Widgets Documentation</a> for setup instructions.\n",
       "</p>\n",
       "<p>\n",
       "  If you're reading this message in another frontend (for example, a static\n",
       "  rendering on GitHub or <a href=\"https://nbviewer.jupyter.org/\">NBViewer</a>),\n",
       "  it may mean that your frontend doesn't currently support widgets.\n",
       "</p>\n"
      ],
      "text/plain": [
       "interactive(children=(Dropdown(description='ColorMap', index=3, options=('viridis', 'plasma', 'magma', 'RdBu_r', 'Greys_r', 'jet', 'rainbow', 'pink', 'bone', 'hsv', 'nipy_spectral'), value='RdBu_r'), FloatText(value=3156.0, description='EPSG code:'), FloatText(value=nan, description='Inclination angle positive downward from horizontal:'), FloatText(value=nan, description='Declination angle positve clockwise from North:'), ToggleButton(value=False, description='Fetch Inc/Dec', icon='check', tooltip='Connect to NOAA API'), ToggleButton(value=False, description='Reduce to pole', icon='check', tooltip='Transform to RTP data'), Output()), _dom_classes=('widget-interact',))"
      ]
     },
     "metadata": {},
     "output_type": "display_data"
    }
   ],
   "source": [
    "if download.result is not None:\n",
    "    if (download.result[1] == \"CSV\")  :\n",
    "        grid = Simulator.dataGriddingWidget(download.result[0])\n",
    "        display(grid)\n",
    "    else:\n",
    "        grid = Simulator.dataGridGeoref(download.result[0])\n",
    "        display(grid)"
   ]
  },
  {
   "cell_type": "markdown",
   "metadata": {},
   "source": [
    "# Specify the grid extent\n",
    "\n",
    "Run the cell below. Here, you can choose subset of data by moving and resizing the data window (black square in the left image). The selected data are shown in the map on the right. If you are using the global EMAG2 example dataset, you can try windowing to -124 East (Longitude), and 49 North (Latitude) with Vancouver at the center. [If you have installed the Toolkit locally](http://toolkit.geosci.xyz/content/installation.html), you can export the data as a GeoTiff, by assigning a unique file name and specifying the file location (the default location is the the Output folder of the GeoToolkit).  "
   ]
  },
  {
   "cell_type": "code",
   "execution_count": 9,
   "metadata": {},
   "outputs": [
    {
     "data": {
      "application/vnd.jupyter.widget-view+json": {
       "model_id": "068d2bb3580f47ad857c18091443d601",
       "version_major": 2,
       "version_minor": 0
      },
      "text/html": [
       "<p>Failed to display Jupyter Widget of type <code>interactive</code>.</p>\n",
       "<p>\n",
       "  If you're reading this message in the Jupyter Notebook or JupyterLab Notebook, it may mean\n",
       "  that the widgets JavaScript is still loading. If this message persists, it\n",
       "  likely means that the widgets JavaScript library is either not installed or\n",
       "  not enabled. See the <a href=\"https://ipywidgets.readthedocs.io/en/stable/user_install.html\">Jupyter\n",
       "  Widgets Documentation</a> for setup instructions.\n",
       "</p>\n",
       "<p>\n",
       "  If you're reading this message in another frontend (for example, a static\n",
       "  rendering on GitHub or <a href=\"https://nbviewer.jupyter.org/\">NBViewer</a>),\n",
       "  it may mean that your frontend doesn't currently support widgets.\n",
       "</p>\n"
      ],
      "text/plain": [
       "interactive(children=(FloatSlider(value=855549.0546285637, continuous_update=False, description='East', max=1400939.3493862697, min=313171.9659192428, step=3013.2060483851155), FloatSlider(value=5469477.018614216, continuous_update=False, description='North', max=6109783.303896053, min=4832183.939380764, step=3013.2060483851155), FloatSlider(value=301320.60483851156, continuous_update=False, description='Width', max=1087767.383467027, min=6026.412096770231, step=3013.2060483851155), FloatSlider(value=301320.60483851156, continuous_update=False, description='Height', max=1277599.3645152887, min=6026.412096770231, step=3013.2060483851155), Text(value='./Output/MyGeoTiff', description='GeoTiff name:'), FloatText(value=3156.0, description='EPSG code:'), ToggleButton(value=False, description='Export Grid', icon='check', tooltip='Write file'), Output()), _dom_classes=('widget-interact',))"
      ]
     },
     "metadata": {},
     "output_type": "display_data"
    }
   ],
   "source": [
    "if download.result is not None:\n",
    "    selection = Simulator.setDataExtentWidget(grid.result)\n",
    "    display(selection)"
   ]
  },
  {
   "cell_type": "markdown",
   "metadata": {},
   "source": [
    "Run the cell below. You can apply some basic visual enhancements here, and export the map. Or you can continue to the following cells to try 2D filters and tilt-depth estimation. If you change the data window size or location, you will have to re-run the subsequent cells. "
   ]
  },
  {
   "cell_type": "code",
   "execution_count": 10,
   "metadata": {
    "scrolled": false
   },
   "outputs": [
    {
     "data": {
      "application/vnd.jupyter.widget-view+json": {
       "model_id": "9f8b8cdcb49a417ab050a7f0b259eb07",
       "version_major": 2,
       "version_minor": 0
      },
      "text/html": [
       "<p>Failed to display Jupyter Widget of type <code>HBox</code>.</p>\n",
       "<p>\n",
       "  If you're reading this message in the Jupyter Notebook or JupyterLab Notebook, it may mean\n",
       "  that the widgets JavaScript is still loading. If this message persists, it\n",
       "  likely means that the widgets JavaScript library is either not installed or\n",
       "  not enabled. See the <a href=\"https://ipywidgets.readthedocs.io/en/stable/user_install.html\">Jupyter\n",
       "  Widgets Documentation</a> for setup instructions.\n",
       "</p>\n",
       "<p>\n",
       "  If you're reading this message in another frontend (for example, a static\n",
       "  rendering on GitHub or <a href=\"https://nbviewer.jupyter.org/\">NBViewer</a>),\n",
       "  it may mean that your frontend doesn't currently support widgets.\n",
       "</p>\n"
      ],
      "text/plain": [
       "HBox(children=(VBox(children=(FloatSlider(value=270.0, continuous_update=False, description='SunAzimuth', max=360.0, step=5.0), FloatSlider(value=15.0, continuous_update=False, description='SunAngle', max=90.0, step=5.0), FloatSlider(value=0.9, continuous_update=False, description='ColorTransp', max=1.0, step=0.05), FloatSlider(value=0.5, continuous_update=False, description='HSTransp', max=1.0, step=0.05), FloatSlider(value=5.0, continuous_update=False, description='vScale', max=10.0, min=1.0, step=1.0), IntSlider(value=0, continuous_update=False, description='Contours', step=2), Dropdown(description='ColorMap', index=3, options=('viridis', 'plasma', 'magma', 'RdBu_r', 'Greys_r', 'jet', 'rainbow', 'pink', 'bone', 'hsv', 'nipy_spectral'), value='RdBu_r'), FloatRangeSlider(value=(-1885.1832275390625, 1526.7236328125), continuous_update=False, description='Color Range', max=1526.7236328125, min=-1885.1832275390625, readout_format='.1f', step=1.0), Dropdown(description='Color Normalization', index=1, options=('Linear', 'HistEqualized'), value='HistEqualized'), Text(value='./Output/DataHillshade', description='GeoTiff name:'), FloatText(value=3156.0, description='EPSG code:'), ToggleButton(value=False, description='Export geoTiff', icon='check', tooltip='Description')), layout=Layout(height='600px', margin='60px 0px 0px 0px', width='35%')), Output()))"
      ]
     },
     "metadata": {},
     "output_type": "display_data"
    },
    {
     "name": "stdout",
     "output_type": "stream",
     "text": [
      "Image saved as: ./Output/EMAG2_BC_jet_contours\n"
     ]
    }
   ],
   "source": [
    "if download.result is not None:\n",
    "    view = Simulator.dataHillsideWidget(selection.result)\n",
    "    display(view)"
   ]
  },
  {
   "cell_type": "markdown",
   "metadata": {},
   "source": [
    "# View data and filters\n",
    "\n",
    "Run the cell below to apply 2D data filters to your data. You can refer back to sections [2.1.4 (Synthetic case study)](http://toolkit.geosci.xyz/content/Demos/SyntheticFilters.html#synthetic-2d-magnetic-data-filters) and [2.2.2 (Geoscience BC Search II case study)](http://toolkit.geosci.xyz/content/Demos/SearchFilters.html#search-case-study-2d-magnetic-data-filters) to review applications of 2D filters. [If you have installed the Toolkit locally](http://toolkit.geosci.xyz/content/installation.html), you can export the data as a GeoTiff, by assigning a unique file name and specifying the file location (the default location is the the Output folder of the GeoToolkit).    "
   ]
  },
  {
   "cell_type": "code",
   "execution_count": 11,
   "metadata": {},
   "outputs": [
    {
     "data": {
      "application/vnd.jupyter.widget-view+json": {
       "model_id": "d005036045274267803d93171b43ed4e",
       "version_major": 2,
       "version_minor": 0
      },
      "text/html": [
       "<p>Failed to display Jupyter Widget of type <code>HBox</code>.</p>\n",
       "<p>\n",
       "  If you're reading this message in the Jupyter Notebook or JupyterLab Notebook, it may mean\n",
       "  that the widgets JavaScript is still loading. If this message persists, it\n",
       "  likely means that the widgets JavaScript library is either not installed or\n",
       "  not enabled. See the <a href=\"https://ipywidgets.readthedocs.io/en/stable/user_install.html\">Jupyter\n",
       "  Widgets Documentation</a> for setup instructions.\n",
       "</p>\n",
       "<p>\n",
       "  If you're reading this message in another frontend (for example, a static\n",
       "  rendering on GitHub or <a href=\"https://nbviewer.jupyter.org/\">NBViewer</a>),\n",
       "  it may mean that your frontend doesn't currently support widgets.\n",
       "</p>\n"
      ],
      "text/plain": [
       "HBox(children=(VBox(children=(FloatSlider(value=270.0, continuous_update=False, description='SunAzimuth', max=360.0, step=5.0), FloatSlider(value=15.0, continuous_update=False, description='SunAngle', max=90.0, step=5.0), FloatSlider(value=0.9, continuous_update=False, description='ColorTransp', max=1.0, step=0.05), FloatSlider(value=0.5, continuous_update=False, description='HSTransp', max=1.0, step=0.05), FloatSlider(value=5.0, continuous_update=False, description='vScale', max=10.0, min=1.0, step=1.0), IntSlider(value=0, continuous_update=False, description='Contours', step=2), Dropdown(description='ColorMap', index=3, options=('viridis', 'plasma', 'magma', 'RdBu_r', 'Greys_r', 'jet', 'rainbow', 'pink', 'bone', 'hsv', 'nipy_spectral'), value='RdBu_r'), Dropdown(description='Grid Filters', index=1, options=('TMI', 'derivativeX', 'derivativeY', 'firstVertical', 'totalHorizontal', 'tiltAngle', 'analyticSignal'), value='derivativeX'), FloatSlider(value=0.0, continuous_update=False, description='UpC Height', max=200.0, step=10.0), Text(value='./Output/MyGeoTiff', description='GeoTiff name:'), FloatText(value=3156.0, description='EPSG code:'), ToggleButton(value=False, description='Export GeoTiff', icon='check', tooltip='Description')), layout=Layout(height='600px', margin='60px 0px 0px 0px', width='35%')), Output()))"
      ]
     },
     "metadata": {},
     "output_type": "display_data"
    },
    {
     "name": "stdout",
     "output_type": "stream",
     "text": [
      "Image saved as: ./Output/EMAG2_BC_jet_TH\n"
     ]
    }
   ],
   "source": [
    "if download.result is not None:\n",
    "    view = Simulator.gridFiltersWidget(selection.result)\n",
    "    display(view)"
   ]
  },
  {
   "cell_type": "markdown",
   "metadata": {},
   "source": [
    "# Tilt-depth depth to source estimation\n",
    "\n",
    "Run the cell below to try source edge and depth estimation using the tilt-depth method. You can refer back to sections [2.1.5 (Synthetic case study)](http://toolkit.geosci.xyz/content/Demos/SyntheticTiltDepth.html#synthetic-edge-detection-and-depth-to-source) and [2.2.3 (Geoscience BC Search II case study)](http://toolkit.geosci.xyz/content/Demos/SearchTiltDepth.html#search-case-study-edge-detection-and-depth-to-source) to review applications of 2D filters. [If you have installed the Toolkit locally](http://toolkit.geosci.xyz/content/installation.html), the grid can be exported as a located image (geoTiff). Give your file a unique name in the 'GeoTiff name' box, choose a file location (the default location is the the Output folder of the GeoToolkit), and click on the 'Export GeoTiff' button. The tilt angle contours defining magnetic source edges and carrying depth data can be exported as a Shapefile using the 'Export Shapefile' button. "
   ]
  },
  {
   "cell_type": "code",
   "execution_count": 12,
   "metadata": {},
   "outputs": [
    {
     "data": {
      "application/vnd.jupyter.widget-view+json": {
       "model_id": "b2a37f34aeee46a2b57b345387b2b0ec",
       "version_major": 2,
       "version_minor": 0
      },
      "text/html": [
       "<p>Failed to display Jupyter Widget of type <code>HBox</code>.</p>\n",
       "<p>\n",
       "  If you're reading this message in the Jupyter Notebook or JupyterLab Notebook, it may mean\n",
       "  that the widgets JavaScript is still loading. If this message persists, it\n",
       "  likely means that the widgets JavaScript library is either not installed or\n",
       "  not enabled. See the <a href=\"https://ipywidgets.readthedocs.io/en/stable/user_install.html\">Jupyter\n",
       "  Widgets Documentation</a> for setup instructions.\n",
       "</p>\n",
       "<p>\n",
       "  If you're reading this message in another frontend (for example, a static\n",
       "  rendering on GitHub or <a href=\"https://nbviewer.jupyter.org/\">NBViewer</a>),\n",
       "  it may mean that your frontend doesn't currently support widgets.\n",
       "</p>\n"
      ],
      "text/plain": [
       "HBox(children=(VBox(children=(FloatSlider(value=270.0, continuous_update=False, description='SunAzimuth', max=360.0, step=5.0), FloatSlider(value=15.0, continuous_update=False, description='SunAngle', max=90.0, step=5.0), FloatSlider(value=0.9, continuous_update=False, description='ColorTransp', max=1.0, step=0.05), FloatSlider(value=0.5, continuous_update=False, description='HSTransp', max=1.0, step=0.05), FloatSlider(value=5.0, continuous_update=False, description='vScale', max=10.0, min=1.0, step=1.0), Dropdown(description='ColorMap', index=3, options=('viridis', 'plasma', 'magma', 'RdBu_r', 'Greys_r', 'jet', 'rainbow', 'pink', 'bone', 'hsv', 'nipy_spectral'), value='RdBu_r'), Dropdown(description='Grid Filters', index=1, options=('TMI', 'tiltAngle'), value='tiltAngle'), FloatSlider(value=0.0, continuous_update=False, description='UpC Height', max=200.0, step=10.0), Dropdown(description='Depth Color', options=('viridis', 'plasma', 'magma', 'RdBu_r', 'Greys_r', 'jet', 'rainbow', 'pink', 'bone', 'hsv', 'nipy_spectral'), value='viridis'), FloatSlider(value=1.0, continuous_update=False, description='Marker Size', max=10.0, min=0.1), Text(value='./Output/MyGeoTiff', description='GeoTiff name:'), FloatText(value=3156.0, description='EPSG code:'), ToggleButton(value=False, description='Export GeoTiff', icon='check', tooltip='Description'), Text(value='./Output/EstimatedDepth', description='Shapefile name:'), ToggleButton(value=False, description='Export Shapefile', icon='check', tooltip='Description')), layout=Layout(height='600px', margin='60px 0px 0px 0px', width='35%')), Output()))"
      ]
     },
     "metadata": {},
     "output_type": "display_data"
    }
   ],
   "source": [
    "if download.result is not None:\n",
    "    view = Simulator.gridTilt2Depth(selection.result)\n",
    "    display(view)"
   ]
  },
  {
   "cell_type": "markdown",
   "metadata": {},
   "source": [
    " "
   ]
  }
 ],
 "metadata": {
  "kernelspec": {
   "display_name": "Python 3",
   "language": "python",
   "name": "python3"
  },
  "language_info": {
   "codemirror_mode": {
    "name": "ipython",
    "version": 3
   },
   "file_extension": ".py",
   "mimetype": "text/x-python",
   "name": "python",
   "nbconvert_exporter": "python",
   "pygments_lexer": "ipython3",
   "version": "3.6.4"
  }
 },
 "nbformat": 4,
 "nbformat_minor": 2
}
