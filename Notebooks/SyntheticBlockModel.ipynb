{
 "cells": [
  {
   "cell_type": "code",
   "execution_count": 1,
   "metadata": {
    "scrolled": true
   },
   "outputs": [
    {
     "name": "stderr",
     "output_type": "stream",
     "text": [
      "C:\\Users\\DominiqueFournier\\Documents\\GIT\\GeoToolkit\\library\\Mag\\Simulator.py:694: SyntaxWarning: assertion is always true, perhaps remove parentheses?\n",
      "  assert(\n"
     ]
    }
   ],
   "source": [
    "## Load all libraries and setup the synthetic problem\n",
    "from library.Mag import Mag, ProblemSetter, MathUtils, Simulator\n",
    "import numpy as np\n",
    "from SimPEG import PF, Utils, Mesh, Maps\n",
    "\n",
    "import matplotlib.pyplot as plt\n",
    "import ipywidgets as widgets\n",
    "\n",
    "# Load data and topo and build default model\n",
    "survey = Mag.readMagneticsObservations('./DIGHEM_Mag_floor10nt_25m.obs')\n",
    "topo = np.genfromtxt('TKCtopoDwnS.dat', skip_header=1)\n",
    "locs = survey.srcField.rxList[0].locs\n",
    "\n",
    "# Build the problem\n",
    "survey = ProblemSetter.setSyntheticProblem(locs, topo=topo, discretize=True, plotSections=True)\n"
   ]
  },
  {
   "cell_type": "markdown",
   "metadata": {},
   "source": [
    "# 2.1.1.\tMagnetic Data Preparation, Gridding, and Visualization#\n",
    "\n",
    "\n",
    "## Magnetic response of a simple geologic model\n",
    "\n",
    "\n",
    "<img src=\"./images/SyntheticModel.png\">\n",
    "\n",
    "The magnetic response (total field anomaly) of the geologic model is calculated on a series of east-west flight lines running roughly perpendicular to the general strike of geologic boundaries and structures featured in the model. Flight line spacing is 200 m. Data was collected at a flight height of 40 m. Topography is assumed to be flat in this example. The magnetic data are in nanoteslas (NT). \n",
    "\n",
    "The magnetic field values applied here reflect the inclination, declination, and field strength for central British Columbia, Canada.  \n",
    "\n",
    "An East-West profile through the magnetic data is shown. The profile location can be changed using the slider bars, and the number of sampling points can be varied.  \n",
    "\n"
   ]
  },
  {
   "cell_type": "code",
   "execution_count": 2,
   "metadata": {},
   "outputs": [
    {
     "data": {
      "application/vnd.jupyter.widget-view+json": {
       "model_id": "da566e5b25e2447a99094f969643e93b",
       "version_major": 2,
       "version_minor": 0
      },
      "text/plain": [
       "interactive(children=(FloatSlider(value=-14.629972527676728, continuous_update=False, description='East', max=…"
      ]
     },
     "metadata": {},
     "output_type": "display_data"
    }
   ],
   "source": [
    "param = Simulator.ViewMagSurveyWidget(survey)\n",
    "display(param)"
   ]
  },
  {
   "cell_type": "markdown",
   "metadata": {},
   "source": [
    "## Magnetic field effect on response\n",
    "\n",
    "As discussed in Section 1, the magnetic response will depend on the inclination, declination, and field strength of the magnetic field at the survey location. Use the drop down menu to explore the range of responses that would be measured if this same geologic (and magnetic rock properties) scenario existed at different locations on Earth (sites represent current Mineral Deposit Research Unit project sites). Notice how data collected at very low latitides near the magnetic equator (e.g. Chile and Peru locations) show magnetic anomlies offset significantly from their source due to the near-horizontal magnetic inclinations existing at these locations. \n"
   ]
  },
  {
   "cell_type": "code",
   "execution_count": 3,
   "metadata": {},
   "outputs": [
    {
     "data": {
      "application/vnd.jupyter.widget-view+json": {
       "model_id": "fd6a59ff8e0c422d9f8738451d34d739",
       "version_major": 2,
       "version_minor": 0
      },
      "text/plain": [
       "interactive(children=(Dropdown(description='Location:', options=('Yukon', 'Northern BC', 'Nevada', 'Colombia',…"
      ]
     },
     "metadata": {},
     "output_type": "display_data"
    }
   ],
   "source": [
    "import json\n",
    "# cities = shapefile.Reader('./assets/worldShapefile/ne_10m_populated_places_simple.shp')\n",
    "worldFile = './assets/Continents/continent.shp'\n",
    "\n",
    "# Load in the pre-defined locations\n",
    "with open('./assets/MAGlocations_w_field.json', 'r') as fp:\n",
    "    sites = json.load(fp)\n",
    "\n",
    "view = Simulator.worldViewerWidget(worldFile, sites, locs)\n",
    "display(view)"
   ]
  },
  {
   "cell_type": "markdown",
   "metadata": {},
   "source": [
    "## Gridding the magnetic data\n",
    "\n",
    "Magnetic data should be gridded prior to applying transforms and filters. This means that the flight line data must be interpolated on a regular 2D grid. There are numerous possible ways to grid data. Several researchers have demonstrated that minimum curvature methods are robust and yield a sensible and smooth result, so we have chosen minimum curvature to complete the gridding for this example. In this example, the data are interpolated on a 10 m x 10 m grid. The magnetic field parameters of central BC (Geoscience BC Search II area) are returned to here. \n",
    "\n",
    "The resulting gridded data shows the larger and smaller magnetic bodies, and the magnetic low related to the NW trending structure cross-cutting the larger magnetic domain.\n",
    "\n",
    "## Basic visualization\n",
    "\n",
    "Simple enhancements to the image can help the user better visualize features within the magnetic data. Applying sun-shading from various angles, experimenting with colour contrast, and adding contour lines are a simple means to explore the data initially. \n",
    "\n",
    "Try using the slider bars below to change the direction (SunAzimuth) and angle (SunAngle) of sun shading, to vary color saturation and transparency, and to manipulate magnetic contours lines (MagContour).\n",
    "   \n",
    "\n",
    "-don’t think we need vScale\n"
   ]
  },
  {
   "cell_type": "code",
   "execution_count": 4,
   "metadata": {},
   "outputs": [
    {
     "data": {
      "application/vnd.jupyter.widget-view+json": {
       "model_id": "c0f36d280ccd406da8247d33b4472917",
       "version_major": 2,
       "version_minor": 0
      },
      "text/plain": [
       "interactive(children=(FloatSlider(value=0.0, continuous_update=False, description='SunAzimuth', max=360.0, ste…"
      ]
     },
     "metadata": {},
     "output_type": "display_data"
    }
   ],
   "source": [
    "view = Simulator.dataHillsideWidget(survey)\n",
    "display(view)"
   ]
  },
  {
   "cell_type": "markdown",
   "metadata": {},
   "source": [
    "## Advanced visualization\n",
    "\n",
    "Addional image processing can be done to explore the range of magnetic responses within the data. Applying various color scales and stretches benefits the geophysical data interpretion as this provides a more complete overview of features in the data, which might be obscured when only one set of display parameters is applied.  "
   ]
  },
  {
   "cell_type": "code",
   "execution_count": null,
   "metadata": {},
   "outputs": [],
   "source": []
  }
 ],
 "metadata": {
  "kernelspec": {
   "display_name": "Python 3",
   "language": "python",
   "name": "python3"
  },
  "language_info": {
   "codemirror_mode": {
    "name": "ipython",
    "version": 3
   },
   "file_extension": ".py",
   "mimetype": "text/x-python",
   "name": "python",
   "nbconvert_exporter": "python",
   "pygments_lexer": "ipython3",
   "version": "3.6.5"
  }
 },
 "nbformat": 4,
 "nbformat_minor": 2
}
