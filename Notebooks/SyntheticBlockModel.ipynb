{
 "cells": [
  {
   "cell_type": "code",
   "execution_count": 1,
   "metadata": {
    "scrolled": true
   },
   "outputs": [],
   "source": [
    "import library.Mag as Mag\n",
    "import numpy as np\n",
    "from SimPEG import PF, Utils, Mesh, Maps\n",
    "\n",
    "import matplotlib.pyplot as plt\n",
    "import ipywidgets as widgets\n",
    "\n",
    "survey = Mag.ProblemSetter.setSyntheticProblem()"
   ]
  },
  {
   "cell_type": "markdown",
   "metadata": {},
   "source": [
    "# 2.1.1.\tMagnetic Data Preparation, Gridding, and Visualization#\n",
    "\n",
    "\n",
    "## Magnetic response of a simple geologic model\n",
    "\n",
    "The magnetic response (total field anomaly) of the described geologic model is calculated on a series of east-west flight lines running roughly perpendicular to the general strike of geologic boundaries and structures featured in the model. Flight line spacing is 200 m. Data was collected at a flight height of 40 m. Topography is assumed to be flat in this example. The magnetic data are in nanoteslas (NT). \n",
    "\n",
    "<img src=\"./images/SyntheticModel.png\">\n",
    "\n",
    "The default magnetic field values reflect inclination, declination, and field strength recorded in central British Columbia, Canada.  \n",
    "\n",
    "An East-West profile through the magnetic data is shown. The profile location can be changed using the slider bars. \n",
    "\n",
    "-Can E-W profile be defaulted here (aka, azimuth = 90)? rather than N-S (Azimuth = 0)\n",
    "\n"
   ]
  },
  {
   "cell_type": "markdown",
   "metadata": {},
   "source": [
    "\n",
    "\n",
    "\n",
    "\n",
    "\n"
   ]
  },
  {
   "cell_type": "code",
   "execution_count": 4,
   "metadata": {},
   "outputs": [
    {
     "data": {
      "application/vnd.jupyter.widget-view+json": {
       "model_id": "e5a5d09c027e4d248a9b1850f1fa2e94",
       "version_major": 2,
       "version_minor": 0
      },
      "text/plain": [
       "interactive(children=(FloatSlider(value=558034.7817500001, continuous_update=False, description='East', max=56…"
      ]
     },
     "metadata": {},
     "output_type": "display_data"
    }
   ],
   "source": [
    "param = Mag.Simulator.ViewMagSurvey2D(survey)\n",
    "display(param)"
   ]
  },
  {
   "cell_type": "code",
   "execution_count": 5,
   "metadata": {},
   "outputs": [
    {
     "ename": "NameError",
     "evalue": "name 'prisms' is not defined",
     "output_type": "error",
     "traceback": [
      "\u001b[1;31m---------------------------------------------------------------------------\u001b[0m",
      "\u001b[1;31mNameError\u001b[0m                                 Traceback (most recent call last)",
      "\u001b[1;32m<ipython-input-5-34c7c97d3c9f>\u001b[0m in \u001b[0;36m<module>\u001b[1;34m()\u001b[0m\n\u001b[0;32m     11\u001b[0m \u001b[0mmesh\u001b[0m \u001b[1;33m=\u001b[0m \u001b[0mMesh\u001b[0m\u001b[1;33m.\u001b[0m\u001b[0mTensorMesh\u001b[0m\u001b[1;33m(\u001b[0m\u001b[1;33m[\u001b[0m\u001b[0mhx\u001b[0m\u001b[1;33m,\u001b[0m\u001b[0mhy\u001b[0m\u001b[1;33m,\u001b[0m\u001b[0mhz\u001b[0m\u001b[1;33m]\u001b[0m\u001b[1;33m,\u001b[0m \u001b[0mx0\u001b[0m \u001b[1;33m=\u001b[0m \u001b[0mx0\u001b[0m\u001b[1;33m)\u001b[0m\u001b[1;33m\u001b[0m\u001b[0m\n\u001b[0;32m     12\u001b[0m \u001b[0mmodel\u001b[0m \u001b[1;33m=\u001b[0m \u001b[0mnp\u001b[0m\u001b[1;33m.\u001b[0m\u001b[0mzeros\u001b[0m\u001b[1;33m(\u001b[0m\u001b[0mmesh\u001b[0m\u001b[1;33m.\u001b[0m\u001b[0mnC\u001b[0m\u001b[1;33m)\u001b[0m\u001b[1;33m\u001b[0m\u001b[0m\n\u001b[1;32m---> 13\u001b[1;33m \u001b[1;32mfor\u001b[0m \u001b[0mii\u001b[0m\u001b[1;33m,\u001b[0m \u001b[1;33m(\u001b[0m\u001b[0mprism\u001b[0m\u001b[1;33m,\u001b[0m \u001b[0msusc\u001b[0m\u001b[1;33m)\u001b[0m \u001b[1;32min\u001b[0m \u001b[0menumerate\u001b[0m\u001b[1;33m(\u001b[0m\u001b[0mzip\u001b[0m\u001b[1;33m(\u001b[0m\u001b[0mprisms\u001b[0m\u001b[1;33m,\u001b[0m\u001b[0msuscs\u001b[0m\u001b[1;33m)\u001b[0m\u001b[1;33m)\u001b[0m\u001b[1;33m:\u001b[0m\u001b[1;33m\u001b[0m\u001b[0m\n\u001b[0m\u001b[0;32m     14\u001b[0m     \u001b[0mX\u001b[0m\u001b[1;33m,\u001b[0m\u001b[0mY\u001b[0m\u001b[1;33m,\u001b[0m\u001b[0mZ\u001b[0m\u001b[1;33m=\u001b[0m\u001b[0mnp\u001b[0m\u001b[1;33m.\u001b[0m\u001b[0mmeshgrid\u001b[0m\u001b[1;33m(\u001b[0m\u001b[0mprism\u001b[0m\u001b[1;33m.\u001b[0m\u001b[0mxn\u001b[0m\u001b[1;33m,\u001b[0m \u001b[0mprism\u001b[0m\u001b[1;33m.\u001b[0m\u001b[0myn\u001b[0m\u001b[1;33m,\u001b[0m \u001b[0mprism\u001b[0m\u001b[1;33m.\u001b[0m\u001b[0mzn\u001b[0m\u001b[1;33m)\u001b[0m\u001b[1;33m\u001b[0m\u001b[0m\n\u001b[0;32m     15\u001b[0m     \u001b[0mpts\u001b[0m \u001b[1;33m=\u001b[0m \u001b[0mnp\u001b[0m\u001b[1;33m.\u001b[0m\u001b[0mc_\u001b[0m\u001b[1;33m[\u001b[0m\u001b[0mUtils\u001b[0m\u001b[1;33m.\u001b[0m\u001b[0mmkvc\u001b[0m\u001b[1;33m(\u001b[0m\u001b[0mX\u001b[0m\u001b[1;33m)\u001b[0m\u001b[1;33m,\u001b[0m \u001b[0mUtils\u001b[0m\u001b[1;33m.\u001b[0m\u001b[0mmkvc\u001b[0m\u001b[1;33m(\u001b[0m\u001b[0mY\u001b[0m\u001b[1;33m)\u001b[0m\u001b[1;33m,\u001b[0m \u001b[0mUtils\u001b[0m\u001b[1;33m.\u001b[0m\u001b[0mmkvc\u001b[0m\u001b[1;33m(\u001b[0m\u001b[0mZ\u001b[0m\u001b[1;33m)\u001b[0m\u001b[1;33m]\u001b[0m\u001b[1;33m\u001b[0m\u001b[0m\n",
      "\u001b[1;31mNameError\u001b[0m: name 'prisms' is not defined"
     ]
    }
   ],
   "source": [
    "# Descretize the block for plot'\n",
    "hx = [(10,320)]\n",
    "hy = [(10,320)]\n",
    "hz = [(10,80)]\n",
    "\n",
    "rxLocs = survey.srcField.rxList[0].locs\n",
    "x0 = np.min(rxLocs, axis=0)\n",
    "x0[2] -= 600\n",
    "\n",
    "#Create a mesh\n",
    "mesh = Mesh.TensorMesh([hx,hy,hz], x0 = x0)\n",
    "model = np.zeros(mesh.nC)\n",
    "for ii, (prism, susc) in enumerate(zip(prisms,suscs)):\n",
    "    X,Y,Z=np.meshgrid(prism.xn, prism.yn, prism.zn)\n",
    "    pts = np.c_[Utils.mkvc(X), Utils.mkvc(Y), Utils.mkvc(Z)]\n",
    "    \n",
    "    xyz = Mag.MagUtils.rotate(pts, np.r_[prism.xc, prism.yc, prism.zc], prism.pinc, prism.pdec)\n",
    "    ind = Utils.ModelBuilder.PolygonInd(mesh, xyz)\n",
    "    \n",
    "    model[ind] = susc\n",
    "\n",
    "    \n",
    "actv = Utils.modelutils.surface2ind_topo(mesh, topo)\n",
    "actvMap = Maps.InjectActiveCells(mesh, actv, np.nan)\n",
    "model = model[actv]\n",
    "\n",
    "plt.figure(figsize=(10,6))\n",
    "axs=plt.subplot(1,2,1)\n",
    "indy = int(mesh.vnC[1]/2)-18\n",
    "indz = -40\n",
    "\n",
    "\n",
    "im = mesh.plotSlice(actvMap*model, normal='Z', ax=axs, ind=indz,clim=[-0.1, 0.1], pcolorOpts={'cmap':'jet'})\n",
    "\n",
    "a, b = np.r_[rxLocs[:,0].min(), mesh.vectorCCy[indy]], np.r_[rxLocs[:,0].max(), mesh.vectorCCy[indy]]\n",
    "\n",
    "plt.scatter(rxLocs[:,0],rxLocs[:,1], 10, c='k', marker='.')\n",
    "plt.plot(np.r_[a[0],b[0]],np.r_[a[1],b[1]],'r--')\n",
    "# Mag.Simulator.plotProfile2D(topo, np.r_[rxLocs[:,0].min(), mesh.vectorCCy[indy]], np.r_[rxLocs[:,0].max(), mesh.vectorCCy[indy]], 10, ax=axs, plotStr='k-', coordinate_system = 'xProfile')\n",
    "\n",
    "axs.set_title('Plan view: ' + str(int(mesh.vectorCCz[indz]))+ \" m depth\")\n",
    "axs.set_aspect('equal')\n",
    "axs.set_xlim(rxLocs[:,0].min()-100,rxLocs[:,0].max()+100)\n",
    "axs.set_ylim(rxLocs[:,1].min()-100,rxLocs[:,1].max()+100)\n",
    "\n",
    "axs=plt.subplot(1,2,2)\n",
    "indy = int(mesh.vnC[1]/2)-18\n",
    "im = mesh.plotSlice(actvMap*model, normal='Y', ax=axs, ind=indy,clim=[-0.1, 0.1], pcolorOpts={'cmap':'jet'})\n",
    "\n",
    "rxLocs = survey.srcField.rxList[0].locs\n",
    "Mag.Simulator.plotProfile2D(rxLocs, a, b, 10, ax=axs, coordinate_system = 'xProfile')\n",
    "# Mag.Simulator.plotProfile2D(topo, np.r_[rxLocs[:,0].min(), mesh.vectorCCy[indy]], np.r_[rxLocs[:,0].max(), mesh.vectorCCy[indy]], 10, ax=axs, plotStr='k-', coordinate_system = 'xProfile')\n",
    "\n",
    "axs.set_title('EW Section: ' + str(int(mesh.vectorCCy[indy]))+ \" N\")\n",
    "axs.set_aspect('equal')\n",
    "# model[indTopo==False] = -100\n",
    "# mesh.writeModelUBC('ModelInterp.dat',model)\n",
    "# mesh.writeUBC('Mesh20m.msh')"
   ]
  },
  {
   "cell_type": "code",
   "execution_count": null,
   "metadata": {},
   "outputs": [],
   "source": [
    "a,b"
   ]
  },
  {
   "cell_type": "markdown",
   "metadata": {},
   "source": [
    "## Magnetic field effect on response\n",
    "\n",
    "As discussed in Section 1, the magnetic response will depend on the inclination, declination, and field strength of the magnetic field at the survey location. Use the drop down menu to explore the range of responses that would be measured if this same geologic (and magnetic rock properties) scenario existed at different locations on Earth (sites represent current Mineral Deposit Research Unit project sites). \n",
    "\n",
    "-put map and drop down menu here.."
   ]
  },
  {
   "cell_type": "markdown",
   "metadata": {},
   "source": [
    "## Gridding the magnetic data\n",
    "\n",
    "Magnetic data should be gridded prior to applying transforms and filters. This means that the flight line data must be interpolated on a regular 2D grid. There are numerous possible ways to grid data. Several researchers have demonstrated that minimum curvature methods are robust and yield a sensible and smooth result, so we have chosen minimum curvature to complete the gridding for this example. In this example, the data are interpolated on a 10 m x 10 m grid. The magnetic field parameters of central BC (Geoscience BC Search II area) are returned to here. \n",
    "\n",
    "The resulting gridded data shows the larger and smaller magnetic bodies, and the magnetic low related to the NW trending structure cross-cutting the larger magnetic domain.\n",
    "\n",
    "## Basic visualization\n",
    "\n",
    "Simple enhancements to the image can help the user better visualize features within the magnetic data. Applying sun-shading from various angles, experimenting with colour contrast, and adding contour lines are a simple means to explore the data initially. \n",
    "\n",
    "Try using the slider bars below to change the direction (SunAzimuth) and angle (SunAngle) of sun shading, to vary color saturation and transparency, and to manipulate magnetic contours lines (MagContour).\n",
    "   \n",
    "\n",
    "-don’t think we need vScale\n"
   ]
  },
  {
   "cell_type": "markdown",
   "metadata": {},
   "source": [
    " "
   ]
  },
  {
   "cell_type": "code",
   "execution_count": null,
   "metadata": {},
   "outputs": [],
   "source": [
    "gridCC, dMinCurv = Mag.Simulator.minCurvatureInterp(\n",
    "    xyzd[:,:2], survey.dobs,\n",
    "    vectorX=None, vectorY=None, vectorZ=None, gridSize=10,\n",
    "    tol=1e-5, iterMax=None, method='spline'\n",
    ")\n",
    "\n",
    "X = gridCC[:,0].reshape(dMinCurv.shape, order='F')\n",
    "Y = gridCC[:,1].reshape(dMinCurv.shape, order='F')"
   ]
  },
  {
   "cell_type": "code",
   "execution_count": null,
   "metadata": {},
   "outputs": [],
   "source": [
    "def dataViewer(X,Y,dataGrid):\n",
    "      \n",
    "    def plotData(SunAzimuth,SunAngle,Saturation,Transparency,vScale,MagContour):\n",
    "        fig = plt.figure(figsize=(8,6))\n",
    "        axs= plt.subplot()\n",
    "\n",
    "        # Read the data\n",
    "#         vmin, vmax = -25, 150\n",
    "        cmap = plt.cm.gist_earth\n",
    "\n",
    "        # Add shading\n",
    "        im, CS = Mag.Simulator.plotDataHillside(X, Y,dataGrid ,\n",
    "                                  axs=axs, cmap='RdBu_r', \n",
    "                                  clabel=False, contour=MagContour,\n",
    "                                  alpha=Saturation, alphaHS=Transparency, ve=vScale, azdeg=SunAzimuth, altdeg=SunAngle)\n",
    "\n",
    "        # Add points at the survey locations\n",
    "        plt.scatter(xyzd[:,0], xyzd[:,1], s=2, c='k')\n",
    "\n",
    "        # Set limits and labels\n",
    "#         axs.set_xlim([xmin,xmax])\n",
    "#         axs.set_ylim([ymin,ymax])\n",
    "        # axs.set_xticklabels([556750,558000, 559250], size=14)\n",
    "        # axs.set_xticks([556750,558000, 559250])\n",
    "        # axs.set_yticklabels([7133000,7134000, 7135000], size=14, rotation=90, va='center')\n",
    "        plt.colorbar(im)\n",
    "        # axs.set_yticks([7133000,7134000, 7135000])\n",
    "        axs.set_xlabel(\"Easting (m)\", size=14)\n",
    "        axs.set_ylabel(\"Northing (m)\", size=14)\n",
    "        axs.grid('on', color='k', linestyle='--')\n",
    "        plt.show()\n",
    "        # Add colorbar\n",
    "        # pos = axs.get_position() # Get the position of previous axes\n",
    "        # axbar = plt.axes([pos.x0+.25, pos.y0+0.2,  pos.width*0.75, pos.height*.5]) # Create a new axes and reshape\n",
    "        # cbar = plt.colorbar(im, orientation='vertical',format='%.3f') # Add a colorbar using the color definition of previous\n",
    "        # cbar.set_ticks(np.linspace(-25,300,6)) # Change the tick position\n",
    "        # cbar.set_ticklabels(np.round(np.linspace(-25,300,6))) # Change the tick labels\n",
    "        # axbar.text(pos.x0+1., pos.y0+.75,'SI', size=14) # Add units and move it above\n",
    "        # axbar.axis('off') # Only keep the colorbar, remove the rest\n",
    "\n",
    "    out = widgets.interactive(plotData,\n",
    "                              SunAzimuth=widgets.FloatSlider(min=0, max=360, step=5, value=0, continuous_update=False),\n",
    "                              SunAngle=widgets.FloatSlider(min=0, max=90, step=5, value=45, continuous_update=False),\n",
    "                              Saturation=widgets.FloatSlider(min=0, max=1, step=0.1, value=0.5, continuous_update=False),\n",
    "                              Transparency=widgets.FloatSlider(min=0, max=1, step=0.1, value=1.0, continuous_update=False),\n",
    "                              vScale=widgets.FloatSlider(min=1, max=1000, step=1., value=1.0, continuous_update=False),\n",
    "                              MagContour=widgets.FloatSlider(min=0, max=20, step=1, value=10, continuous_update=False))\n",
    "    return out\n",
    "\n",
    "view = dataViewer(X, Y, dMinCurv)\n",
    "display(view)"
   ]
  },
  {
   "cell_type": "code",
   "execution_count": null,
   "metadata": {},
   "outputs": [],
   "source": [
    "from matplotlib.patches import Circle, Wedge, Polygon\n",
    "from matplotlib.collections import PatchCollection\n",
    "import matplotlib.patches as patches\n",
    "import json\n",
    "import re\n",
    "\n",
    "%pylab inline\n",
    "# Load world shapefile\n",
    "# world = shapefile.Reader('./assets/worldShapefile/ne_50m_admin_0_countries.shp')\n",
    "world = shapefile.Reader('./assets/Continents/continent.shp')\n",
    "X, Y = [],[]\n",
    "for shape in world.shapeRecords():\n",
    "\n",
    "    for ii, part in enumerate(shape.shape.parts):\n",
    "\n",
    "#             if ii > 10:\n",
    "#                 continue\n",
    "        if ii != len(shape.shape.parts)-1:\n",
    "            x = [i[0] for i in shape.shape.points[shape.shape.parts[ii]:shape.shape.parts[ii+1]:50]]\n",
    "            y = [i[1] for i in shape.shape.points[shape.shape.parts[ii]:shape.shape.parts[ii+1]:50]]\n",
    "\n",
    "        else:\n",
    "            x = [i[0] for i in shape.shape.points[shape.shape.parts[ii]::50]]\n",
    "            y = [i[1] for i in shape.shape.points[shape.shape.parts[ii]::50]]\n",
    "    \n",
    "        if len(x) > 10:\n",
    "            X.append(np.vstack(x))\n",
    "            Y.append(np.vstack(y))\n",
    "        \n",
    "# Load in the pre-defined locations\n",
    "with open('./assets/MAGlocations_w_field.json', 'r') as fp:\n",
    "    data = json.load(fp)\n",
    "    "
   ]
  },
  {
   "cell_type": "code",
   "execution_count": null,
   "metadata": {},
   "outputs": [],
   "source": [
    "data"
   ]
  },
  {
   "cell_type": "code",
   "execution_count": null,
   "metadata": {},
   "outputs": [],
   "source": [
    "# cities = shapefile.Reader('./assets/worldShapefile/ne_10m_populated_places_simple.shp')\n",
    "def mapViewer(world, data):\n",
    "    def plotCountry(X,Y, ax=None, fill=True, linewidth=1):\n",
    "        \n",
    "        for x,y in zip(X,Y):\n",
    "            ax.plot(x, y,'k', linewidth=linewidth)\n",
    "\n",
    "        return ax\n",
    "\n",
    "                \n",
    "    def plotLocs(placeID):\n",
    "        \n",
    "        selection =int(np.r_[[ii for ii, s in enumerate(list(data.keys())) if placeID in s]])\n",
    "        dataVals = list(data.values())[selection]\n",
    "        \n",
    "        survey = Mag.Mag.createMagSurvey(xyzd, B)\n",
    "\n",
    "        # Create the synthetic blocks model and place it at the center of the survey\n",
    "        for param, susc in zip(params, suscs):\n",
    "\n",
    "            prism = Mag.Simulator.definePrism()\n",
    "            prism.x0, prism.y0, prism.z0 = cntr[0]+param[0], cntr[1]+param[1], xyzd[:, 2].min() +param[2]\n",
    "            prism.dx, prism.dy, prism.dz = param[3], param[4], param[5]\n",
    "            prism.pdec, prism.pinc = param[6], param[7]\n",
    "\n",
    "            prob = Mag.Mag.problem(prism=prism, survey=survey)\n",
    "            prob.susc = susc\n",
    "            prob._Higrf = dataVals[4]\n",
    "            prob._Hinc = dataVals[3]\n",
    "            prob._Hdec = dataVals[2]\n",
    "            \n",
    "            \n",
    "            survey.dobs += prob.fields()[0]\n",
    "\n",
    "#         param = Mag.Simulator.ViewMagSurvey2D(survey)\n",
    "#         display(param)\n",
    "\n",
    "        plt.figure(figsize=(10,10))\n",
    "        ax1 = plt.subplot(1,2,2)\n",
    "        fig, im = Mag.Simulator.plotData2D(survey.srcField.rxList[0].locs, d=survey.dobs,\n",
    "                                 ax=ax1, cmap='RdBu_r', marker=False, contours=[0], colorbar=False)\n",
    "        \n",
    "        plt.colorbar(im, orientation='horizontal')\n",
    "                   \n",
    "        axs = plt.subplot(1,2,1)\n",
    "        axs = plotCountry(X,Y, ax=axs, fill=False)\n",
    "        # xydata = np.loadtxt(\"./assets/country-capitals.csv\", delimiter=\",\")\n",
    "        for key, entry in zip(list(data.keys()),list(data.values())):\n",
    "            axs.scatter(entry[1],entry[0], c='k')\n",
    "        \n",
    "        \n",
    "        \n",
    "        axs.scatter(dataVals[1],dataVals[0], s = 50, c='r', marker='s', )\n",
    "        axs.set_aspect('equal')\n",
    "        plt.show()\n",
    "        \n",
    "        return axs\n",
    "    \n",
    "    out = widgets.interactive(plotLocs,\n",
    "                        placeID = widgets.Dropdown(\n",
    "                        options=list(data.keys()),\n",
    "                        value=list(data.keys())[0],\n",
    "                        description='Number:',\n",
    "                        disabled=False,\n",
    "                        ))\n",
    "                        \n",
    "    \n",
    "    return out\n",
    "\n",
    "view = mapViewer(world, data)\n",
    "display(view)"
   ]
  },
  {
   "cell_type": "code",
   "execution_count": null,
   "metadata": {},
   "outputs": [],
   "source": [
    "\n",
    "# raw = {\"Geoscience BC SeArch II area\":[\"54d19m51.68N\",\"125d43m43.7W\"],\n",
    "# \"Turkey (Kisladag mine area)\":[\"38d28m55.25N\",\"29d8m53.71E\"],\n",
    "# \"Nevada (Goldstrike mine area)\":[\"40d58m54.04N\",\"116d22m45.92W\"],\n",
    "# \"Peru (Antamina mine area)\":[\"9d32m21.53S\",\"77d3m48.41W\"],\n",
    "# \"Yukon (Dawson city area)\":[\"64d3m35.28N\",\"139d25m56.34W\"],\n",
    "# \"Colombia (El Alacran deposit area)\":[\"7d44m46.27N\",\"75d43m7.17W\"],\n",
    "# \"Serbia (Bor mine area)\":[\"44d5m21.33N\",\"22d5m59.92E\"],\n",
    "# \"Chile (Atacama desert, Chiquicamata mine area)\":[\"22d17m13.10S\",\"68d54m9.20W\"]}\n",
    "\n",
    "# newDict = {}\n",
    "# for key, entry in zip(list(raw.keys()),list(raw.values())):\n",
    "    \n",
    "#     temp = [float(val) for val in re.findall('[-+]?\\d*\\.\\d+|\\d+',entry[0])]\n",
    "#     lat = temp[0] + temp[1]/60. + temp[2]/3600.\n",
    "#     if entry[0][-1]=='S':\n",
    "#         lat *= -1\n",
    "\n",
    "#     temp = [float(val) for val in re.findall('[-+]?\\d*\\.\\d+|\\d+',entry[1])]\n",
    "#     lon = temp[0] + temp[1]/60. + temp[2]/3600.\n",
    "#     if entry[1][-1]=='W':\n",
    "#         lon *= -1\n",
    "\n",
    "#     newDict[key] =[lat, lon]\n",
    "# with open('MAGlocations.json', 'w') as fp:\n",
    "#     json.dump(newDict, fp)\n",
    "\n",
    "\n",
    "\n",
    "\n"
   ]
  },
  {
   "cell_type": "markdown",
   "metadata": {},
   "source": [
    "## Advanced visualization\n",
    "\n",
    "Addional image processing can be done to explore the range of magnetic responses within the data. Applying various color scales and stretches benefits the geophysical data interpretion as this provides a more complete overview of features in the data, which might be obscured when only one set of display parameters is applied.  "
   ]
  },
  {
   "cell_type": "code",
   "execution_count": null,
   "metadata": {},
   "outputs": [],
   "source": []
  }
 ],
 "metadata": {
  "kernelspec": {
   "display_name": "Python 3",
   "language": "python",
   "name": "python3"
  },
  "language_info": {
   "codemirror_mode": {
    "name": "ipython",
    "version": 3
   },
   "file_extension": ".py",
   "mimetype": "text/x-python",
   "name": "python",
   "nbconvert_exporter": "python",
   "pygments_lexer": "ipython3",
   "version": "3.6.5"
  }
 },
 "nbformat": 4,
 "nbformat_minor": 2
}
