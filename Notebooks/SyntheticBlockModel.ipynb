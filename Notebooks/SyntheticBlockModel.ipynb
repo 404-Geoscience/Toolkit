{
 "cells": [
  {
   "cell_type": "code",
   "execution_count": 1,
   "metadata": {},
   "outputs": [],
   "source": [
    "from library.Mag import *\n",
    "from SimPEG import PF, Utils, Mesh\n",
    "import matplotlib.pyplot as plt\n",
    "import ipywidgets as widgets"
   ]
  },
  {
   "cell_type": "markdown",
   "metadata": {},
   "source": [
    "# Preparation and initial assessment of magnetic data#\n",
    "\n",
    "\n",
    "In this section, we will calculate the magnetic response of a simple geologic model and then grid the data, in preparation for application of a series of magnetic data filters. \n",
    "\n",
    "## The Geologic Model ###\n",
    "\n",
    "For this demonstration, a simple 3D geologic model was built attempting to capture several different types of geologic bodies.\n",
    "\n",
    "The geologic bodies are represented by three different blocks superimposed on a background:\n",
    "\n",
    "**Block 1:** Large strongly magnetic domain, reflective of a magnetic plutonic complex or magnetic volcanic rock package\n",
    "\n",
    "**Block 2:** Small moderately magnetic domain, reflective of a shallow magnetic intrusion\n",
    "\n",
    "**Block 3:** Linear steeply-dipping non-magnetic feature, reflective of a fault zone along which magnetite-destruction has occurred\n",
    "\n",
    "**Background:** Weakly magnetic background, reflective of weakly magnetic volcanic rocks  \n",
    "\n",
    "\n",
    "The extents of the survey area are approximately 3 km x 3 km.\n",
    "\n",
    "\n",
    "Figure, plan view, cross-section\n",
    "\n",
    "\n",
    "-do the prism colors mean anything here? Color-wise, should we make it look geological or reflecting susceptibility?  \n",
    "-view is looking west, can we rotate whole model (all prisms and survey 90 degrees clockwise)? Want to look north with east-west flight lines\n",
    "\n",
    "\n"
   ]
  },
  {
   "cell_type": "code",
   "execution_count": 3,
   "metadata": {},
   "outputs": [
    {
     "data": {
      "application/vnd.jupyter.widget-view+json": {
       "model_id": "4c8c48f9dbc645f4a415120e2db43de3",
       "version_major": 2,
       "version_minor": 0
      },
      "text/html": [
       "<p>Failed to display Jupyter Widget of type <code>interactive</code>.</p>\n",
       "<p>\n",
       "  If you're reading this message in the Jupyter Notebook or JupyterLab Notebook, it may mean\n",
       "  that the widgets JavaScript is still loading. If this message persists, it\n",
       "  likely means that the widgets JavaScript library is either not installed or\n",
       "  not enabled. See the <a href=\"https://ipywidgets.readthedocs.io/en/stable/user_install.html\">Jupyter\n",
       "  Widgets Documentation</a> for setup instructions.\n",
       "</p>\n",
       "<p>\n",
       "  If you're reading this message in another frontend (for example, a static\n",
       "  rendering on GitHub or <a href=\"https://nbviewer.jupyter.org/\">NBViewer</a>),\n",
       "  it may mean that your frontend doesn't currently support widgets.\n",
       "</p>\n"
      ],
      "text/plain": [
       "interactive(children=(FloatSlider(value=90.0, continuous_update=False, description='View_dip', max=90.0, step=1.0), FloatSlider(value=0.0, continuous_update=False, description='View_azm', max=360.0, step=1.0), FloatSlider(value=870.0, continuous_update=False, description='View_lim', max=2000.0, min=1.0, step=1.0), Output()), _dom_classes=('widget-interact',))"
      ]
     },
     "metadata": {},
     "output_type": "display_data"
    }
   ],
   "source": [
    "# Create a survey\n",
    "fileName = './DIGHEM_Mag_floor10nt_25m.obs'\n",
    "xyzd = np.genfromtxt(fileName, skip_header=3)\n",
    "xyzd[:,-2] = 0\n",
    "B = np.r_[60308, 83.8, 25.4]\n",
    "survey = Mag.createMagSurvey(xyzd, B)\n",
    "cntr = np.mean(xyzd[:, :2], axis=0)\n",
    "\n",
    "prisms = []\n",
    "\n",
    "# Create a synthetic block model and place it at the center of the survey\n",
    "prisms.append( Simulator.definePrism())\n",
    "prisms[0].x0, prisms[0].y0, prisms[0].z0 = cntr[0]+100, cntr[1]-100, xyzd[:, 2].min() - 50\n",
    "prisms[0].dx, prisms[0].dy, prisms[0].dz = 300, 300 ,300\n",
    "prisms[0].pdec = -30\n",
    "suscs = [0.01]\n",
    "\n",
    "# The background\n",
    "prisms.append( Simulator.definePrism())\n",
    "prisms[1].x0, prisms[1].y0, prisms[1].z0 = cntr[0], cntr[1], xyzd[:, 2].min()-300\n",
    "prisms[1].dx, prisms[1].dy, prisms[1].dz = 8000, 8000 ,2000\n",
    "# prisms[1].pdec, prisms[1].pinc = -45, 20\n",
    "suscs += [0.1]\n",
    "\n",
    "# A long negative dyke\n",
    "prisms.append( Simulator.definePrism())\n",
    "prisms[2].x0, prisms[2].y0, prisms[2].z0 = cntr[0]-500, cntr[1]-200, xyzd[:, 2].min()-400\n",
    "prisms[2].dx, prisms[2].dy, prisms[2].dz = 4000, 100 ,500\n",
    "prisms[2].pdec, prisms[2].pinc = -75, 20\n",
    "suscs += [-0.1]\n",
    "\n",
    "# A large unit on the Eastern boundary\n",
    "prisms.append( Simulator.definePrism())\n",
    "prisms[3].x0, prisms[3].y0, prisms[3].z0 = cntr[0]+1500, cntr[1], xyzd[:, 2].min() - 200\n",
    "prisms[3].dx, prisms[3].dy, prisms[3].dz = 5000, 1500 ,500\n",
    "prisms[3].pdec, prisms[3].pinc = -60, 0\n",
    "suscs += [0.05]\n",
    "\n",
    "\n",
    "for prism, susc in zip(prisms, suscs):\n",
    "    prob = Mag.problem(prism=prism, survey=survey)\n",
    "    prob.susc = susc\n",
    "    survey.dobs += prob.fields()[0]\n",
    "\n",
    "def Prism(View_dip,View_azm,View_lim):\n",
    "\n",
    "    Simulator.plotObj3D(prisms, survey, View_dip,View_azm,View_lim, colors=['w','','g','r'])\n",
    "    \n",
    "    \n",
    "out = widgets.interactive(Prism,\n",
    "                          View_dip=widgets.FloatSlider(min=0, max=90, step=1, value=90, continuous_update=False),\n",
    "                          View_azm=widgets.FloatSlider(min=0, max=360, step=1, value=0, continuous_update=False),\n",
    "                          View_lim=widgets.FloatSlider(min=1, max=2000, step=1, value=870, continuous_update=False),\n",
    "                          )\n",
    "# View prism\n",
    "display(out)"
   ]
  },
  {
   "cell_type": "markdown",
   "metadata": {},
   "source": [
    "## Magnetic response of a simple geologic model\n",
    "\n",
    "The magnetic response (total field anomaly) of the described geologic model is calculated on a series of east-west flight lines running roughly perpendicular to the general strike of geologic boundaries and structures featured in the model. Flight line spacing is 200 m. Data was collected at a flight height of 40 m. Topography is assumed to be flat in this example. The magnetic data are in nanoteslas (NT). \n",
    "\n",
    "As discussed in Section 1, the magnetic response recorded will depend on the inclination, declination, and field strength of the magnetic field at the survey location. Use the drop down menu to explore a range of responses correlating to varied magnetic field parameters. The default values reflect inclination, declination, and field strength recorded in central British Columbia, Canada.  \n",
    "\n",
    "A profile through the magnetic data can be viewed by clicking on the grey ‘Profile’ button, and in this example the profile location can be changed using the slider bars. \n",
    "\n",
    "-Not sure ‘width’ and ‘height’ are needed\n",
    "\n"
   ]
  },
  {
   "cell_type": "code",
   "execution_count": 4,
   "metadata": {},
   "outputs": [
    {
     "data": {
      "application/vnd.jupyter.widget-view+json": {
       "model_id": "5f5837cf0c4d4534a60bff526ab65cbe",
       "version_major": 2,
       "version_minor": 0
      },
      "text/html": [
       "<p>Failed to display Jupyter Widget of type <code>interactive</code>.</p>\n",
       "<p>\n",
       "  If you're reading this message in the Jupyter Notebook or JupyterLab Notebook, it may mean\n",
       "  that the widgets JavaScript is still loading. If this message persists, it\n",
       "  likely means that the widgets JavaScript library is either not installed or\n",
       "  not enabled. See the <a href=\"https://ipywidgets.readthedocs.io/en/stable/user_install.html\">Jupyter\n",
       "  Widgets Documentation</a> for setup instructions.\n",
       "</p>\n",
       "<p>\n",
       "  If you're reading this message in another frontend (for example, a static\n",
       "  rendering on GitHub or <a href=\"https://nbviewer.jupyter.org/\">NBViewer</a>),\n",
       "  it may mean that your frontend doesn't currently support widgets.\n",
       "</p>\n"
      ],
      "text/plain": [
       "interactive(children=(FloatSlider(value=558034.7817500001, continuous_update=False, description='East', max=560595.5952500001, min=555473.96825, step=10.0), FloatSlider(value=7133989.5, continuous_update=False, description='North', max=7136799.5, min=7131179.5, step=10.0), FloatSlider(value=2688.85417500005, continuous_update=False, description='Width', max=2688.85417500005, min=10.0, step=10.0), FloatSlider(value=2950.5, continuous_update=False, description='Height', max=2950.5, min=10.0, step=10.0), FloatSlider(value=0.0, continuous_update=False, description='Azimuth', max=90.0, min=-90.0, step=5.0), FloatSlider(value=1900.9120036039603, continuous_update=False, description='Length', max=1900.9120036039603, min=10.0, step=10.0), BoundedFloatText(value=20.0, description='Npts', min=10.0, step=1.0), ToggleButton(value=False, description='Profile'), Output()), _dom_classes=('widget-interact',))"
      ]
     },
     "metadata": {},
     "output_type": "display_data"
    }
   ],
   "source": [
    "param = Simulator.ViewMagSurvey2D(survey)\n",
    "display(param)"
   ]
  },
  {
   "cell_type": "markdown",
   "metadata": {},
   "source": [
    "## Gridding the magnetic data\n",
    "\n",
    "Magnetic data must be gridded prior to applying transforms and filters. This means that the flight line data must be interpolated on a regular 2D grid. There are numerous possible ways to grid data. Several researchers have demonstrated that minimum curvature methods are robust and yield a sensible and smooth result, so we have chosen minimum curvature to complete the gridding for this example. In this example, the data are interpolated on a 10 m x 10 m grid.\n",
    "\n",
    "The resulting grid shows the larger and smaller magnetic bodies, and the magnetic low related to the NE trending structure.\n",
    "\n",
    "## Basic visualization\n",
    "\n",
    "Simple enhancements to the image can help the user better visualize features within the magnetic data. Applying sun-shading from various angles, and experimenting with colour scales and colour stretches are a simple means to explore the data initially. \n",
    "\n",
    "Try using the slider bars below to change the direction (azdeg) and angle (altdeg) of sun shading, to change color saturation (alpha) and transparency (alphaHS), and to manipulate magnetic contours lines (contour)\n",
    "\n",
    "-don’t think we need vScale\n",
    "\n",
    "\n",
    "\n"
   ]
  },
  {
   "cell_type": "code",
   "execution_count": 15,
   "metadata": {},
   "outputs": [],
   "source": [
    "gridCC, dMinCurv = Simulator.minCurvatureInterp(\n",
    "    xyzd[:,:2], survey.dobs,\n",
    "    vectorX=None, vectorY=None, vectorZ=None, gridSize=10,\n",
    "    tol=1e-5, iterMax=None, method='spline'\n",
    ")\n",
    "\n",
    "X = gridCC[:,0].reshape(dMinCurv.shape, order='F')\n",
    "Y = gridCC[:,1].reshape(dMinCurv.shape, order='F')"
   ]
  },
  {
   "cell_type": "code",
   "execution_count": 18,
   "metadata": {},
   "outputs": [
    {
     "data": {
      "application/vnd.jupyter.widget-view+json": {
       "model_id": "0f473473d3444aaf8fd45f375c259913",
       "version_major": 2,
       "version_minor": 0
      },
      "text/html": [
       "<p>Failed to display Jupyter Widget of type <code>interactive</code>.</p>\n",
       "<p>\n",
       "  If you're reading this message in the Jupyter Notebook or JupyterLab Notebook, it may mean\n",
       "  that the widgets JavaScript is still loading. If this message persists, it\n",
       "  likely means that the widgets JavaScript library is either not installed or\n",
       "  not enabled. See the <a href=\"https://ipywidgets.readthedocs.io/en/stable/user_install.html\">Jupyter\n",
       "  Widgets Documentation</a> for setup instructions.\n",
       "</p>\n",
       "<p>\n",
       "  If you're reading this message in another frontend (for example, a static\n",
       "  rendering on GitHub or <a href=\"https://nbviewer.jupyter.org/\">NBViewer</a>),\n",
       "  it may mean that your frontend doesn't currently support widgets.\n",
       "</p>\n"
      ],
      "text/plain": [
       "interactive(children=(FloatSlider(value=0.0, continuous_update=False, description='SunAzimuth', max=360.0, step=5.0), FloatSlider(value=45.0, continuous_update=False, description='SunAngle', max=90.0, step=5.0), FloatSlider(value=0.5, continuous_update=False, description='Contrast', max=1.0), FloatSlider(value=1.0, continuous_update=False, description='Transparency', max=1.0), FloatSlider(value=1.0, continuous_update=False, description='vScale', max=1000.0, min=1.0, step=1.0), FloatSlider(value=10.0, continuous_update=False, description='MagContour', max=20.0, step=1.0), Output()), _dom_classes=('widget-interact',))"
      ]
     },
     "metadata": {},
     "output_type": "display_data"
    }
   ],
   "source": [
    "def dataViewer(X,Y,dataGrid):\n",
    "      \n",
    "    def plotData(SunAzimuth,SunAngle,Contrast,Transparency,vScale,MagContour):\n",
    "        fig = plt.figure(figsize=(8,6))\n",
    "        axs= plt.subplot()\n",
    "\n",
    "        # Read the data\n",
    "#         vmin, vmax = -25, 150\n",
    "        cmap = plt.cm.gist_earth\n",
    "\n",
    "        # Add shading\n",
    "        im, CS = Simulator.plotDataHillside(X, Y,dataGrid ,\n",
    "                                  axs=axs, cmap='RdBu_r', \n",
    "                                  clabel=False, contour=MagContour,\n",
    "                                  alpha=Contrast, alphaHS=Transparency, ve=vScale, azdeg=SunAzimuth, altdeg=SunAngle)\n",
    "\n",
    "        # Add points at the survey locations\n",
    "        plt.scatter(xyzd[:,0], xyzd[:,1], s=2, c='k')\n",
    "\n",
    "        # Set limits and labels\n",
    "#         axs.set_xlim([xmin,xmax])\n",
    "#         axs.set_ylim([ymin,ymax])\n",
    "        # axs.set_xticklabels([556750,558000, 559250], size=14)\n",
    "        # axs.set_xticks([556750,558000, 559250])\n",
    "        # axs.set_yticklabels([7133000,7134000, 7135000], size=14, rotation=90, va='center')\n",
    "        plt.colorbar(im)\n",
    "        # axs.set_yticks([7133000,7134000, 7135000])\n",
    "        axs.set_xlabel(\"Easting (m)\", size=14)\n",
    "        axs.set_ylabel(\"Northing (m)\", size=14)\n",
    "        axs.grid('on', color='k', linestyle='--')\n",
    "        plt.show()\n",
    "        # Add colorbar\n",
    "        # pos = axs.get_position() # Get the position of previous axes\n",
    "        # axbar = plt.axes([pos.x0+.25, pos.y0+0.2,  pos.width*0.75, pos.height*.5]) # Create a new axes and reshape\n",
    "        # cbar = plt.colorbar(im, orientation='vertical',format='%.3f') # Add a colorbar using the color definition of previous\n",
    "        # cbar.set_ticks(np.linspace(-25,300,6)) # Change the tick position\n",
    "        # cbar.set_ticklabels(np.round(np.linspace(-25,300,6))) # Change the tick labels\n",
    "        # axbar.text(pos.x0+1., pos.y0+.75,'SI', size=14) # Add units and move it above\n",
    "        # axbar.axis('off') # Only keep the colorbar, remove the rest\n",
    "\n",
    "    out = widgets.interactive(plotData,\n",
    "                              SunAzimuth=widgets.FloatSlider(min=0, max=360, step=5, value=0, continuous_update=False),\n",
    "                              SunAngle=widgets.FloatSlider(min=0, max=90, step=5, value=45, continuous_update=False),\n",
    "                              Contrast=widgets.FloatSlider(min=0, max=1, step=0.1, value=0.5, continuous_update=False),\n",
    "                              Transparency=widgets.FloatSlider(min=0, max=1, step=0.1, value=1.0, continuous_update=False),\n",
    "                              vScale=widgets.FloatSlider(min=1, max=1000, step=1., value=1.0, continuous_update=False),\n",
    "                              MagContour=widgets.FloatSlider(min=0, max=20, step=1, value=10, continuous_update=False))\n",
    "    return out\n",
    "\n",
    "view = dataViewer(X, Y, dMinCurv)\n",
    "display(view)"
   ]
  },
  {
   "cell_type": "code",
   "execution_count": null,
   "metadata": {},
   "outputs": [],
   "source": []
  },
  {
   "cell_type": "code",
   "execution_count": null,
   "metadata": {},
   "outputs": [],
   "source": []
  },
  {
   "cell_type": "code",
   "execution_count": null,
   "metadata": {},
   "outputs": [],
   "source": []
  }
 ],
 "metadata": {
  "kernelspec": {
   "display_name": "Python 3",
   "language": "python",
   "name": "python3"
  },
  "language_info": {
   "codemirror_mode": {
    "name": "ipython",
    "version": 3
   },
   "file_extension": ".py",
   "mimetype": "text/x-python",
   "name": "python",
   "nbconvert_exporter": "python",
   "pygments_lexer": "ipython3",
   "version": "3.6.4"
  }
 },
 "nbformat": 4,
 "nbformat_minor": 2
}
