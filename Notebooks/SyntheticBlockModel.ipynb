{
 "cells": [
  {
   "cell_type": "code",
   "execution_count": 1,
   "metadata": {},
   "outputs": [],
   "source": [
    "from library.Mag import *\n",
    "from SimPEG import PF, Utils, Mesh\n",
    "import matplotlib.pyplot as plt\n",
    "import ipywidgets as widgets"
   ]
  },
  {
   "cell_type": "code",
   "execution_count": 8,
   "metadata": {},
   "outputs": [
    {
     "data": {
      "application/vnd.jupyter.widget-view+json": {
       "model_id": "d2bc2fff23544ad3afb30797622c2507"
      }
     },
     "metadata": {},
     "output_type": "display_data"
    }
   ],
   "source": [
    "# Create a survey\n",
    "fileName = './DIGHEM_Mag_floor10nt_25m.obs'\n",
    "xyzd = np.genfromtxt(fileName, skip_header=3)\n",
    "B = np.r_[60308, 83.8, 25.4]\n",
    "survey = Mag.createMagSurvey(xyzd, B)\n",
    "cntr = np.mean(xyzd[:, :2], axis=0)\n",
    "\n",
    "prisms = []\n",
    "# Create a synthetic block model and place it at the center of the survey\n",
    "prisms.append( Simulator.definePrism())\n",
    "prisms[0].x0, prisms[0].y0, prisms[0].z0 = cntr[0]+100, cntr[1]-100, xyzd[:, 2].min() - 50\n",
    "prisms[0].dx, prisms[0].dy, prisms[0].dz = 200, 200 ,100\n",
    "prisms[0].pdec = -30\n",
    "\n",
    "prisms.append( Simulator.definePrism())\n",
    "prisms[1].x0, prisms[1].y0, prisms[1].z0 = cntr[0]-1500, cntr[1], xyzd[:, 2].min()-600\n",
    "prisms[1].dx, prisms[1].dy, prisms[1].dz = 2000, 2500 ,1000\n",
    "prisms[1].pdec, prisms[1].pinc = -45, 20\n",
    "\n",
    "prisms.append( Simulator.definePrism())\n",
    "prisms[2].x0, prisms[2].y0, prisms[2].z0 = cntr[0]+600, cntr[1]-200, xyzd[:, 2].min()-200\n",
    "prisms[2].dx, prisms[2].dy, prisms[2].dz = 4000, 100 ,500\n",
    "prisms[2].pdec, prisms[2].pinc = 60, -30\n",
    "\n",
    "for prism in prisms:\n",
    "    prob = Mag.problem(prism=prism, survey=survey)\n",
    "    survey.dobs += prob.fields()[0]\n",
    "\n",
    "def Prism(View_dip,View_azm,View_lim):\n",
    "\n",
    "    Simulator.plotObj3D(prisms, survey, View_dip,View_azm,View_lim, colors=['w','r','g'])\n",
    "    \n",
    "    \n",
    "out = widgets.interactive(Prism,\n",
    "                          View_dip=widgets.FloatSlider(min=0, max=90, step=1, value=75, continuous_update=False),\n",
    "                          View_azm=widgets.FloatSlider(min=0, max=360, step=1, value=270, continuous_update=False),\n",
    "                          View_lim=widgets.FloatSlider(min=1, max=2000, step=1, value=800, continuous_update=False),\n",
    "                          )\n",
    "# View prism\n",
    "display(out)"
   ]
  },
  {
   "cell_type": "code",
   "execution_count": 9,
   "metadata": {},
   "outputs": [
    {
     "data": {
      "application/vnd.jupyter.widget-view+json": {
       "model_id": "0263649ec6214b56ab8ada6f688c2f5a"
      }
     },
     "metadata": {},
     "output_type": "display_data"
    }
   ],
   "source": [
    "param = Simulator.ViewMagSurvey2D(survey)\n",
    "display(param)"
   ]
  },
  {
   "cell_type": "code",
   "execution_count": 10,
   "metadata": {},
   "outputs": [],
   "source": [
    "gridCC, dMinCurv = Simulator.minCurvatureInterp(\n",
    "    xyzd[:,:2], survey.dobs,\n",
    "    vectorX=None, vectorY=None, vectorZ=None, gridSize=10,\n",
    "    tol=1e-5, iterMax=None, method='spline'\n",
    ")\n",
    "\n",
    "X = gridCC[:,0].reshape(dMinCurv.shape, order='F')\n",
    "Y = gridCC[:,1].reshape(dMinCurv.shape, order='F')"
   ]
  },
  {
   "cell_type": "code",
   "execution_count": 11,
   "metadata": {},
   "outputs": [
    {
     "data": {
      "application/vnd.jupyter.widget-view+json": {
       "model_id": "d718357976ae457ca3f475366fe1f4a2"
      }
     },
     "metadata": {},
     "output_type": "display_data"
    }
   ],
   "source": [
    "def dataViewer(X,Y,dataGrid):\n",
    "      \n",
    "    def plotData(azdeg,altdeg,alpha,alphaHS,vScale,contour):\n",
    "        fig = plt.figure(figsize=(8,6))\n",
    "        axs= plt.subplot()\n",
    "\n",
    "        # Read the data\n",
    "#         vmin, vmax = -25, 150\n",
    "        cmap = plt.cm.gist_earth\n",
    "\n",
    "        # Add shading\n",
    "        im, CS = Simulator.plotDataHillside(X, Y,dataGrid ,\n",
    "                                  axs=axs, cmap='RdBu_r', \n",
    "                                  clabel=False, contour=contour,\n",
    "                                  alpha=alpha, alphaHS=alphaHS, ve=vScale, azdeg=azdeg, altdeg=altdeg)\n",
    "\n",
    "        # Add points at the survey locations\n",
    "        plt.scatter(xyzd[:,0], xyzd[:,1], s=2, c='k')\n",
    "\n",
    "        # Set limits and labels\n",
    "#         axs.set_xlim([xmin,xmax])\n",
    "#         axs.set_ylim([ymin,ymax])\n",
    "        # axs.set_xticklabels([556750,558000, 559250], size=14)\n",
    "        # axs.set_xticks([556750,558000, 559250])\n",
    "        # axs.set_yticklabels([7133000,7134000, 7135000], size=14, rotation=90, va='center')\n",
    "        plt.colorbar(im)\n",
    "        # axs.set_yticks([7133000,7134000, 7135000])\n",
    "        axs.set_xlabel(\"Easting (m)\", size=14)\n",
    "        axs.set_ylabel(\"Northing (m)\", size=14)\n",
    "        axs.grid('on', color='k', linestyle='--')\n",
    "        plt.show()\n",
    "        # Add colorbar\n",
    "        # pos = axs.get_position() # Get the position of previous axes\n",
    "        # axbar = plt.axes([pos.x0+.25, pos.y0+0.2,  pos.width*0.75, pos.height*.5]) # Create a new axes and reshape\n",
    "        # cbar = plt.colorbar(im, orientation='vertical',format='%.3f') # Add a colorbar using the color definition of previous\n",
    "        # cbar.set_ticks(np.linspace(-25,300,6)) # Change the tick position\n",
    "        # cbar.set_ticklabels(np.round(np.linspace(-25,300,6))) # Change the tick labels\n",
    "        # axbar.text(pos.x0+1., pos.y0+.75,'SI', size=14) # Add units and move it above\n",
    "        # axbar.axis('off') # Only keep the colorbar, remove the rest\n",
    "\n",
    "    out = widgets.interactive(plotData,\n",
    "                              azdeg=widgets.FloatSlider(min=0, max=360, step=5, value=0, continuous_update=False),\n",
    "                              altdeg=widgets.FloatSlider(min=0, max=90, step=5, value=45, continuous_update=False),\n",
    "                              alpha=widgets.FloatSlider(min=0, max=1, step=0.1, value=0.2, continuous_update=False),\n",
    "                              alphaHS=widgets.FloatSlider(min=0, max=1, step=0.1, value=1.0, continuous_update=False),\n",
    "                              vScale=widgets.FloatSlider(min=1, max=1000, step=1., value=1.0, continuous_update=False),\n",
    "                              contour=widgets.FloatSlider(min=0, max=20, step=1, value=10, continuous_update=False))\n",
    "    return out\n",
    "\n",
    "view = dataViewer(X, Y, dMinCurv)\n",
    "display(view)"
   ]
  },
  {
   "cell_type": "code",
   "execution_count": null,
   "metadata": {
    "collapsed": true
   },
   "outputs": [],
   "source": []
  }
 ],
 "metadata": {
  "kernelspec": {
   "display_name": "Python 3",
   "language": "python",
   "name": "python3"
  },
  "language_info": {
   "codemirror_mode": {
    "name": "ipython",
    "version": 3
   },
   "file_extension": ".py",
   "mimetype": "text/x-python",
   "name": "python",
   "nbconvert_exporter": "python",
   "pygments_lexer": "ipython3",
   "version": "3.6.2"
  }
 },
 "nbformat": 4,
 "nbformat_minor": 2
}
