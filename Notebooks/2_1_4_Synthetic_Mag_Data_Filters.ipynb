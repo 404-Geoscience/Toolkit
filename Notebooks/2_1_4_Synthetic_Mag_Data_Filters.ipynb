{
 "cells": [
  {
   "cell_type": "markdown",
   "metadata": {},
   "source": [
    "# 2.1.4.\tSynthetic - 2D Magnetic Data Filters#\n"
   ]
  },
  {
   "cell_type": "markdown",
   "metadata": {},
   "source": [
    "\n",
    "2D magnetic data filters are commonly applied to magnetic data to allow us to view that data in different ways. They can highlight shallower or deeper magnetic sources, and can emphasize gradients in the magnetic data that occur at geological contacts and in association with structure.\n",
    "\n",
    "\n",
    "## Total magnetic intensity data\n",
    "\n",
    "In the first cell below, the gridded TMI data calculated from the synthetic geologic model are loaded. The response is based on magnetic field parameters at the magnetic  north pole, in other words, the magnetic field is vertical.\n",
    "\n",
    "To run the notebook cells below, select the cell, and press Shift+Enter, or click on the 'Run' button in the menu at the top of the notebook. ![runcell](./images/runcell_30per_ppt.PNG)\n",
    "\n",
    "For this notebook, you can leave the default options for ESPG code, Inclination, and Declination. Since this data is already located at the pole, clicking the 'Reduce to pole' button will have no effect. "
   ]
  },
  {
   "cell_type": "code",
   "execution_count": 12,
   "metadata": {},
   "outputs": [],
   "source": [
    "## Load all libraries and setup the synthetic problem\n",
    "from GeoToolkit.Mag import Simulator, DataIO\n",
    "dataGrid = DataIO.loadGeoTiffFile(\"./assets/Synthetic/DataGrid.tiff\")"
   ]
  },
  {
   "cell_type": "code",
   "execution_count": 10,
   "metadata": {},
   "outputs": [
    {
     "data": {
      "application/vnd.jupyter.widget-view+json": {
       "model_id": "a018775d2d754bbb9d94cba3b84245fb",
       "version_major": 2,
       "version_minor": 0
      },
      "text/html": [
       "<p>Failed to display Jupyter Widget of type <code>interactive</code>.</p>\n",
       "<p>\n",
       "  If you're reading this message in the Jupyter Notebook or JupyterLab Notebook, it may mean\n",
       "  that the widgets JavaScript is still loading. If this message persists, it\n",
       "  likely means that the widgets JavaScript library is either not installed or\n",
       "  not enabled. See the <a href=\"https://ipywidgets.readthedocs.io/en/stable/user_install.html\">Jupyter\n",
       "  Widgets Documentation</a> for setup instructions.\n",
       "</p>\n",
       "<p>\n",
       "  If you're reading this message in another frontend (for example, a static\n",
       "  rendering on GitHub or <a href=\"https://nbviewer.jupyter.org/\">NBViewer</a>),\n",
       "  it may mean that your frontend doesn't currently support widgets.\n",
       "</p>\n"
      ],
      "text/plain": [
       "interactive(children=(Dropdown(description='ColorMap', index=3, options=('viridis', 'plasma', 'magma', 'RdBu_r', 'Greys_r', 'jet', 'rainbow', 'pink', 'bone', 'hsv', 'nipy_spectral'), value='RdBu_r'), FloatText(value=3156.0, description='EPSG code:'), FloatText(value=90.0, description='Inclination angle positive downward from horizontal:'), FloatText(value=0.0, description='Declination angle positve clockwise from North:'), ToggleButton(value=False, description='Fetch Inc/Dec', icon='check', tooltip='Connect to NOAA API'), ToggleButton(value=False, description='Reduce to pole', icon='check', tooltip='Transform to RTP data'), Output()), _dom_classes=('widget-interact',))"
      ]
     },
     "metadata": {},
     "output_type": "display_data"
    }
   ],
   "source": [
    "dataGrid = Simulator.dataGridGeoref(dataGrid, inc=90, dec=0)\n",
    "display(dataGrid)"
   ]
  },
  {
   "cell_type": "markdown",
   "metadata": {},
   "source": [
    "## 2D magnetic data filters\n",
    "\n",
    "The options to change the sun-shading azimuth, angle, and transparency, as well as the color map, are retained from the visualization notebook (notebook 2.1.3).  \n",
    "\n",
    "Use the **'Grid Filters'** drop-down menu to choose a filter to apply to the magnetic data. ![gridfilter](./images/grid_filters_dropdown_vert_50per_ppt.PNG)\n",
    "\n",
    "Change the upward continuation height, or distance, using the slider bar labelled **'UpC'** (the default is 0 m, so you will need to change it to observe a change in the data): ![upwarddistSlider](./images/updist_height_upC_50per_ppt.PNG)\n",
    "\n"
   ]
  },
  {
   "cell_type": "code",
   "execution_count": 11,
   "metadata": {},
   "outputs": [
    {
     "data": {
      "application/vnd.jupyter.widget-view+json": {
       "model_id": "362b0bc25c3949fb94f4a85ef4a37536",
       "version_major": 2,
       "version_minor": 0
      },
      "text/html": [
       "<p>Failed to display Jupyter Widget of type <code>HBox</code>.</p>\n",
       "<p>\n",
       "  If you're reading this message in the Jupyter Notebook or JupyterLab Notebook, it may mean\n",
       "  that the widgets JavaScript is still loading. If this message persists, it\n",
       "  likely means that the widgets JavaScript library is either not installed or\n",
       "  not enabled. See the <a href=\"https://ipywidgets.readthedocs.io/en/stable/user_install.html\">Jupyter\n",
       "  Widgets Documentation</a> for setup instructions.\n",
       "</p>\n",
       "<p>\n",
       "  If you're reading this message in another frontend (for example, a static\n",
       "  rendering on GitHub or <a href=\"https://nbviewer.jupyter.org/\">NBViewer</a>),\n",
       "  it may mean that your frontend doesn't currently support widgets.\n",
       "</p>\n"
      ],
      "text/plain": [
       "HBox(children=(VBox(children=(FloatSlider(value=270.0, continuous_update=False, description='SunAzimuth', max=360.0, step=5.0), FloatSlider(value=15.0, continuous_update=False, description='SunAngle', max=90.0, step=5.0), FloatSlider(value=0.9, continuous_update=False, description='ColorTransp', max=1.0, step=0.05), FloatSlider(value=0.0, continuous_update=False, description='HSTransp', max=1.0, step=0.05), FloatSlider(value=5.0, continuous_update=False, description='vScale', max=10.0, min=1.0, step=1.0), IntSlider(value=0, continuous_update=False, description='Contours', step=2), Dropdown(description='ColorMap', index=3, options=('viridis', 'plasma', 'magma', 'RdBu_r', 'Greys_r', 'jet', 'rainbow', 'pink', 'bone', 'hsv', 'nipy_spectral'), value='RdBu_r'), Dropdown(description='Grid Filters', index=1, options=('TMI', 'derivativeX', 'derivativeY', 'firstVertical', 'totalHorizontal', 'tiltAngle', 'analyticSignal'), value='derivativeX'), FloatSlider(value=0.0, continuous_update=False, description='UpC Height', max=200.0, step=10.0), Text(value='./Output/MyGeoTiff', description='GeoTiff name:'), FloatText(value=3156.0, description='EPSG code:'), ToggleButton(value=False, description='Export Grid', icon='check', tooltip='Description')), layout=Layout(height='600px', margin='60px 0px 0px 0px', width='35%')), Output()))"
      ]
     },
     "metadata": {},
     "output_type": "display_data"
    }
   ],
   "source": [
    "selection = Simulator.gridFiltersWidget(\n",
    "    dataGrid.result, HSTransp=0,\n",
    "    shapeFile='./assets/Synthetic/Synthetic_Zcontours.shp')\n",
    "display(selection)"
   ]
  },
  {
   "cell_type": "code",
   "execution_count": null,
   "metadata": {},
   "outputs": [],
   "source": []
  }
 ],
 "metadata": {
  "kernelspec": {
   "display_name": "Python 3",
   "language": "python",
   "name": "python3"
  },
  "language_info": {
   "codemirror_mode": {
    "name": "ipython",
    "version": 3
   },
   "file_extension": ".py",
   "mimetype": "text/x-python",
   "name": "python",
   "nbconvert_exporter": "python",
   "pygments_lexer": "ipython3",
   "version": "3.6.4"
  }
 },
 "nbformat": 4,
 "nbformat_minor": 2
}
