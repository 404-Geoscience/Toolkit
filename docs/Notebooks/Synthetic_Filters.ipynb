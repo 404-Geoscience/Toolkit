{
 "cells": [
  {
   "cell_type": "markdown",
   "metadata": {},
   "source": [
    "# 2.1.3.\tSynthetic - 2D Magnetic Data Filters#\n",
    "\n",
    "\n",
    "2D magnetic data filters are commonly applied to magnetic data to allow us to view that data in different ways. They can highlight shallower or deeper magnetic sources, and can emphasize gradients in the magnetic data that occur at geological contacts and in association with structure.\n",
    "\n",
    "We use the same synthetic model here as in the previous notebook to demonstrate the effects of various 2D magnetic filters.\n",
    "\n",
    "Short descriptions of select filters are provided in the sections below. Summaries of various filters and their role in gravity and magnetic data interpretation can be found in Roest et al., 1992, MacLeod et al., 1993, Miller and Singh, 1994, Milligan and Gunn, 1997, Verduzco et al., 2004, Isles and Rankin, 2013, Dentith and Mudge, 2014.  \n",
    "\n"
   ]
  },
  {
   "cell_type": "markdown",
   "metadata": {},
   "source": [
    "## Total magnetic intensity data\n",
    "\n",
    "The below image shows the total magnetic intensity (TMI) that was calculated from the synthetic geologic model. The response is based on magnetic field parameters at the north pole, in other words, the magnetic field is vertical.  "
   ]
  },
  {
   "cell_type": "code",
   "execution_count": null,
   "metadata": {},
   "outputs": [],
   "source": [
    "## Load all libraries and setup the synthetic problem\n",
    "from library.Mag import Mag, ProblemSetter, MathUtils, Simulator, DataIO\n",
    "\n",
    "# Load data and topo and build default model\n",
    "workDir = \"./assets/Synthetic/\"\n",
    "fName = 'DataGrid.tiff'\n",
    "\n",
    "dataGrid = DataIO.loadGeoTiffFile(workDir + fName, plotIt=True)"
   ]
  },
  {
   "cell_type": "markdown",
   "metadata": {},
   "source": [
    "## Upward continuation\n",
    "\n",
    "Upward continuation can be considered a ‘wavelength’ filter. Upward continuation simulates the magnetic response that would be observed if data were collected at a greater height above the Earth’s surface than it was actually collected. The result is that longer-wavelength, deeper features are emphasized over shorter-wavelength, near-surface features. It is effective for interpretation of deeper geology, or for reducing noise that may be found in data collected very close to the ground. \n",
    "\n",
    "You can alternate between the upward contined response here and the TMI data using the drop-down menu labelled 'Grid Filters': ![gridfilters](./images/grid_filters_dropdown_20per_ppt.PNG)  Change the upward continuation height, or distance, using the slider bar labelled 'UpDist' (the default is 0 m, so you will need to change it to observe a change in the data): ![upwarddistSlider](./images/updist_height_20per_ppt.PNG) Note the small magnetic anomaly and the narrow fault feature quickly become indistinct with increased height. \n",
    "\n",
    "The options to change the sun-shading azimuth, angle, and transparency, as well as the color map, are retained from the gridding and visualization notebook (Notebook 2.1.2).  \n"
   ]
  },
  {
   "cell_type": "code",
   "execution_count": null,
   "metadata": {},
   "outputs": [],
   "source": [
    "selection = Simulator.gridFiltersWidget(dataGrid, gridFilter='upwardContinuation', HSTransp=0)\n",
    "display(selection)"
   ]
  },
  {
   "cell_type": "markdown",
   "metadata": {},
   "source": [
    "## X and Y derivatives of the magnetic response\n",
    "\n",
    "Calculating horizontal and vertical derivatives of the magnetic response gives us a way to better visualize local gradients in the data that can be obscured by larger and deeper features in the total field response. X and Y derivatives are calculated based on the difference observed in the magnetic response between adjacent points, or grid cells, in the X and Y directions, respectively: \n",
    "\n",
    "\\begin{equation*}\n",
    "\\frac{\\partial B}{\\partial x}(x_n,y_n)= \\frac{B_{(x_{n+1},y_n)}-B_{(x_{n-1},y_n)}}{2\\Delta x}\n",
    "\\end{equation*}\n",
    "\n",
    "\\begin{equation*}\n",
    "\\frac{\\partial B}{\\partial y}(x_n,y_n)= \\frac{B_{(x_n,y_{n+1})}-B_{(x_n,y_{n-1})}}{2\\Delta y}\n",
    "\\end{equation*}\n",
    "\n",
    "\n",
    "where B is the magnetic field. Steep gradients usually occur at geologic contacts, faults, or fractures, where there is a distinct contrast in magnetic susceptibility. Interpreters should not consider X and Y derivative results independently, and should be sure to evaluate both, since visualizing gradients in one direction will de-emphasize features trending in the perpendicular direction. The X and Y derivatives are also used in the calculation of several other magnetic data filters.\n",
    "\n",
    "Grids showing the X and Y derivatives are shown below. Note the emphases on east and west geological boundaries using the X derivative, and on the north and south geological boundaries using the Y derivative (best seen in relation to the smaller magnetic anomaly). Image sun-shading and color can be varied, and the filtered data can be compared with the original total mangetic intensity (TMI) data using the 'Grid Filters' drop-down menu. \n",
    "\n",
    "The 'Refresh' button: ![refreshUpcontin](./images/refresh_20per_ppt.PNG)\n",
    "allows you to update the image if you have changed the upward continuation distance in the first cell of this notebook.  "
   ]
  },
  {
   "cell_type": "code",
   "execution_count": null,
   "metadata": {},
   "outputs": [],
   "source": [
    "param = Simulator.gridFiltersWidget(selection.result, gridFilter='derivativeX', HSTransp=0)\n",
    "display(param)"
   ]
  },
  {
   "cell_type": "code",
   "execution_count": null,
   "metadata": {},
   "outputs": [],
   "source": [
    "param = Simulator.gridFiltersWidget(selection.result, gridFilter='derivativeY', HSTransp=0)\n",
    "display(param)"
   ]
  },
  {
   "cell_type": "markdown",
   "metadata": {},
   "source": [
    "## Vertical derivative\n",
    "\n",
    "A very commonly used magnetic filter is the first vertical derivative. This process considers the change in the magnetic response when calculated at two different heights above the ground. \n",
    "\n",
    "The effect is to emphasize near-surface features where the difference between the responses calculated at two different heights will be largest. First vertical derivative anomalies will highlight edges of magnetic sources, and appear over the top of the source if the contact or feature is vertical. \n",
    "\n",
    "Notice how the first vertical derivative peaks directly over the small magnetic body from the synthetic geologic model. It also highlights the edge, and main body, of the large eastern magnetic block. "
   ]
  },
  {
   "cell_type": "code",
   "execution_count": null,
   "metadata": {},
   "outputs": [],
   "source": [
    "param = Simulator.gridFiltersWidget(selection.result, gridFilter='firstVertical', HSTransp=0)\n",
    "display(param)"
   ]
  },
  {
   "cell_type": "markdown",
   "metadata": {},
   "source": [
    "## Total horizontal derivative\n",
    "\n",
    "The total horizontal derivative combines the X and Y derivatives: \n",
    "\n",
    "\\begin{equation*}\n",
    "\\frac{\\partial B}{\\partial r}(x_n,y_n) = \\sqrt{\\left({\\frac{\\partial B}{\\partial x}}\\right)^2 + \\left({\\frac{\\partial B}{\\partial y}}\\right)^2}\n",
    "\\end{equation*}\n",
    "\n",
    "Gradients in both directions are now accounted for in a single map. The highest total horizontal derivative values occur at the edges or boundaries of magnetic sources. It does not detect narrow sources as effectively as the vertical derivative.\n",
    "\n",
    "The total horizonal derivative can be seen to peak here over the edges of the small magnetic body, and along the margin of the large magnetic block in the east. "
   ]
  },
  {
   "cell_type": "code",
   "execution_count": null,
   "metadata": {},
   "outputs": [],
   "source": [
    "param = Simulator.gridFiltersWidget(selection.result, gridFilter='totalHorizontal', HSTransp=0)\n",
    "display(param)"
   ]
  },
  {
   "cell_type": "markdown",
   "metadata": {},
   "source": [
    "## Tilt angle\n",
    "\n",
    "The tilt derivative, or tilt angle, normalizes the vertical derivative by the horizontal derivatives: \n",
    "\n",
    "\n",
    "\\begin{equation*}\n",
    "TDR(x,y) = tan^{-1}\\left[\\frac{\\partial B}{\\partial z}\\Bigg/{\\sqrt{\\left({\\frac{\\partial B}{\\partial x}}\\right)^2 + \\left({\\frac{\\partial B}{\\partial y}}\\right)^2}}\\right]\n",
    "\\end{equation*}\n",
    "\n",
    "\n",
    "A magnetic source exhibiting a strong contrast with surrounding rocks (e.g. a large, near surface, magnetic unit) will yield both high vertical and horizontal gradients, and a more weakly contrasting body will yield proportionally smaller vertical and horizontal gradients. Normalizing the vertical by horizontal derivatives means different amplitude responses are assigned equivalent values. This is a very useful filter for enhancing more subtle features in the magnetic data. The tilt angle ranges from -90 to +90 degrees, is positive over the magnetic source, and negative outside the source, with the body’s edge delimited by the 0 degree contour.\n",
    "\n",
    "It is helpful to view the tilt angle using a color map that highlights the middle, or near-zero tilt angle values, which should trace source edges. For example, the red-blue color map (RdBu). \n",
    "\n",
    "In the grid image below, you can see that zero values trace the edge of the small magnetic body, with positive tilt angle values directly over the top of (inside) the body and negative values outside the magnetic body. Zero values also mark the edge of the large eastern magnetic block, as well as the margins of the northwest-trending fault that cross-cuts the eastern block.   "
   ]
  },
  {
   "cell_type": "code",
   "execution_count": null,
   "metadata": {},
   "outputs": [],
   "source": [
    "param = Simulator.gridFiltersWidget(selection.result, gridFilter='tiltAngle', HSTransp=0)\n",
    "display(param)"
   ]
  },
  {
   "cell_type": "markdown",
   "metadata": {},
   "source": [
    "## Analytic signal\n",
    "\n",
    "Analytic signal is also known as the total gradient. It is calculated from the vertical and horizontal derivatives: \n",
    "\n",
    "\n",
    "\\begin{equation*}\n",
    "AS(x,y) = \\sqrt{\\left({\\frac{\\partial B}{\\partial x}}\\right)^2 + \\left({\\frac{\\partial B}{\\partial y}}\\right)^2 + \\left({\\frac{\\partial B}{\\partial z}}\\right)^2}\n",
    "\\end{equation*}\n",
    "\n",
    "\n",
    "The advantage is that we now capture gradients in all three directions, further enhancing detection of geologic boundaries and structures. The analytic signal peaks above narrow bodies and along the edges of larger geologic features that are in magnetic contrast to their surroundings. The analytic signal is a very useful interpretation product in areas where magnetic remanence is suspected, and in areas of low latitude since it is not affected by magnetisation direction.  \n",
    "\n",
    "The analytic signal from the synthetic model looks similar to the first vertical derivative since an anomaly is mapped directly over the smaller magnetic body, however it differs in that it maps the edge of the larger eastern magnetic block but not the top.     "
   ]
  },
  {
   "cell_type": "code",
   "execution_count": null,
   "metadata": {},
   "outputs": [],
   "source": [
    "param = Simulator.gridFiltersWidget(selection.result, gridFilter='analyticSignal', HSTransp=0)\n",
    "display(param)"
   ]
  },
  {
   "cell_type": "markdown",
   "metadata": {},
   "source": [
    "  "
   ]
  },
  {
   "cell_type": "code",
   "execution_count": null,
   "metadata": {},
   "outputs": [],
   "source": []
  }
 ],
 "metadata": {
  "kernelspec": {
   "display_name": "Python 3",
   "language": "python",
   "name": "python3"
  },
  "language_info": {
   "codemirror_mode": {
    "name": "ipython",
    "version": 3
   },
   "file_extension": ".py",
   "mimetype": "text/x-python",
   "name": "python",
   "nbconvert_exporter": "python",
   "pygments_lexer": "ipython3",
   "version": "3.6.5"
  }
 },
 "nbformat": 4,
 "nbformat_minor": 2
}
