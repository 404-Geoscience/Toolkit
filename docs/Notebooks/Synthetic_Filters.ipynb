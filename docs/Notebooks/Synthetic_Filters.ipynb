{
 "cells": [
  {
   "cell_type": "markdown",
   "metadata": {},
   "source": [
    "# 2.1.4.\tSynthetic - 2D Magnetic Data Filters#\n",
    "\n",
    "\n",
    "2D magnetic data filters are commonly applied to magnetic data to allow us to view that data in different ways. They can highlight shallower or deeper magnetic sources, and can emphasize gradients in the magnetic data that occur at geological contacts and in association with structure.\n",
    "\n",
    "We use the same synthetic model here as in the previous notebook to demonstrate the effects of various 2D magnetic filters.\n",
    "\n",
    "Short descriptions of select filters are provided in the sections below. Summaries of various filters and their role in gravity and magnetic data interpretation can be found in Roest et al., 1992, MacLeod et al., 1993, Miller and Singh, 1994, Milligan and Gunn, 1997, Verduzco et al., 2004, Isles and Rankin, 2013, Dentith and Mudge, 2014.  \n",
    "\n"
   ]
  },
  {
   "cell_type": "markdown",
   "metadata": {},
   "source": [
    "## Total magnetic intensity data\n",
    "\n",
    "The below image shows the total magnetic intensity (TMI) that was calculated from the synthetic geologic model. The response is based on magnetic field parameters at the north pole, in other words, the magnetic field is vertical.  "
   ]
  },
  {
   "cell_type": "code",
   "execution_count": null,
   "metadata": {},
   "outputs": [],
   "source": [
    "## Load all libraries and setup the synthetic problem\n",
    "from library.Mag import Simulator, DataIO\n",
    "dataGrid = DataIO.fetchData(file=\"./assets/Synthetic/DataGrid.tiff\", dtype='GeoTiff', checkDir=True, loadFile=True)\n",
    "display(dataGrid)"
   ]
  },
  {
   "cell_type": "markdown",
   "metadata": {},
   "source": [
    "## Upward continuation\n",
    "\n",
    "Upward continuation can be considered a ‘wavelength’ filter. Upward continuation simulates the magnetic response that would be observed if data were collected at a greater height above the Earth’s surface than it was actually collected. The result is that longer-wavelength, deeper features are emphasized over shorter-wavelength, near-surface features. It is effective for interpretation of deeper geology, or for reducing noise that may be found in data collected very close to the ground. \n",
    "\n",
    "You can alternate between the upward contined response here and the TMI data using the drop-down menu labelled 'Grid Filters': ![gridfilters](./images/grid_filters_dropdown_20per_ppt.PNG)  Change the upward continuation height, or distance, using the slider bar labelled 'UpDist' (the default is 0 m, so you will need to change it to observe a change in the data): ![upwarddistSlider](./images/updist_height_20per_ppt.PNG) Note the small magnetic anomaly and the narrow fault feature quickly become indistinct with increased height. \n",
    "\n",
    "The options to change the sun-shading azimuth, angle, and transparency, as well as the color map, are retained from the gridding and visualization notebook (Notebook 2.1.2).  \n"
   ]
  },
  {
   "cell_type": "code",
   "execution_count": null,
   "metadata": {},
   "outputs": [],
   "source": [
    "selection = Simulator.gridFiltersWidget(\n",
    "    dataGrid.result[0], HSTransp=0, inc=90, dec=0,\n",
    "    shapeFile='./assets/Synthetic/Synthetic_Zcontours.shp')\n",
    "display(selection)"
   ]
  },
  {
   "cell_type": "code",
   "execution_count": null,
   "metadata": {},
   "outputs": [],
   "source": []
  }
 ],
 "metadata": {
  "kernelspec": {
   "display_name": "Python 3",
   "language": "python",
   "name": "python3"
  },
  "language_info": {
   "codemirror_mode": {
    "name": "ipython",
    "version": 3
   },
   "file_extension": ".py",
   "mimetype": "text/x-python",
   "name": "python",
   "nbconvert_exporter": "python",
   "pygments_lexer": "ipython3",
   "version": "3.6.4"
  }
 },
 "nbformat": 4,
 "nbformat_minor": 2
}
