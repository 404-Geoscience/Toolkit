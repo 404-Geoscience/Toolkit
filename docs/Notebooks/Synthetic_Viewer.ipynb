{
 "cells": [
  {
   "cell_type": "markdown",
   "metadata": {},
   "source": [
    "# 2.1.1.\tSynthetic - Magnetic Data Response#\n",
    "\n",
    "\n",
    "## Magnetic response of a simple geologic model\n",
    "\n",
    "\n",
    "![synthmodel](./images/SyntheticModel.png)\n",
    "\n",
    "The magnetic response (total field anomaly) of the geologic model is calculated on a series of east-west flight lines running roughly perpendicular to the general strike of geologic boundaries and structures featured in the model. Flight line spacing is 200 m. Data was collected at a flight height of 40 m. Topography is assumed to be flat in this example. \n",
    "\n",
    "An east-west profile through the magnetic data is shown below. The magnetic data are in nanoteslas (nT). The profile location can be changed using the slider bars, and the number of sampling points can be varied.\n",
    "\n",
    "The responses of the smaller and larger magnetic blocks are obvious in the profile, and occur directly over the sources (due to the magnetic field inclination being vertical in this example). The fault within the large eastern magnetic block is observed as a more subtle dip in the magnetic response.\n",
    "\n"
   ]
  },
  {
   "cell_type": "code",
   "execution_count": 1,
   "metadata": {},
   "outputs": [
    {
     "data": {
      "text/plain": [
       "<matplotlib.figure.Figure at 0x1a538daea20>"
      ]
     },
     "metadata": {},
     "output_type": "display_data"
    }
   ],
   "source": [
    "## Load all libraries and setup the synthetic problem\n",
    "from library.Mag import Mag, ProblemSetter, MathUtils, Simulator, DataIO\n",
    "\n",
    "\n",
    "# Load data and topo and build default model\n",
    "workDir = './assets/Synthetic/'\n",
    "fName = 'DataGrid.tiff'\n",
    "\n",
    "dataGrid = DataIO.loadGeoTiffFile(workDir+fName, plotIt=True)"
   ]
  },
  {
   "cell_type": "code",
   "execution_count": 2,
   "metadata": {},
   "outputs": [
    {
     "data": {
      "application/vnd.jupyter.widget-view+json": {
       "model_id": "623da80ceb81426c8455f7594401169f",
       "version_major": 2,
       "version_minor": 0
      },
      "text/html": [
       "<p>Failed to display Jupyter Widget of type <code>interactive</code>.</p>\n",
       "<p>\n",
       "  If you're reading this message in the Jupyter Notebook or JupyterLab Notebook, it may mean\n",
       "  that the widgets JavaScript is still loading. If this message persists, it\n",
       "  likely means that the widgets JavaScript library is either not installed or\n",
       "  not enabled. See the <a href=\"https://ipywidgets.readthedocs.io/en/stable/user_install.html\">Jupyter\n",
       "  Widgets Documentation</a> for setup instructions.\n",
       "</p>\n",
       "<p>\n",
       "  If you're reading this message in another frontend (for example, a static\n",
       "  rendering on GitHub or <a href=\"https://nbviewer.jupyter.org/\">NBViewer</a>),\n",
       "  it may mean that your frontend doesn't currently support widgets.\n",
       "</p>\n"
      ],
      "text/plain": [
       "interactive(children=(FloatSlider(value=-10.036722527700476, continuous_update=False, description='East', max=2539.9632774722995, min=-2560.0367225277005, step=10.0), FloatSlider(value=-28.5773809524253, continuous_update=False, description='North', max=2771.4226190475747, min=-2828.5773809524253, step=10.0), FloatSlider(value=90.0, continuous_update=False, description='Azimuth', max=180.0, step=5.0), FloatSlider(value=1893.5746618499097, continuous_update=False, description='Length', max=3787.1493236998194, min=20.0, step=20.0), BoundedFloatText(value=100.0, description='Sampling', max=1000.0, min=10.0, step=5.0), Output()), _dom_classes=('widget-interact',))"
      ]
     },
     "metadata": {},
     "output_type": "display_data"
    }
   ],
   "source": [
    "param = Simulator.ViewMagSurveyWidget(dataGrid)\n",
    "display(param)"
   ]
  },
  {
   "cell_type": "markdown",
   "metadata": {},
   "source": [
    "## Magnetic field effect on response\n",
    "\n",
    "As discussed in Section 1 on the Toolkit website (Magnetic Data - Background), the magnetic response will depend on the inclination, declination, and field strength of the magnetic field at the survey location. Use the drop down menu below, which looks like this, <img src=\"./images/location_dropdown.PNG\" width=\"300\" height=\"300\" /> to explore the range of responses (Total Magnetic Intensity) that would be measured if this same geologic (and magnetic rock properties) scenario existed at different locations on Earth (sites represent current Mineral Deposit Research Unit project sites, plus other locations to provide coverage). The red arrow at the bottom: <img src=\"./images/arrow_dropdown.PNG\" width=\"75\" height=\"75\" /> ![inc_dec_arrow](./images/arrow_location_small.png) illustrates the inclination and declination of the chosen location. \n",
    "\n",
    "Notice how data collected at very low latitudes near the magnetic equator (e.g. Chile and Peru locations) show magnetic anomlies offset significantly from their source due to the near-horizontal magnetic inclinations existing at these locations. TMI data from these very low latitude locations are very difficult to interpret, and additional processing or filtering is typically necessary. "
   ]
  },
  {
   "cell_type": "code",
   "execution_count": 3,
   "metadata": {},
   "outputs": [
    {
     "data": {
      "application/vnd.jupyter.widget-view+json": {
       "model_id": "f3c747846f144700b3e85a396512c96c",
       "version_major": 2,
       "version_minor": 0
      },
      "text/html": [
       "<p>Failed to display Jupyter Widget of type <code>interactive</code>.</p>\n",
       "<p>\n",
       "  If you're reading this message in the Jupyter Notebook or JupyterLab Notebook, it may mean\n",
       "  that the widgets JavaScript is still loading. If this message persists, it\n",
       "  likely means that the widgets JavaScript library is either not installed or\n",
       "  not enabled. See the <a href=\"https://ipywidgets.readthedocs.io/en/stable/user_install.html\">Jupyter\n",
       "  Widgets Documentation</a> for setup instructions.\n",
       "</p>\n",
       "<p>\n",
       "  If you're reading this message in another frontend (for example, a static\n",
       "  rendering on GitHub or <a href=\"https://nbviewer.jupyter.org/\">NBViewer</a>),\n",
       "  it may mean that your frontend doesn't currently support widgets.\n",
       "</p>\n"
      ],
      "text/plain": [
       "interactive(children=(Dropdown(description='Location:', options=('North Pole', 'Yukon', 'Northern BC', 'Montreal', 'Nevada', 'Mexico', 'Colombia', 'Peru', 'Chile', 'South Africa', 'Serbia', 'Turkey', 'Delhi', 'Beijing', 'Brisbane', 'South Pole'), value='North Pole'), Output()), _dom_classes=('widget-interact',))"
      ]
     },
     "metadata": {},
     "output_type": "display_data"
    }
   ],
   "source": [
    "import json\n",
    "# cities = shapefile.Reader('./assets/worldShapefile/ne_10m_populated_places_simple.shp')\n",
    "worldFile = './assets/Continents/continent.shp'\n",
    "\n",
    "# Load in the pre-defined locations\n",
    "with open('./assets/MAGlocations_w_field.json', 'r') as fp:\n",
    "    sites = json.load(fp)\n",
    "\n",
    "view = Simulator.worldViewerWidget(worldFile, sites, dataGrid)\n",
    "display(view)"
   ]
  },
  {
   "cell_type": "markdown",
   "metadata": {},
   "source": [
    " "
   ]
  }
 ],
 "metadata": {
  "kernelspec": {
   "display_name": "Python 3",
   "language": "python",
   "name": "python3"
  },
  "language_info": {
   "codemirror_mode": {
    "name": "ipython",
    "version": 3
   },
   "file_extension": ".py",
   "mimetype": "text/x-python",
   "name": "python",
   "nbconvert_exporter": "python",
   "pygments_lexer": "ipython3",
   "version": "3.6.4"
  }
 },
 "nbformat": 4,
 "nbformat_minor": 2
}
