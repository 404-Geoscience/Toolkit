{
 "cells": [
  {
   "cell_type": "markdown",
   "metadata": {},
   "source": [
    "# 2.1.1.\tSynthetic - Magnetic Data Response#\n",
    "\n",
    "\n",
    "## Magnetic response of a simple geologic model\n",
    "\n",
    "\n",
    "![synthmodel](./images/SyntheticModel.png)\n",
    "\n",
    "The magnetic response (total field anomaly) of the geologic model is calculated on a series of east-west flight lines running roughly perpendicular to the general strike of geologic boundaries and structures featured in the model. Flight line spacing is 200 m. Data was collected at a flight height of 40 m. Topography is assumed to be flat in this example. \n",
    "\n",
    "An east-west profile through the magnetic data is shown below. The magnetic data are in nanoteslas (nT). The profile location can be changed using the slider bars (labelled East, North, Azimuth, and Length), and the number of sampling points can be varied by typing a number into the box labelled 'Sampling'.\n",
    "\n",
    "The responses of the smaller and larger magnetic blocks are obvious in the profile, and occur directly over the sources (due to the magnetic field inclination being vertical in this example). The fault within the large eastern magnetic block is observed as a more subtle dip in the magnetic response.\n",
    "\n"
   ]
  },
  {
   "cell_type": "code",
   "execution_count": null,
   "metadata": {},
   "outputs": [],
   "source": [
    "## Load all libraries and setup the synthetic problem\n",
    "from library.Mag import Mag, ProblemSetter, MathUtils, Simulator, DataIO\n",
    "\n",
    "\n",
    "# Load data and topo and build default model\n",
    "workDir = './assets/Synthetic/'\n",
    "fName = 'DataGrid.tiff'\n",
    "\n",
    "dataGrid = DataIO.loadGeoTiffFile(workDir+fName, plotIt=True)"
   ]
  },
  {
   "cell_type": "code",
   "execution_count": null,
   "metadata": {},
   "outputs": [],
   "source": [
    "param = Simulator.ViewMagSurveyWidget(dataGrid)\n",
    "display(param)"
   ]
  },
  {
   "cell_type": "markdown",
   "metadata": {},
   "source": [
    "## Magnetic field effect on response\n",
    "\n",
    "As discussed in Section 1 on the Toolkit website (Magnetic Data - Background), the magnetic response will depend on the inclination, declination, and field strength of the magnetic field at the survey location. Use the drop down menu below, which looks like this, ![locationDrop](./images/location_dropdown2_20per_ppt.png) to explore the range of responses (Total Magnetic Intensity) that would be measured if this same geologic (and magnetic rock properties) scenario existed at different locations on Earth (sites represent current Mineral Deposit Research Unit project sites, plus other locations to provide coverage). The red arrow at the bottom: ![incDecArrow](./images/arrow_location_10per_ppt.png) illustrates the inclination and declination of the chosen location. \n",
    "Notice how data collected at very low latitudes near the magnetic equator (e.g. Chile and Peru locations) show magnetic anomlies offset significantly from their source due to the near-horizontal magnetic inclinations existing at these locations. TMI data from these very low latitude locations are very difficult to interpret, and additional processing or filtering is typically necessary. "
   ]
  },
  {
   "cell_type": "code",
   "execution_count": null,
   "metadata": {},
   "outputs": [],
   "source": [
    "import json\n",
    "# cities = shapefile.Reader('./assets/worldShapefile/ne_10m_populated_places_simple.shp')\n",
    "worldFile = './assets/Continents/continent.shp'\n",
    "\n",
    "# Load in the pre-defined locations\n",
    "with open('./assets/MAGlocations_w_field.json', 'r') as fp:\n",
    "    sites = json.load(fp)\n",
    "\n",
    "view = Simulator.worldViewerWidget(worldFile, sites, dataGrid)\n",
    "display(view)"
   ]
  },
  {
   "cell_type": "markdown",
   "metadata": {},
   "source": [
    " "
   ]
  }
 ],
 "metadata": {
  "kernelspec": {
   "display_name": "Python 3",
   "language": "python",
   "name": "python3"
  },
  "language_info": {
   "codemirror_mode": {
    "name": "ipython",
    "version": 3
   },
   "file_extension": ".py",
   "mimetype": "text/x-python",
   "name": "python",
   "nbconvert_exporter": "python",
   "pygments_lexer": "ipython3",
   "version": "3.6.5"
  }
 },
 "nbformat": 4,
 "nbformat_minor": 2
}
