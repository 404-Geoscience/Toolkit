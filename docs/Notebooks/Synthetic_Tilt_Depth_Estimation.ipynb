{
 "cells": [
  {
   "cell_type": "markdown",
   "metadata": {},
   "source": [
    "# 2.1.4.\tSynthetic - Depth to Source#\n",
    "\n",
    "There is yet more useful information that we can derive from a suite of high quality magnetic data, again using some simple techniques. It is possible to obtain information about the depth to the top of a magnetic body from magnetic data. \n",
    "\n",
    "Analyzing the depth to a magnetic source is valuable for many reasons. Having an approximation of the depth of a body, especially if it is expected to represent ore, is invariably useful for planning drill targets. In the case of some geologic bodies that might be related to mineralization such as porphyry intrusive bodies, the shape or topography of the intrusion can indicate were the regions of highest fluid flow might have occurred. Results of depth to source modelling can be used as a guide and starting point for 3D geological modelling or further exploration of the shape of the anomaly using forward modelling or inversion techniques. Depending on of course the physical properties, specifically the magnetic susceptibility, of the rock types within a study area, and their distribution and orientation, it is possible to find the depths to not only compact magnetic bodies, but possibly depths to the basement in general, or depths to particular stratigraphic horizons.\n",
    "\n",
    "For this exercise, we will find the depth of both the small high magnetic susceptibility body and the larger magnetic block in the 3D synthetic geologic model. We will use the tilt-depth method (Salem et al., 2007, Blakely et al., 2016) to do this. The tilt angle, discussed in Notebook 2.1.2., considers the vertical and horizontal magnetic gradients. Depth can be estimated where the tilt angle is zero, at the edge or margin of a feature or source. Depth to the edge of a source is then approximately half the distance between the 45deg and -45 degree contours of the calculated tilt angle.\n",
    "\n",
    "Inclination must be 90, thus reduced to pole data is used in this calculation. This method assumes that the magnetic body is simple and also vertically-sided, which means that the depth estimation will be less accurate for dipping bodies or bodies with complex margins. \n",
    "\n",
    "\n",
    "\n",
    "<!-- <img src=\"./images/SearchQuestII.png\"> -->\n"
   ]
  },
  {
   "cell_type": "markdown",
   "metadata": {},
   "source": [
    "## Total magnetic intensity data\n",
    "\n",
    "The below image shows the total magnetic intensity (TMI) that was calculated from the synthetic geologic model. The response is based on magnetic field parameters at the north pole, in other words, the magnetic field is vertical."
   ]
  },
  {
   "cell_type": "code",
   "execution_count": 1,
   "metadata": {},
   "outputs": [
    {
     "data": {
      "text/plain": [
       "<matplotlib.figure.Figure at 0x220f080da90>"
      ]
     },
     "metadata": {},
     "output_type": "display_data"
    }
   ],
   "source": [
    "## Load all libraries and setup the synthetic problem\n",
    "from library.Mag import Mag, ProblemSetter, MathUtils, Simulator, DataIO\n",
    "import numpy as np\n",
    "\n",
    "# Load data and topo and build default model\n",
    "workDir = \"./assets/Synthetic/\"\n",
    "fName = 'DataGrid.tiff'\n",
    "\n",
    "dataGrid = DataIO.loadGeoTiffFile(workDir+fName, plotIt=True)"
   ]
  },
  {
   "cell_type": "code",
   "execution_count": 2,
   "metadata": {},
   "outputs": [
    {
     "data": {
      "application/vnd.jupyter.widget-view+json": {
       "model_id": "4a45c07b6cdd4da9bd035b90e695e547",
       "version_major": 2,
       "version_minor": 0
      },
      "text/html": [
       "<p>Failed to display Jupyter Widget of type <code>interactive</code>.</p>\n",
       "<p>\n",
       "  If you're reading this message in the Jupyter Notebook or JupyterLab Notebook, it may mean\n",
       "  that the widgets JavaScript is still loading. If this message persists, it\n",
       "  likely means that the widgets JavaScript library is either not installed or\n",
       "  not enabled. See the <a href=\"https://ipywidgets.readthedocs.io/en/stable/user_install.html\">Jupyter\n",
       "  Widgets Documentation</a> for setup instructions.\n",
       "</p>\n",
       "<p>\n",
       "  If you're reading this message in another frontend (for example, a static\n",
       "  rendering on GitHub or <a href=\"https://nbviewer.jupyter.org/\">NBViewer</a>),\n",
       "  it may mean that your frontend doesn't currently support widgets.\n",
       "</p>\n"
      ],
      "text/plain": [
       "interactive(children=(FloatSlider(value=90.0, continuous_update=False, description='SunAzimuth', max=360.0, step=5.0), FloatSlider(value=15.0, continuous_update=False, description='SunAngle', max=90.0, step=5.0), FloatSlider(value=0.9, continuous_update=False, description='ColorTransp', max=1.0, step=0.05), FloatSlider(value=0.5, continuous_update=False, description='HSTransp', max=1.0, step=0.05), FloatSlider(value=5.0, continuous_update=False, description='vScale', max=10.0, min=1.0, step=1.0), Dropdown(description='ColorMap', index=3, options=('viridis', 'plasma', 'magma', 'RdBu_r', 'Greys_r', 'jet', 'rainbow', 'pink', 'bone', 'hsv', 'nipy_spectral'), value='RdBu_r'), Dropdown(description='Grid Filters', options=('upwardContinuation', 'TMI'), value='upwardContinuation'), FloatSlider(value=0.0, continuous_update=False, description='UpwardDistance', max=500.0, step=10.0), ToggleButton(value=False, description='Refresh', icon='check', tooltip='Description'), ToggleButton(value=False, description='Export Grid', icon='check', tooltip='Description'), Output()), _dom_classes=('widget-interact',))"
      ]
     },
     "metadata": {},
     "output_type": "display_data"
    }
   ],
   "source": [
    "selection = Simulator.gridFiltersWidget(dataGrid, gridFilter='upwardContinuation')\n",
    "display(selection)"
   ]
  },
  {
   "cell_type": "markdown",
   "metadata": {},
   "source": [
    "## Tilt angle\n",
    "\n",
    "The tilt angle map (also calculated in Notebook 2.1.4) is shown below. The zero contour is expected to represent edges of geological bodies, and is where tilt-depth calculations are focused. "
   ]
  },
  {
   "cell_type": "code",
   "execution_count": 3,
   "metadata": {},
   "outputs": [],
   "source": [
    "polylines, attributes = MathUtils.estimateDepth(selection.result)\n",
    "\n",
    "# Export to shapefile\n",
    "DataIO.exportShapefile(polylines, attributes, EPSGCode=26909, fileName='Tilt2Depth', label='AverageDepth')"
   ]
  },
  {
   "cell_type": "markdown",
   "metadata": {},
   "source": [
    "## Tilt-depth\n",
    "\n",
    "Here we have extracted the zero contour and painted onto the contour the estimated depth to source at that location. The depth is the half-distance calculated between the +/-45 degree contours. The contour can be superimposed on either the TMI data map or the tilt map for comparison. \n",
    "\n",
    "The depth of the edges of the smaller magnetic body is estimated at 86 m depth and the depth of the large magnetic block is estimated at 104 m, both estimates are relatively close to the true depths of 100 m for these blocks. The contacts of the smaller and larger magnetic blocks are vertical thus the tilt-depth estimation is expected to be more accurate. The northwest trending fault within the large magnetic block has edges modelled at 73 m depth. This fault dips at 80 degrees and depth to the top of the edge of this feature is possibly less well-estimated due to it's dip. \n"
   ]
  },
  {
   "cell_type": "markdown",
   "metadata": {},
   "source": [
    "## Plot properties\n",
    "\n",
    "- The size of the markers for the estimated depth can be changed in the dictionary below with the key 'size'"
   ]
  },
  {
   "cell_type": "code",
   "execution_count": 4,
   "metadata": {},
   "outputs": [
    {
     "data": {
      "application/vnd.jupyter.widget-view+json": {
       "model_id": "8b57455a8ba8469d9b24ca61b80c2226",
       "version_major": 2,
       "version_minor": 0
      },
      "text/html": [
       "<p>Failed to display Jupyter Widget of type <code>interactive</code>.</p>\n",
       "<p>\n",
       "  If you're reading this message in the Jupyter Notebook or JupyterLab Notebook, it may mean\n",
       "  that the widgets JavaScript is still loading. If this message persists, it\n",
       "  likely means that the widgets JavaScript library is either not installed or\n",
       "  not enabled. See the <a href=\"https://ipywidgets.readthedocs.io/en/stable/user_install.html\">Jupyter\n",
       "  Widgets Documentation</a> for setup instructions.\n",
       "</p>\n",
       "<p>\n",
       "  If you're reading this message in another frontend (for example, a static\n",
       "  rendering on GitHub or <a href=\"https://nbviewer.jupyter.org/\">NBViewer</a>),\n",
       "  it may mean that your frontend doesn't currently support widgets.\n",
       "</p>\n"
      ],
      "text/plain": [
       "interactive(children=(FloatSlider(value=90.0, continuous_update=False, description='SunAzimuth', max=360.0, step=5.0), FloatSlider(value=15.0, continuous_update=False, description='SunAngle', max=90.0, step=5.0), FloatSlider(value=0.9, continuous_update=False, description='ColorTransp', max=1.0, step=0.05), FloatSlider(value=0.5, continuous_update=False, description='HSTransp', max=1.0, step=0.05), FloatSlider(value=5.0, continuous_update=False, description='vScale', max=10.0, min=1.0, step=1.0), Dropdown(description='ColorMap', index=3, options=('viridis', 'plasma', 'magma', 'RdBu_r', 'Greys_r', 'jet', 'rainbow', 'pink', 'bone', 'hsv', 'nipy_spectral'), value='RdBu_r'), Dropdown(description='Grid Filters', options=('tiltAngle', 'TMI'), value='tiltAngle'), ToggleButton(value=False, description='Refresh', icon='check', tooltip='Description'), ToggleButton(value=False, description='Export Grid', icon='check', tooltip='Description'), Output()), _dom_classes=('widget-interact',))"
      ]
     },
     "metadata": {},
     "output_type": "display_data"
    }
   ],
   "source": [
    "scatterData = {}\n",
    "scatterData['x'] = np.vstack(polylines)[:,0]\n",
    "scatterData['y'] = np.vstack(polylines)[:,1]\n",
    "scatterData['size'] = 25\n",
    "scatterData['c'] = np.concatenate(attributes)\n",
    "scatterData['cmap'] = 'viridis'\n",
    "scatterData['clim'] = [0, 250]\n",
    "\n",
    "param = Simulator.gridFiltersWidget(selection.result, \n",
    "                                    gridFilter='tiltAngle', \n",
    "                                    figName='TiltAngle_Synthetic',\n",
    "                                    scatterData=scatterData)\n",
    "display(param)"
   ]
  },
  {
   "cell_type": "markdown",
   "metadata": {},
   "source": [
    "  "
   ]
  }
 ],
 "metadata": {
  "kernelspec": {
   "display_name": "Python 3",
   "language": "python",
   "name": "python3"
  },
  "language_info": {
   "codemirror_mode": {
    "name": "ipython",
    "version": 3
   },
   "file_extension": ".py",
   "mimetype": "text/x-python",
   "name": "python",
   "nbconvert_exporter": "python",
   "pygments_lexer": "ipython3",
   "version": "3.6.4"
  }
 },
 "nbformat": 4,
 "nbformat_minor": 2
}
