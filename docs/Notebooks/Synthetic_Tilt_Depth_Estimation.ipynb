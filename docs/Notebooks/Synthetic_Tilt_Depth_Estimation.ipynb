{
 "cells": [
  {
   "cell_type": "markdown",
   "metadata": {},
   "source": [
    "# 2.1.4.\tSynthetic - Edge Detection and Depth to Source#\n",
    "\n",
    "Additional useful information to aid geologic interpretation can be derived from a suite of high quality magnetic data, again using some simple techniques. Source edges and depths can be estimated from magnetic gradients where there is sufficient magnetic susceptibility contrast between adjacent geologic bodies or features. \n",
    "\n",
    "Analyzing the depth to a magnetic source is valuable for many reasons. Having an approximation of the depth of a body, especially if it is expected to represent ore, is invariably useful for planning drill targets. For some geologic bodies, such as porphyry intrusions, the shape or topography of the intrusion can indicate were the regions of highest fluid flow might have occurred. Results of depth to source modelling can be used as a guide and starting point for 3D geological modelling or further exploration of the shape of the anomaly using forward modelling or inversion techniques. Depending of course on the physical properties, specifically the magnetic susceptibility, of the rock types within a study area, and their distribution and orientation, it is possible to find the depths to not only compact magnetic bodies, but depth to basement below cover, or depths to magnetic stratigraphic horizons.\n",
    "\n",
    "For this exercise, we will find the edges and depths of both the small high magnetic susceptibility body and the larger magnetic block in the 3D synthetic geologic model. We will use the **tilt-depth method** (Salem et al., 2007, Blakely et al., 2016) to do this. The tilt angle, discussed in Notebook 2.1.3., considers the vertical and horizontal magnetic gradients. Depth can be estimated where the tilt angle is zero, at the edge or margin of a feature or source. Depth to the edge of a source is then approximately half the distance between the +45 degree and -45 degree contours of the calculated tilt angle.\n",
    "\n",
    "Inclination must be 90, thus reduced to pole data is used in this calculation. This method assumes that the magnetic body is simple and also vertically-sided, which means that the depth estimation will be less accurate for dipping bodies or bodies with complex margins. \n",
    "\n"
   ]
  },
  {
   "cell_type": "markdown",
   "metadata": {},
   "source": [
    "## Total magnetic intensity data and upward continuation\n",
    "\n",
    "The below image shows the total magnetic intensity (TMI) that was calculated from the synthetic geologic model. You can use the 'UpDist' slider bar to change the upward continuation distance if it is of interest to identify edges and depths of deeper, larger, or more regional-scale bodies. "
   ]
  },
  {
   "cell_type": "code",
   "execution_count": null,
   "metadata": {},
   "outputs": [],
   "source": [
    "## Load all libraries and setup the synthetic problem\n",
    "from library.Mag import Simulator, DataIO\n",
    "dataGrid = DataIO.fetchData(path=\"./assets/Synthetic/DataGrid.tiff\", dtype='GeoTiff', loadFile=True)\n",
    "display(dataGrid)"
   ]
  },
  {
   "cell_type": "code",
   "execution_count": null,
   "metadata": {},
   "outputs": [],
   "source": [
    "view = Simulator.gridTilt2Depth(dataGrid.result, EPSGCode=26909, HSTransp=0, ColorMap='Greys_r', shapeFile='./assets/Synthetic/Synthetic_Zcontours.shp')\n",
    "display(view)"
   ]
  },
  {
   "cell_type": "markdown",
   "metadata": {},
   "source": [
    "  "
   ]
  }
 ],
 "metadata": {
  "kernelspec": {
   "display_name": "Python 3",
   "language": "python",
   "name": "python3"
  },
  "language_info": {
   "codemirror_mode": {
    "name": "ipython",
    "version": 3
   },
   "file_extension": ".py",
   "mimetype": "text/x-python",
   "name": "python",
   "nbconvert_exporter": "python",
   "pygments_lexer": "ipython3",
   "version": "3.6.5"
  }
 },
 "nbformat": 4,
 "nbformat_minor": 2
}
