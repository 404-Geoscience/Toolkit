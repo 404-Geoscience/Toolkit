{
 "cells": [
  {
   "cell_type": "markdown",
   "metadata": {},
   "source": [
    "# 2.1.4.\tSynthetic - Edge Detection and Depth to Source#\n",
    "\n",
    "Additional useful information to aid geologic interpretation can be derived from a suite of high quality magnetic data, again using some simple techniques. Source edges and depths can be estimated from magnetic gradients where there is sufficient magnetic susceptibility contrast between adjacent geologic bodies or features. \n",
    "\n",
    "Analyzing the depth to a magnetic source is valuable for many reasons. Having an approximation of the depth of a body, especially if it is expected to represent ore, is invariably useful for planning drill targets. For some geologic bodies, such as porphyry intrusions, the shape or topography of the intrusion can indicate were the regions of highest fluid flow might have occurred. Results of depth to source modelling can be used as a guide and starting point for 3D geological modelling or further exploration of the shape of the anomaly using forward modelling or inversion techniques. Depending of course on the physical properties, specifically the magnetic susceptibility, of the rock types within a study area, and their distribution and orientation, it is possible to find the depths to not only compact magnetic bodies, but depth to basement below cover, or depths to magnetic stratigraphic horizons.\n",
    "\n",
    "For this exercise, we will find the edges and depths of both the small high magnetic susceptibility body and the larger magnetic block in the 3D synthetic geologic model. We will use the **tilt-depth method** (Salem et al., 2007, Blakely et al., 2016) to do this. The tilt angle, discussed in Notebook 2.1.3., considers the vertical and horizontal magnetic gradients. Depth can be estimated where the tilt angle is zero, at the edge or margin of a feature or source. Depth to the edge of a source is then approximately half the distance between the +45 degree and -45 degree contours of the calculated tilt angle.\n",
    "\n",
    "Inclination must be 90, thus reduced to pole data is used in this calculation. This method assumes that the magnetic body is simple and also vertically-sided, which means that the depth estimation will be less accurate for dipping bodies or bodies with complex margins. \n",
    "\n"
   ]
  },
  {
   "cell_type": "markdown",
   "metadata": {},
   "source": [
    "## Total magnetic intensity data and upward continuation\n",
    "\n",
    "The below image shows the total magnetic intensity (TMI) that was calculated from the synthetic geologic model. You can use the 'UpDist' slider bar to change the upward continuation distance if it is of interest to identify edges and depths of deeper, larger, or more regional-scale bodies. "
   ]
  },
  {
   "cell_type": "code",
   "execution_count": null,
   "metadata": {},
   "outputs": [],
   "source": [
    "## Load all libraries and setup the synthetic problem\n",
    "from library.Mag import Mag, ProblemSetter, MathUtils, Simulator, DataIO\n",
    "import numpy as np\n",
    "\n",
    "# Load data and topo and build default model\n",
    "workDir = \"./assets/Synthetic/\"\n",
    "fName = 'DataGrid.tiff'\n",
    "\n",
    "dataGrid = DataIO.loadGeoTiffFile(workDir + fName, plotIt=True)"
   ]
  },
  {
   "cell_type": "code",
   "execution_count": null,
   "metadata": {},
   "outputs": [],
   "source": [
    "view = Simulator.gridFiltersWidget(dataGrid, gridFilter='upwardContinuation', HSTransp=0)\n",
    "display(view)"
   ]
  },
  {
   "cell_type": "code",
   "execution_count": null,
   "metadata": {},
   "outputs": [],
   "source": [
    "polylines, attributes = MathUtils.estimateDepth(selection.result)\n",
    "\n",
    "# Export to shapefile\n",
    "DataIO.exportShapefile(polylines, attributes, EPSGCode=26909, saveAs='Tilt2Depth', label='AverageDepth')"
   ]
  },
  {
   "cell_type": "markdown",
   "metadata": {},
   "source": [
    "## Tilt angle and tilt-depth\n",
    "\n",
    "The tilt angle map (also calculated in Notebook 2.1.3) is shown below. The zero contour should approximate the locations of edges of geological bodies, if we assume vertically-sided bodies or features. Tilt-depth is calculated along the zero contour. \n",
    "\n",
    "The zero contours are superimposed on the tilt-angle map, and painted onto the contours is the estimated depth to source at that location. The depth is the half-distance calculated between the +/-45 degree contours. The contours can alternatively be superimposed on the TMI grid for comparison using the 'Grid Filters' drop-down menu. \n",
    "\n",
    "- The size of the markers for the estimated depth can be changed in the dictionary below with the key 'size'\n",
    "\n",
    "The depth of the edges of the smaller magnetic body is estimated at 86 m depth and the depth of the large magnetic block is estimated at 104 m, both estimates are relatively close to the true depths of 100 m for these blocks. The contacts of the smaller and larger magnetic blocks are vertical thus the tilt-depth estimation is expected to be reasonably accurate. The northwest trending fault within the large magnetic block has edges modelled at 73 m depth. This fault dips at 80 degrees and depth to the top of the edge of this feature is possibly less well-estimated due to it's dip. \n",
    "\n",
    "If depths to more regional features only are desired, you can upward continue the data before applying the tilt-depth calculation. Simply return to the cell above and choose a new distance, or height, for upward continuation, using the 'UpDist' slider bar. You will have to click on the 'Refresh' button below to re-calculate the tilt-depth associated with the newly chosen upward continuation distance.  \n"
   ]
  },
  {
   "cell_type": "code",
   "execution_count": null,
   "metadata": {},
   "outputs": [],
   "source": [
    "scatterData = {}\n",
    "scatterData['x'] = np.vstack(polylines)[:,0]\n",
    "scatterData['y'] = np.vstack(polylines)[:,1]\n",
    "scatterData['size'] = 25\n",
    "scatterData['c'] = np.concatenate(attributes)\n",
    "scatterData['cmap'] = 'viridis'\n",
    "scatterData['clim'] = [0, 250]\n",
    "\n",
    "param = Simulator.gridFiltersWidget(selection.result, \n",
    "                                    gridFilter='tiltAngle', \n",
    "                                    saveAs='TiltAngle_Synthetic',\n",
    "                                    scatterData=scatterData)\n",
    "display(param)"
   ]
  },
  {
   "cell_type": "markdown",
   "metadata": {},
   "source": [
    "  "
   ]
  }
 ],
 "metadata": {
  "kernelspec": {
   "display_name": "Python 3",
   "language": "python",
   "name": "python3"
  },
  "language_info": {
   "codemirror_mode": {
    "name": "ipython",
    "version": 3
   },
   "file_extension": ".py",
   "mimetype": "text/x-python",
   "name": "python",
   "nbconvert_exporter": "python",
   "pygments_lexer": "ipython3",
   "version": "3.6.5"
  }
 },
 "nbformat": 4,
 "nbformat_minor": 2
}
