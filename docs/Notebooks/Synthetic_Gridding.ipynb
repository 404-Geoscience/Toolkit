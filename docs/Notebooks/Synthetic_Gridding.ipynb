{
 "cells": [
  {
   "cell_type": "markdown",
   "metadata": {},
   "source": [
    "# 2.1.2.\tSynthetic - Data Gridding and Visualization\n",
    "\n"
   ]
  },
  {
   "cell_type": "markdown",
   "metadata": {},
   "source": [
    "## Gridding the magnetic data\n",
    "\n",
    "Magnetic data should be gridded prior to applying transforms and filters. This means that the flight line data must be interpolated on a regular 2D grid. There are numerous possible ways to grid data (Briggs, 1974; Parker et al., 1983). The minimum curvature method is shown to be robust and yield a sensible and smooth result, so we have chosen minimum curvature as the default option to complete the gridding for the synthetic model data. We have provided options below to explore the gridding resolution and the method using the drop down menus.  \n",
    "\n",
    "The resulting gridded data shows the larger and smaller magnetic bodies, and the magnetic low related to the northwest trending structure cross-cutting the larger magnetic domain.\n"
   ]
  },
  {
   "cell_type": "code",
   "execution_count": null,
   "metadata": {},
   "outputs": [],
   "source": [
    "## Load all libraries and setup the synthetic problem\n",
    "from library.Mag import Mag, ProblemSetter, MathUtils, Simulator, DataIO\n",
    "import numpy as np\n",
    "\n",
    "# Load data and topo and build default model\n",
    "survey = Mag.readMagneticsObservations('./assets/TKC/DIGHEM_Mag_floor10nt_25m.obs')\n",
    "topo = np.genfromtxt('./assets/TKC/TKCtopoDwnS.dat', skip_header=1)\n",
    "locs = survey.srcField.rxList[0].locs\n",
    "\n",
    "# Build the problem\n",
    "survey = ProblemSetter.setSyntheticProblem(locs, topo=topo)\n"
   ]
  },
  {
   "cell_type": "code",
   "execution_count": null,
   "metadata": {},
   "outputs": [],
   "source": [
    "view = Simulator.dataGriddingWidget(survey, saveAs=\"DataGrid\")\n",
    "display(view)"
   ]
  },
  {
   "cell_type": "markdown",
   "metadata": {},
   "source": [
    "## Data visualization and image enhancement\n",
    "\n",
    "Simple enhancements to the image can help an interpreter better visualize features within magnetic data. Applying sun-shading from various angles, experimenting with colour contrast, and adding contour lines are a simple means to explore the data initially. Various image enhancement options can be tested on the synthetic gridded magnetic data below.  \n",
    "\n",
    "**Sun-shading**. Try using the slider bars above the map - they look like this - ![sunshade](./images/shading_contours_20per_ppt.PNG) \n",
    "\n",
    "to change the direction (SunAzimuth) and angle (SunAngle) of sun shading, to vary color transparency (ColorTransp) and sun-shade transparency (HSTransp), change the vertical scale (vScale), and to manipulate magnetic contour lines (MagContour).\n",
    "\n",
    "**Color maps**. The color map, or color 'look-up table', can also be changed. Some color maps will do an obviously better job of enhancing a large range of features (color maps with a larger color range for example), while others may be used to highlight specific ranges of data, and yet others used simply because of an interpreter's personal preference. Several color maps are available in the drop down menu labelled ColorMap. You can also modify the color range here using a slider bar (Color Range): ![colormap](./images/colormap_range_20per_ppt.PNG)\n",
    "\n",
    "\n",
    "\n",
    "\n",
    "\n",
    "\n",
    "Choice of color map is an often-debated topic in geophysics and in other fields requiring image analysis (e.g. Light and Bartlein, 2004; Borland and Taylor, 2007; Niccoli and Lynch, 2012; Froner et al., 2013). An important point to consider is that some color maps have the 'brightest' colors at the top of the scale, for example, grey scale and viridis: \n",
    "\n",
    "\n",
    "![greyscale](./images/gray_15per_ppt.PNG)\n",
    "![viridis](./images/viridis_15per_ppt.PNG)\n",
    "\n",
    "\n",
    "whereas others have the brightest color in the mid-ranges, for example, rainbow, jet, and red-blue:\n",
    "\n",
    "![rainbow](./images/rainbow_15per_ppt.PNG)\n",
    "![jet](./images/jet_15per_ppt.PNG)\n",
    "![redblue](./images/redblue_15per_ppt.PNG)\n",
    "\n",
    "\n",
    "\n",
    "This color ordering can be deceptive to the eye of an interpreter who is sensitive to color contrast. A color map with the brightest color in the mid-ranges and may cause problems if a map is printed in greyscale - suddenly mid-range values are the most brightest and seemingly anomalous features. Having bright colors in the mid-range however, may be useful for visually separating areas of high versus low magnetic response.       \n",
    "\n",
    "**Color stretch**. Finally, the color stretch can be changed using the color normalization drop-down (Color Norm):![colornorm](./images/color_normalization_25per_ppt.PNG)\n",
    "Here we've allowed two options, a linear stretch (Linear), and a histogram equalized (HistEqualized) stretch. Using a linear stretch, the values within a range of magnetic data are mapped to 256 classes or bins within a chosen color map in a linear manner, meaning if there are few anomalously high values (outliers) in the range, the 'strongest' color values will be mapped rarely. If there are many middle-range values, the image may be flooded with mid range color values. While a linear color stretch will highlight the most anomalous values, it can wash out subtler features in the data. Histogram equialization will vary the color bin sizes to map an equal number of data points per bin, essentially giving equal weight to low, mid-range, and high magnetic values.       "
   ]
  },
  {
   "cell_type": "code",
   "execution_count": null,
   "metadata": {},
   "outputs": [],
   "source": [
    "view = Simulator.dataHillsideWidget(view.result, EPSGCode=26909, saveAs='DataHillshade', dpi=300)\n",
    "display(view)"
   ]
  },
  {
   "cell_type": "markdown",
   "metadata": {},
   "source": [
    " "
   ]
  }
 ],
 "metadata": {
  "kernelspec": {
   "display_name": "Python 3",
   "language": "python",
   "name": "python3"
  },
  "language_info": {
   "codemirror_mode": {
    "name": "ipython",
    "version": 3
   },
   "file_extension": ".py",
   "mimetype": "text/x-python",
   "name": "python",
   "nbconvert_exporter": "python",
   "pygments_lexer": "ipython3",
   "version": "3.6.5"
  }
 },
 "nbformat": 4,
 "nbformat_minor": 2
}
