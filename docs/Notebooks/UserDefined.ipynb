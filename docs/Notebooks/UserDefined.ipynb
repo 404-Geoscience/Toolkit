{
 "cells": [
  {
   "cell_type": "markdown",
   "metadata": {},
   "source": [
    "# 2.1.2.  User Data - Download, grid, explore\n",
    "\n"
   ]
  },
  {
   "cell_type": "code",
   "execution_count": null,
   "metadata": {},
   "outputs": [],
   "source": [
    "import os\n",
    "if os.name == 'nt':\n",
    "    !pip install geosoft"
   ]
  },
  {
   "cell_type": "code",
   "execution_count": null,
   "metadata": {},
   "outputs": [],
   "source": [
    "from library.Mag import Mag, ProblemSetter, MathUtils, Simulator, DataIO"
   ]
  },
  {
   "cell_type": "code",
   "execution_count": null,
   "metadata": {},
   "outputs": [],
   "source": [
    "download = DataIO.fetchData(path=\"http://cdn.geosciencebc.com/project_data/QUEST-West/Gravity/GBCReport2008-10_09N.zip\", localCloud='Cloud')\n",
    "display(download)\n",
    "# \"./assets/Synthetic/\"\n",
    "# \n",
    "#     \"https://www.dropbox.com/s/keggwmaal6wj1rh/Synthetic_Forward_TMI.dat?dl=0\"\n",
    "# file = DataIO.fetchData(download.result, file='DataGrid.tiff')\n",
    "# \"https://www.dropbox.com/sh/0j1e71jyn9yqbbq/AADI79Tf0UExRf8l5osOuShba/DapDownload_d279324.zip?dl=0\""
   ]
  },
  {
   "cell_type": "code",
   "execution_count": null,
   "metadata": {},
   "outputs": [],
   "source": [
    "if download.result is not None:\n",
    "    if (download.result[1] == \"CSV\")  :\n",
    "        grid = Simulator.dataGriddingWidget(download.result[0], saveAs=\"DataGrid\")\n",
    "        display(grid)\n",
    "        gridData = grid.result\n",
    "    else:\n",
    "        gridData = download.result[0]"
   ]
  },
  {
   "cell_type": "code",
   "execution_count": null,
   "metadata": {},
   "outputs": [],
   "source": [
    "if download.result is not None:\n",
    "    selection = Simulator.setDataExtentWidget(gridData)\n",
    "    display(selection)"
   ]
  },
  {
   "cell_type": "code",
   "execution_count": null,
   "metadata": {},
   "outputs": [],
   "source": [
    "if download.result is not None:\n",
    "    grid = Simulator.gridFiltersWidget(selection.result, saveAs='SearchFilter')\n",
    "    display(grid)"
   ]
  },
  {
   "cell_type": "markdown",
   "metadata": {},
   "source": [
    " "
   ]
  }
 ],
 "metadata": {
  "kernelspec": {
   "display_name": "Python 3",
   "language": "python",
   "name": "python3"
  },
  "language_info": {
   "codemirror_mode": {
    "name": "ipython",
    "version": 3
   },
   "file_extension": ".py",
   "mimetype": "text/x-python",
   "name": "python",
   "nbconvert_exporter": "python",
   "pygments_lexer": "ipython3",
   "version": "3.6.5"
  }
 },
 "nbformat": 4,
 "nbformat_minor": 2
}
